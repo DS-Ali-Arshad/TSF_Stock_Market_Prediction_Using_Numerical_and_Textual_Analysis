{
  "nbformat": 4,
  "nbformat_minor": 0,
  "metadata": {
    "colab": {
      "provenance": [],
      "gpuType": "T4"
    },
    "kernelspec": {
      "name": "python3",
      "display_name": "Python 3"
    },
    "language_info": {
      "name": "python"
    },
    "accelerator": "GPU"
  },
  "cells": [
    {
      "cell_type": "markdown",
      "metadata": {
        "id": "TEriVa4vMSQL"
      },
      "source": [
        "#Import Libraries"
      ]
    },
    {
      "cell_type": "code",
      "execution_count": 1,
      "metadata": {
        "id": "82ANEuOOvWNT"
      },
      "outputs": [],
      "source": [
        "import numpy as np\n",
        "import pandas as pd\n",
        "import seaborn as sns\n",
        "import matplotlib.pyplot as plt"
      ]
    },
    {
      "cell_type": "markdown",
      "metadata": {
        "id": "EXtx1htmMWSB"
      },
      "source": [
        "#Mounting the Drive\n",
        "**To read the file (Dataset)**"
      ]
    },
    {
      "cell_type": "code",
      "execution_count": 2,
      "metadata": {
        "colab": {
          "base_uri": "https://localhost:8080/"
        },
        "id": "pFRH-pjIx2fu",
        "outputId": "6a762e8b-fba0-4b5a-bb6e-3b6e3f484f53",
        "scrolled": true
      },
      "outputs": [
        {
          "output_type": "stream",
          "name": "stdout",
          "text": [
            "Mounted at /content/drive\n"
          ]
        }
      ],
      "source": [
        "from google.colab import drive\n",
        "drive.mount('/content/drive')"
      ]
    },
    {
      "cell_type": "code",
      "execution_count": 3,
      "metadata": {
        "id": "07IBg4NEyhFH"
      },
      "outputs": [],
      "source": [
        "path = '/content/drive/My Drive/india-news-headlines.csv' #dataset file path"
      ]
    },
    {
      "cell_type": "markdown",
      "source": [
        "#**Data Collection**"
      ],
      "metadata": {
        "id": "mlRK7bmgFBXY"
      }
    },
    {
      "cell_type": "markdown",
      "source": [
        "##**News Data**"
      ],
      "metadata": {
        "id": "wFUPbQZtVOL1"
      }
    },
    {
      "cell_type": "code",
      "execution_count": 4,
      "metadata": {
        "id": "8zpP2pJXy5jb"
      },
      "outputs": [],
      "source": [
        "news_df = pd.read_csv(path)"
      ]
    },
    {
      "cell_type": "code",
      "execution_count": 5,
      "metadata": {
        "colab": {
          "base_uri": "https://localhost:8080/",
          "height": 206
        },
        "id": "BCZz9KTZy_vO",
        "outputId": "d0f267ef-90d3-4da6-c9d0-4878fd7fafba",
        "scrolled": true
      },
      "outputs": [
        {
          "output_type": "execute_result",
          "data": {
            "text/plain": [
              "   publish_date headline_category  \\\n",
              "0      20010102           unknown   \n",
              "1      20010102           unknown   \n",
              "2      20010102           unknown   \n",
              "3      20010102           unknown   \n",
              "4      20010102           unknown   \n",
              "\n",
              "                                       headline_text  \n",
              "0  Status quo will not be disturbed at Ayodhya; s...  \n",
              "1                Fissures in Hurriyat over Pak visit  \n",
              "2              America's unwanted heading for India?  \n",
              "3                 For bigwigs; it is destination Goa  \n",
              "4               Extra buses to clear tourist traffic  "
            ],
            "text/html": [
              "\n",
              "  <div id=\"df-35dffa34-7346-40ec-a8ee-194f658951b7\" class=\"colab-df-container\">\n",
              "    <div>\n",
              "<style scoped>\n",
              "    .dataframe tbody tr th:only-of-type {\n",
              "        vertical-align: middle;\n",
              "    }\n",
              "\n",
              "    .dataframe tbody tr th {\n",
              "        vertical-align: top;\n",
              "    }\n",
              "\n",
              "    .dataframe thead th {\n",
              "        text-align: right;\n",
              "    }\n",
              "</style>\n",
              "<table border=\"1\" class=\"dataframe\">\n",
              "  <thead>\n",
              "    <tr style=\"text-align: right;\">\n",
              "      <th></th>\n",
              "      <th>publish_date</th>\n",
              "      <th>headline_category</th>\n",
              "      <th>headline_text</th>\n",
              "    </tr>\n",
              "  </thead>\n",
              "  <tbody>\n",
              "    <tr>\n",
              "      <th>0</th>\n",
              "      <td>20010102</td>\n",
              "      <td>unknown</td>\n",
              "      <td>Status quo will not be disturbed at Ayodhya; s...</td>\n",
              "    </tr>\n",
              "    <tr>\n",
              "      <th>1</th>\n",
              "      <td>20010102</td>\n",
              "      <td>unknown</td>\n",
              "      <td>Fissures in Hurriyat over Pak visit</td>\n",
              "    </tr>\n",
              "    <tr>\n",
              "      <th>2</th>\n",
              "      <td>20010102</td>\n",
              "      <td>unknown</td>\n",
              "      <td>America's unwanted heading for India?</td>\n",
              "    </tr>\n",
              "    <tr>\n",
              "      <th>3</th>\n",
              "      <td>20010102</td>\n",
              "      <td>unknown</td>\n",
              "      <td>For bigwigs; it is destination Goa</td>\n",
              "    </tr>\n",
              "    <tr>\n",
              "      <th>4</th>\n",
              "      <td>20010102</td>\n",
              "      <td>unknown</td>\n",
              "      <td>Extra buses to clear tourist traffic</td>\n",
              "    </tr>\n",
              "  </tbody>\n",
              "</table>\n",
              "</div>\n",
              "    <div class=\"colab-df-buttons\">\n",
              "\n",
              "  <div class=\"colab-df-container\">\n",
              "    <button class=\"colab-df-convert\" onclick=\"convertToInteractive('df-35dffa34-7346-40ec-a8ee-194f658951b7')\"\n",
              "            title=\"Convert this dataframe to an interactive table.\"\n",
              "            style=\"display:none;\">\n",
              "\n",
              "  <svg xmlns=\"http://www.w3.org/2000/svg\" height=\"24px\" viewBox=\"0 -960 960 960\">\n",
              "    <path d=\"M120-120v-720h720v720H120Zm60-500h600v-160H180v160Zm220 220h160v-160H400v160Zm0 220h160v-160H400v160ZM180-400h160v-160H180v160Zm440 0h160v-160H620v160ZM180-180h160v-160H180v160Zm440 0h160v-160H620v160Z\"/>\n",
              "  </svg>\n",
              "    </button>\n",
              "\n",
              "  <style>\n",
              "    .colab-df-container {\n",
              "      display:flex;\n",
              "      gap: 12px;\n",
              "    }\n",
              "\n",
              "    .colab-df-convert {\n",
              "      background-color: #E8F0FE;\n",
              "      border: none;\n",
              "      border-radius: 50%;\n",
              "      cursor: pointer;\n",
              "      display: none;\n",
              "      fill: #1967D2;\n",
              "      height: 32px;\n",
              "      padding: 0 0 0 0;\n",
              "      width: 32px;\n",
              "    }\n",
              "\n",
              "    .colab-df-convert:hover {\n",
              "      background-color: #E2EBFA;\n",
              "      box-shadow: 0px 1px 2px rgba(60, 64, 67, 0.3), 0px 1px 3px 1px rgba(60, 64, 67, 0.15);\n",
              "      fill: #174EA6;\n",
              "    }\n",
              "\n",
              "    .colab-df-buttons div {\n",
              "      margin-bottom: 4px;\n",
              "    }\n",
              "\n",
              "    [theme=dark] .colab-df-convert {\n",
              "      background-color: #3B4455;\n",
              "      fill: #D2E3FC;\n",
              "    }\n",
              "\n",
              "    [theme=dark] .colab-df-convert:hover {\n",
              "      background-color: #434B5C;\n",
              "      box-shadow: 0px 1px 3px 1px rgba(0, 0, 0, 0.15);\n",
              "      filter: drop-shadow(0px 1px 2px rgba(0, 0, 0, 0.3));\n",
              "      fill: #FFFFFF;\n",
              "    }\n",
              "  </style>\n",
              "\n",
              "    <script>\n",
              "      const buttonEl =\n",
              "        document.querySelector('#df-35dffa34-7346-40ec-a8ee-194f658951b7 button.colab-df-convert');\n",
              "      buttonEl.style.display =\n",
              "        google.colab.kernel.accessAllowed ? 'block' : 'none';\n",
              "\n",
              "      async function convertToInteractive(key) {\n",
              "        const element = document.querySelector('#df-35dffa34-7346-40ec-a8ee-194f658951b7');\n",
              "        const dataTable =\n",
              "          await google.colab.kernel.invokeFunction('convertToInteractive',\n",
              "                                                    [key], {});\n",
              "        if (!dataTable) return;\n",
              "\n",
              "        const docLinkHtml = 'Like what you see? Visit the ' +\n",
              "          '<a target=\"_blank\" href=https://colab.research.google.com/notebooks/data_table.ipynb>data table notebook</a>'\n",
              "          + ' to learn more about interactive tables.';\n",
              "        element.innerHTML = '';\n",
              "        dataTable['output_type'] = 'display_data';\n",
              "        await google.colab.output.renderOutput(dataTable, element);\n",
              "        const docLink = document.createElement('div');\n",
              "        docLink.innerHTML = docLinkHtml;\n",
              "        element.appendChild(docLink);\n",
              "      }\n",
              "    </script>\n",
              "  </div>\n",
              "\n",
              "\n",
              "<div id=\"df-18c7bb62-c93c-4137-85ef-ddd22e0e7805\">\n",
              "  <button class=\"colab-df-quickchart\" onclick=\"quickchart('df-18c7bb62-c93c-4137-85ef-ddd22e0e7805')\"\n",
              "            title=\"Suggest charts\"\n",
              "            style=\"display:none;\">\n",
              "\n",
              "<svg xmlns=\"http://www.w3.org/2000/svg\" height=\"24px\"viewBox=\"0 0 24 24\"\n",
              "     width=\"24px\">\n",
              "    <g>\n",
              "        <path d=\"M19 3H5c-1.1 0-2 .9-2 2v14c0 1.1.9 2 2 2h14c1.1 0 2-.9 2-2V5c0-1.1-.9-2-2-2zM9 17H7v-7h2v7zm4 0h-2V7h2v10zm4 0h-2v-4h2v4z\"/>\n",
              "    </g>\n",
              "</svg>\n",
              "  </button>\n",
              "\n",
              "<style>\n",
              "  .colab-df-quickchart {\n",
              "      --bg-color: #E8F0FE;\n",
              "      --fill-color: #1967D2;\n",
              "      --hover-bg-color: #E2EBFA;\n",
              "      --hover-fill-color: #174EA6;\n",
              "      --disabled-fill-color: #AAA;\n",
              "      --disabled-bg-color: #DDD;\n",
              "  }\n",
              "\n",
              "  [theme=dark] .colab-df-quickchart {\n",
              "      --bg-color: #3B4455;\n",
              "      --fill-color: #D2E3FC;\n",
              "      --hover-bg-color: #434B5C;\n",
              "      --hover-fill-color: #FFFFFF;\n",
              "      --disabled-bg-color: #3B4455;\n",
              "      --disabled-fill-color: #666;\n",
              "  }\n",
              "\n",
              "  .colab-df-quickchart {\n",
              "    background-color: var(--bg-color);\n",
              "    border: none;\n",
              "    border-radius: 50%;\n",
              "    cursor: pointer;\n",
              "    display: none;\n",
              "    fill: var(--fill-color);\n",
              "    height: 32px;\n",
              "    padding: 0;\n",
              "    width: 32px;\n",
              "  }\n",
              "\n",
              "  .colab-df-quickchart:hover {\n",
              "    background-color: var(--hover-bg-color);\n",
              "    box-shadow: 0 1px 2px rgba(60, 64, 67, 0.3), 0 1px 3px 1px rgba(60, 64, 67, 0.15);\n",
              "    fill: var(--button-hover-fill-color);\n",
              "  }\n",
              "\n",
              "  .colab-df-quickchart-complete:disabled,\n",
              "  .colab-df-quickchart-complete:disabled:hover {\n",
              "    background-color: var(--disabled-bg-color);\n",
              "    fill: var(--disabled-fill-color);\n",
              "    box-shadow: none;\n",
              "  }\n",
              "\n",
              "  .colab-df-spinner {\n",
              "    border: 2px solid var(--fill-color);\n",
              "    border-color: transparent;\n",
              "    border-bottom-color: var(--fill-color);\n",
              "    animation:\n",
              "      spin 1s steps(1) infinite;\n",
              "  }\n",
              "\n",
              "  @keyframes spin {\n",
              "    0% {\n",
              "      border-color: transparent;\n",
              "      border-bottom-color: var(--fill-color);\n",
              "      border-left-color: var(--fill-color);\n",
              "    }\n",
              "    20% {\n",
              "      border-color: transparent;\n",
              "      border-left-color: var(--fill-color);\n",
              "      border-top-color: var(--fill-color);\n",
              "    }\n",
              "    30% {\n",
              "      border-color: transparent;\n",
              "      border-left-color: var(--fill-color);\n",
              "      border-top-color: var(--fill-color);\n",
              "      border-right-color: var(--fill-color);\n",
              "    }\n",
              "    40% {\n",
              "      border-color: transparent;\n",
              "      border-right-color: var(--fill-color);\n",
              "      border-top-color: var(--fill-color);\n",
              "    }\n",
              "    60% {\n",
              "      border-color: transparent;\n",
              "      border-right-color: var(--fill-color);\n",
              "    }\n",
              "    80% {\n",
              "      border-color: transparent;\n",
              "      border-right-color: var(--fill-color);\n",
              "      border-bottom-color: var(--fill-color);\n",
              "    }\n",
              "    90% {\n",
              "      border-color: transparent;\n",
              "      border-bottom-color: var(--fill-color);\n",
              "    }\n",
              "  }\n",
              "</style>\n",
              "\n",
              "  <script>\n",
              "    async function quickchart(key) {\n",
              "      const quickchartButtonEl =\n",
              "        document.querySelector('#' + key + ' button');\n",
              "      quickchartButtonEl.disabled = true;  // To prevent multiple clicks.\n",
              "      quickchartButtonEl.classList.add('colab-df-spinner');\n",
              "      try {\n",
              "        const charts = await google.colab.kernel.invokeFunction(\n",
              "            'suggestCharts', [key], {});\n",
              "      } catch (error) {\n",
              "        console.error('Error during call to suggestCharts:', error);\n",
              "      }\n",
              "      quickchartButtonEl.classList.remove('colab-df-spinner');\n",
              "      quickchartButtonEl.classList.add('colab-df-quickchart-complete');\n",
              "    }\n",
              "    (() => {\n",
              "      let quickchartButtonEl =\n",
              "        document.querySelector('#df-18c7bb62-c93c-4137-85ef-ddd22e0e7805 button');\n",
              "      quickchartButtonEl.style.display =\n",
              "        google.colab.kernel.accessAllowed ? 'block' : 'none';\n",
              "    })();\n",
              "  </script>\n",
              "</div>\n",
              "    </div>\n",
              "  </div>\n"
            ]
          },
          "metadata": {},
          "execution_count": 5
        }
      ],
      "source": [
        "news_df.head(5)"
      ]
    },
    {
      "cell_type": "markdown",
      "source": [
        "**Rename the Columns**"
      ],
      "metadata": {
        "id": "rW3cdxQ2eLsm"
      }
    },
    {
      "cell_type": "code",
      "source": [
        "new_columns = ['Date', 'Category', 'News']\n",
        "news_df.columns = new_columns"
      ],
      "metadata": {
        "id": "VD9cgyWb2u3-"
      },
      "execution_count": 6,
      "outputs": []
    },
    {
      "cell_type": "code",
      "source": [
        "news_df.head(5)"
      ],
      "metadata": {
        "colab": {
          "base_uri": "https://localhost:8080/",
          "height": 206
        },
        "id": "BwE6pBNM282s",
        "outputId": "0b312c74-6de5-4787-cece-9d7467d76add"
      },
      "execution_count": 7,
      "outputs": [
        {
          "output_type": "execute_result",
          "data": {
            "text/plain": [
              "       Date Category                                               News\n",
              "0  20010102  unknown  Status quo will not be disturbed at Ayodhya; s...\n",
              "1  20010102  unknown                Fissures in Hurriyat over Pak visit\n",
              "2  20010102  unknown              America's unwanted heading for India?\n",
              "3  20010102  unknown                 For bigwigs; it is destination Goa\n",
              "4  20010102  unknown               Extra buses to clear tourist traffic"
            ],
            "text/html": [
              "\n",
              "  <div id=\"df-986c7c5f-052f-410b-bb09-d3d4c2f0a03a\" class=\"colab-df-container\">\n",
              "    <div>\n",
              "<style scoped>\n",
              "    .dataframe tbody tr th:only-of-type {\n",
              "        vertical-align: middle;\n",
              "    }\n",
              "\n",
              "    .dataframe tbody tr th {\n",
              "        vertical-align: top;\n",
              "    }\n",
              "\n",
              "    .dataframe thead th {\n",
              "        text-align: right;\n",
              "    }\n",
              "</style>\n",
              "<table border=\"1\" class=\"dataframe\">\n",
              "  <thead>\n",
              "    <tr style=\"text-align: right;\">\n",
              "      <th></th>\n",
              "      <th>Date</th>\n",
              "      <th>Category</th>\n",
              "      <th>News</th>\n",
              "    </tr>\n",
              "  </thead>\n",
              "  <tbody>\n",
              "    <tr>\n",
              "      <th>0</th>\n",
              "      <td>20010102</td>\n",
              "      <td>unknown</td>\n",
              "      <td>Status quo will not be disturbed at Ayodhya; s...</td>\n",
              "    </tr>\n",
              "    <tr>\n",
              "      <th>1</th>\n",
              "      <td>20010102</td>\n",
              "      <td>unknown</td>\n",
              "      <td>Fissures in Hurriyat over Pak visit</td>\n",
              "    </tr>\n",
              "    <tr>\n",
              "      <th>2</th>\n",
              "      <td>20010102</td>\n",
              "      <td>unknown</td>\n",
              "      <td>America's unwanted heading for India?</td>\n",
              "    </tr>\n",
              "    <tr>\n",
              "      <th>3</th>\n",
              "      <td>20010102</td>\n",
              "      <td>unknown</td>\n",
              "      <td>For bigwigs; it is destination Goa</td>\n",
              "    </tr>\n",
              "    <tr>\n",
              "      <th>4</th>\n",
              "      <td>20010102</td>\n",
              "      <td>unknown</td>\n",
              "      <td>Extra buses to clear tourist traffic</td>\n",
              "    </tr>\n",
              "  </tbody>\n",
              "</table>\n",
              "</div>\n",
              "    <div class=\"colab-df-buttons\">\n",
              "\n",
              "  <div class=\"colab-df-container\">\n",
              "    <button class=\"colab-df-convert\" onclick=\"convertToInteractive('df-986c7c5f-052f-410b-bb09-d3d4c2f0a03a')\"\n",
              "            title=\"Convert this dataframe to an interactive table.\"\n",
              "            style=\"display:none;\">\n",
              "\n",
              "  <svg xmlns=\"http://www.w3.org/2000/svg\" height=\"24px\" viewBox=\"0 -960 960 960\">\n",
              "    <path d=\"M120-120v-720h720v720H120Zm60-500h600v-160H180v160Zm220 220h160v-160H400v160Zm0 220h160v-160H400v160ZM180-400h160v-160H180v160Zm440 0h160v-160H620v160ZM180-180h160v-160H180v160Zm440 0h160v-160H620v160Z\"/>\n",
              "  </svg>\n",
              "    </button>\n",
              "\n",
              "  <style>\n",
              "    .colab-df-container {\n",
              "      display:flex;\n",
              "      gap: 12px;\n",
              "    }\n",
              "\n",
              "    .colab-df-convert {\n",
              "      background-color: #E8F0FE;\n",
              "      border: none;\n",
              "      border-radius: 50%;\n",
              "      cursor: pointer;\n",
              "      display: none;\n",
              "      fill: #1967D2;\n",
              "      height: 32px;\n",
              "      padding: 0 0 0 0;\n",
              "      width: 32px;\n",
              "    }\n",
              "\n",
              "    .colab-df-convert:hover {\n",
              "      background-color: #E2EBFA;\n",
              "      box-shadow: 0px 1px 2px rgba(60, 64, 67, 0.3), 0px 1px 3px 1px rgba(60, 64, 67, 0.15);\n",
              "      fill: #174EA6;\n",
              "    }\n",
              "\n",
              "    .colab-df-buttons div {\n",
              "      margin-bottom: 4px;\n",
              "    }\n",
              "\n",
              "    [theme=dark] .colab-df-convert {\n",
              "      background-color: #3B4455;\n",
              "      fill: #D2E3FC;\n",
              "    }\n",
              "\n",
              "    [theme=dark] .colab-df-convert:hover {\n",
              "      background-color: #434B5C;\n",
              "      box-shadow: 0px 1px 3px 1px rgba(0, 0, 0, 0.15);\n",
              "      filter: drop-shadow(0px 1px 2px rgba(0, 0, 0, 0.3));\n",
              "      fill: #FFFFFF;\n",
              "    }\n",
              "  </style>\n",
              "\n",
              "    <script>\n",
              "      const buttonEl =\n",
              "        document.querySelector('#df-986c7c5f-052f-410b-bb09-d3d4c2f0a03a button.colab-df-convert');\n",
              "      buttonEl.style.display =\n",
              "        google.colab.kernel.accessAllowed ? 'block' : 'none';\n",
              "\n",
              "      async function convertToInteractive(key) {\n",
              "        const element = document.querySelector('#df-986c7c5f-052f-410b-bb09-d3d4c2f0a03a');\n",
              "        const dataTable =\n",
              "          await google.colab.kernel.invokeFunction('convertToInteractive',\n",
              "                                                    [key], {});\n",
              "        if (!dataTable) return;\n",
              "\n",
              "        const docLinkHtml = 'Like what you see? Visit the ' +\n",
              "          '<a target=\"_blank\" href=https://colab.research.google.com/notebooks/data_table.ipynb>data table notebook</a>'\n",
              "          + ' to learn more about interactive tables.';\n",
              "        element.innerHTML = '';\n",
              "        dataTable['output_type'] = 'display_data';\n",
              "        await google.colab.output.renderOutput(dataTable, element);\n",
              "        const docLink = document.createElement('div');\n",
              "        docLink.innerHTML = docLinkHtml;\n",
              "        element.appendChild(docLink);\n",
              "      }\n",
              "    </script>\n",
              "  </div>\n",
              "\n",
              "\n",
              "<div id=\"df-a9b0a698-c73d-4744-86db-b76c0962f772\">\n",
              "  <button class=\"colab-df-quickchart\" onclick=\"quickchart('df-a9b0a698-c73d-4744-86db-b76c0962f772')\"\n",
              "            title=\"Suggest charts\"\n",
              "            style=\"display:none;\">\n",
              "\n",
              "<svg xmlns=\"http://www.w3.org/2000/svg\" height=\"24px\"viewBox=\"0 0 24 24\"\n",
              "     width=\"24px\">\n",
              "    <g>\n",
              "        <path d=\"M19 3H5c-1.1 0-2 .9-2 2v14c0 1.1.9 2 2 2h14c1.1 0 2-.9 2-2V5c0-1.1-.9-2-2-2zM9 17H7v-7h2v7zm4 0h-2V7h2v10zm4 0h-2v-4h2v4z\"/>\n",
              "    </g>\n",
              "</svg>\n",
              "  </button>\n",
              "\n",
              "<style>\n",
              "  .colab-df-quickchart {\n",
              "      --bg-color: #E8F0FE;\n",
              "      --fill-color: #1967D2;\n",
              "      --hover-bg-color: #E2EBFA;\n",
              "      --hover-fill-color: #174EA6;\n",
              "      --disabled-fill-color: #AAA;\n",
              "      --disabled-bg-color: #DDD;\n",
              "  }\n",
              "\n",
              "  [theme=dark] .colab-df-quickchart {\n",
              "      --bg-color: #3B4455;\n",
              "      --fill-color: #D2E3FC;\n",
              "      --hover-bg-color: #434B5C;\n",
              "      --hover-fill-color: #FFFFFF;\n",
              "      --disabled-bg-color: #3B4455;\n",
              "      --disabled-fill-color: #666;\n",
              "  }\n",
              "\n",
              "  .colab-df-quickchart {\n",
              "    background-color: var(--bg-color);\n",
              "    border: none;\n",
              "    border-radius: 50%;\n",
              "    cursor: pointer;\n",
              "    display: none;\n",
              "    fill: var(--fill-color);\n",
              "    height: 32px;\n",
              "    padding: 0;\n",
              "    width: 32px;\n",
              "  }\n",
              "\n",
              "  .colab-df-quickchart:hover {\n",
              "    background-color: var(--hover-bg-color);\n",
              "    box-shadow: 0 1px 2px rgba(60, 64, 67, 0.3), 0 1px 3px 1px rgba(60, 64, 67, 0.15);\n",
              "    fill: var(--button-hover-fill-color);\n",
              "  }\n",
              "\n",
              "  .colab-df-quickchart-complete:disabled,\n",
              "  .colab-df-quickchart-complete:disabled:hover {\n",
              "    background-color: var(--disabled-bg-color);\n",
              "    fill: var(--disabled-fill-color);\n",
              "    box-shadow: none;\n",
              "  }\n",
              "\n",
              "  .colab-df-spinner {\n",
              "    border: 2px solid var(--fill-color);\n",
              "    border-color: transparent;\n",
              "    border-bottom-color: var(--fill-color);\n",
              "    animation:\n",
              "      spin 1s steps(1) infinite;\n",
              "  }\n",
              "\n",
              "  @keyframes spin {\n",
              "    0% {\n",
              "      border-color: transparent;\n",
              "      border-bottom-color: var(--fill-color);\n",
              "      border-left-color: var(--fill-color);\n",
              "    }\n",
              "    20% {\n",
              "      border-color: transparent;\n",
              "      border-left-color: var(--fill-color);\n",
              "      border-top-color: var(--fill-color);\n",
              "    }\n",
              "    30% {\n",
              "      border-color: transparent;\n",
              "      border-left-color: var(--fill-color);\n",
              "      border-top-color: var(--fill-color);\n",
              "      border-right-color: var(--fill-color);\n",
              "    }\n",
              "    40% {\n",
              "      border-color: transparent;\n",
              "      border-right-color: var(--fill-color);\n",
              "      border-top-color: var(--fill-color);\n",
              "    }\n",
              "    60% {\n",
              "      border-color: transparent;\n",
              "      border-right-color: var(--fill-color);\n",
              "    }\n",
              "    80% {\n",
              "      border-color: transparent;\n",
              "      border-right-color: var(--fill-color);\n",
              "      border-bottom-color: var(--fill-color);\n",
              "    }\n",
              "    90% {\n",
              "      border-color: transparent;\n",
              "      border-bottom-color: var(--fill-color);\n",
              "    }\n",
              "  }\n",
              "</style>\n",
              "\n",
              "  <script>\n",
              "    async function quickchart(key) {\n",
              "      const quickchartButtonEl =\n",
              "        document.querySelector('#' + key + ' button');\n",
              "      quickchartButtonEl.disabled = true;  // To prevent multiple clicks.\n",
              "      quickchartButtonEl.classList.add('colab-df-spinner');\n",
              "      try {\n",
              "        const charts = await google.colab.kernel.invokeFunction(\n",
              "            'suggestCharts', [key], {});\n",
              "      } catch (error) {\n",
              "        console.error('Error during call to suggestCharts:', error);\n",
              "      }\n",
              "      quickchartButtonEl.classList.remove('colab-df-spinner');\n",
              "      quickchartButtonEl.classList.add('colab-df-quickchart-complete');\n",
              "    }\n",
              "    (() => {\n",
              "      let quickchartButtonEl =\n",
              "        document.querySelector('#df-a9b0a698-c73d-4744-86db-b76c0962f772 button');\n",
              "      quickchartButtonEl.style.display =\n",
              "        google.colab.kernel.accessAllowed ? 'block' : 'none';\n",
              "    })();\n",
              "  </script>\n",
              "</div>\n",
              "    </div>\n",
              "  </div>\n"
            ]
          },
          "metadata": {},
          "execution_count": 7
        }
      ]
    },
    {
      "cell_type": "markdown",
      "source": [
        "##Columns"
      ],
      "metadata": {
        "id": "UMJUqCgJ4jfR"
      }
    },
    {
      "cell_type": "code",
      "source": [
        "news_df.columns"
      ],
      "metadata": {
        "colab": {
          "base_uri": "https://localhost:8080/"
        },
        "id": "0IonrzAi4mbG",
        "outputId": "79e230f7-b60b-4baa-cfe3-ed4a62758e7f"
      },
      "execution_count": 8,
      "outputs": [
        {
          "output_type": "execute_result",
          "data": {
            "text/plain": [
              "Index(['Date', 'Category', 'News'], dtype='object')"
            ]
          },
          "metadata": {},
          "execution_count": 8
        }
      ]
    },
    {
      "cell_type": "markdown",
      "source": [
        "**Let the drop the unnecessary column**"
      ],
      "metadata": {
        "id": "GdB3alt94pvg"
      }
    },
    {
      "cell_type": "code",
      "source": [
        "news_df.drop('Category', axis=1, inplace=True)"
      ],
      "metadata": {
        "id": "H29afynJ4oRU"
      },
      "execution_count": 9,
      "outputs": []
    },
    {
      "cell_type": "markdown",
      "source": [
        "#**Concatenate News by Date**"
      ],
      "metadata": {
        "id": "1DFJuymtUzL_"
      }
    },
    {
      "cell_type": "code",
      "source": [
        "#Concatenate the news of the same dates. It means that rows with the same date will be considered as a single group.\n",
        "news_df['News'] = news_df.groupby(['Date']).transform(lambda x : ' '.join(x))"
      ],
      "metadata": {
        "id": "rFM-wYntmNhk"
      },
      "execution_count": 10,
      "outputs": []
    },
    {
      "cell_type": "markdown",
      "metadata": {
        "id": "tTNxg42yhCh3"
      },
      "source": [
        "##Duplicate Record"
      ]
    },
    {
      "cell_type": "code",
      "execution_count": 11,
      "metadata": {
        "colab": {
          "base_uri": "https://localhost:8080/"
        },
        "id": "FPTVTN5YcDro",
        "outputId": "fc77ff23-250f-4a80-8b9d-e46e446ddc7d"
      },
      "outputs": [
        {
          "output_type": "stream",
          "name": "stdout",
          "text": [
            "The Number of Duplicate Dates Are: 3868387\n"
          ]
        }
      ],
      "source": [
        "# Check for duplicated dates\n",
        "print(f'The Number of Duplicate Dates Are: {news_df.duplicated().sum()}')"
      ]
    },
    {
      "cell_type": "markdown",
      "source": [
        "**Let drop the dupliacte records.**"
      ],
      "metadata": {
        "id": "tTOr8Oj0uRQw"
      }
    },
    {
      "cell_type": "code",
      "source": [
        "# Drop duplicates, keeping the first occurrence\n",
        "news_df.drop_duplicates(inplace=True)\n",
        "news_df.reset_index(inplace=True,drop=True)"
      ],
      "metadata": {
        "id": "Qzsv94l_uQiF"
      },
      "execution_count": 12,
      "outputs": []
    },
    {
      "cell_type": "code",
      "source": [
        "print(f'Now, The Number of Duplicate Dates Are: {news_df.duplicated().sum()}')"
      ],
      "metadata": {
        "colab": {
          "base_uri": "https://localhost:8080/"
        },
        "id": "aT6v66HQuf_4",
        "outputId": "22d1b4a1-301c-4b88-bb8f-9138a7e4bacf"
      },
      "execution_count": 13,
      "outputs": [
        {
          "output_type": "stream",
          "name": "stdout",
          "text": [
            "Now, The Number of Duplicate Dates Are: 0\n"
          ]
        }
      ]
    },
    {
      "cell_type": "code",
      "source": [
        "news_df.head(3)"
      ],
      "metadata": {
        "colab": {
          "base_uri": "https://localhost:8080/",
          "height": 143
        },
        "id": "_8magxKupNVC",
        "outputId": "d9efd488-d12d-40b6-e870-1d67d10c9173"
      },
      "execution_count": 14,
      "outputs": [
        {
          "output_type": "execute_result",
          "data": {
            "text/plain": [
              "       Date                                               News\n",
              "0  20010102  Status quo will not be disturbed at Ayodhya; s...\n",
              "1  20010103  Powerless north India gropes in the dark Think...\n",
              "2  20010104  The string that pulled Stephen Hawking to Indi..."
            ],
            "text/html": [
              "\n",
              "  <div id=\"df-542f979b-3ce2-4773-9a05-5e40f58fddd3\" class=\"colab-df-container\">\n",
              "    <div>\n",
              "<style scoped>\n",
              "    .dataframe tbody tr th:only-of-type {\n",
              "        vertical-align: middle;\n",
              "    }\n",
              "\n",
              "    .dataframe tbody tr th {\n",
              "        vertical-align: top;\n",
              "    }\n",
              "\n",
              "    .dataframe thead th {\n",
              "        text-align: right;\n",
              "    }\n",
              "</style>\n",
              "<table border=\"1\" class=\"dataframe\">\n",
              "  <thead>\n",
              "    <tr style=\"text-align: right;\">\n",
              "      <th></th>\n",
              "      <th>Date</th>\n",
              "      <th>News</th>\n",
              "    </tr>\n",
              "  </thead>\n",
              "  <tbody>\n",
              "    <tr>\n",
              "      <th>0</th>\n",
              "      <td>20010102</td>\n",
              "      <td>Status quo will not be disturbed at Ayodhya; s...</td>\n",
              "    </tr>\n",
              "    <tr>\n",
              "      <th>1</th>\n",
              "      <td>20010103</td>\n",
              "      <td>Powerless north India gropes in the dark Think...</td>\n",
              "    </tr>\n",
              "    <tr>\n",
              "      <th>2</th>\n",
              "      <td>20010104</td>\n",
              "      <td>The string that pulled Stephen Hawking to Indi...</td>\n",
              "    </tr>\n",
              "  </tbody>\n",
              "</table>\n",
              "</div>\n",
              "    <div class=\"colab-df-buttons\">\n",
              "\n",
              "  <div class=\"colab-df-container\">\n",
              "    <button class=\"colab-df-convert\" onclick=\"convertToInteractive('df-542f979b-3ce2-4773-9a05-5e40f58fddd3')\"\n",
              "            title=\"Convert this dataframe to an interactive table.\"\n",
              "            style=\"display:none;\">\n",
              "\n",
              "  <svg xmlns=\"http://www.w3.org/2000/svg\" height=\"24px\" viewBox=\"0 -960 960 960\">\n",
              "    <path d=\"M120-120v-720h720v720H120Zm60-500h600v-160H180v160Zm220 220h160v-160H400v160Zm0 220h160v-160H400v160ZM180-400h160v-160H180v160Zm440 0h160v-160H620v160ZM180-180h160v-160H180v160Zm440 0h160v-160H620v160Z\"/>\n",
              "  </svg>\n",
              "    </button>\n",
              "\n",
              "  <style>\n",
              "    .colab-df-container {\n",
              "      display:flex;\n",
              "      gap: 12px;\n",
              "    }\n",
              "\n",
              "    .colab-df-convert {\n",
              "      background-color: #E8F0FE;\n",
              "      border: none;\n",
              "      border-radius: 50%;\n",
              "      cursor: pointer;\n",
              "      display: none;\n",
              "      fill: #1967D2;\n",
              "      height: 32px;\n",
              "      padding: 0 0 0 0;\n",
              "      width: 32px;\n",
              "    }\n",
              "\n",
              "    .colab-df-convert:hover {\n",
              "      background-color: #E2EBFA;\n",
              "      box-shadow: 0px 1px 2px rgba(60, 64, 67, 0.3), 0px 1px 3px 1px rgba(60, 64, 67, 0.15);\n",
              "      fill: #174EA6;\n",
              "    }\n",
              "\n",
              "    .colab-df-buttons div {\n",
              "      margin-bottom: 4px;\n",
              "    }\n",
              "\n",
              "    [theme=dark] .colab-df-convert {\n",
              "      background-color: #3B4455;\n",
              "      fill: #D2E3FC;\n",
              "    }\n",
              "\n",
              "    [theme=dark] .colab-df-convert:hover {\n",
              "      background-color: #434B5C;\n",
              "      box-shadow: 0px 1px 3px 1px rgba(0, 0, 0, 0.15);\n",
              "      filter: drop-shadow(0px 1px 2px rgba(0, 0, 0, 0.3));\n",
              "      fill: #FFFFFF;\n",
              "    }\n",
              "  </style>\n",
              "\n",
              "    <script>\n",
              "      const buttonEl =\n",
              "        document.querySelector('#df-542f979b-3ce2-4773-9a05-5e40f58fddd3 button.colab-df-convert');\n",
              "      buttonEl.style.display =\n",
              "        google.colab.kernel.accessAllowed ? 'block' : 'none';\n",
              "\n",
              "      async function convertToInteractive(key) {\n",
              "        const element = document.querySelector('#df-542f979b-3ce2-4773-9a05-5e40f58fddd3');\n",
              "        const dataTable =\n",
              "          await google.colab.kernel.invokeFunction('convertToInteractive',\n",
              "                                                    [key], {});\n",
              "        if (!dataTable) return;\n",
              "\n",
              "        const docLinkHtml = 'Like what you see? Visit the ' +\n",
              "          '<a target=\"_blank\" href=https://colab.research.google.com/notebooks/data_table.ipynb>data table notebook</a>'\n",
              "          + ' to learn more about interactive tables.';\n",
              "        element.innerHTML = '';\n",
              "        dataTable['output_type'] = 'display_data';\n",
              "        await google.colab.output.renderOutput(dataTable, element);\n",
              "        const docLink = document.createElement('div');\n",
              "        docLink.innerHTML = docLinkHtml;\n",
              "        element.appendChild(docLink);\n",
              "      }\n",
              "    </script>\n",
              "  </div>\n",
              "\n",
              "\n",
              "<div id=\"df-8032dacf-6392-4abe-b1d3-8fb999b20b22\">\n",
              "  <button class=\"colab-df-quickchart\" onclick=\"quickchart('df-8032dacf-6392-4abe-b1d3-8fb999b20b22')\"\n",
              "            title=\"Suggest charts\"\n",
              "            style=\"display:none;\">\n",
              "\n",
              "<svg xmlns=\"http://www.w3.org/2000/svg\" height=\"24px\"viewBox=\"0 0 24 24\"\n",
              "     width=\"24px\">\n",
              "    <g>\n",
              "        <path d=\"M19 3H5c-1.1 0-2 .9-2 2v14c0 1.1.9 2 2 2h14c1.1 0 2-.9 2-2V5c0-1.1-.9-2-2-2zM9 17H7v-7h2v7zm4 0h-2V7h2v10zm4 0h-2v-4h2v4z\"/>\n",
              "    </g>\n",
              "</svg>\n",
              "  </button>\n",
              "\n",
              "<style>\n",
              "  .colab-df-quickchart {\n",
              "      --bg-color: #E8F0FE;\n",
              "      --fill-color: #1967D2;\n",
              "      --hover-bg-color: #E2EBFA;\n",
              "      --hover-fill-color: #174EA6;\n",
              "      --disabled-fill-color: #AAA;\n",
              "      --disabled-bg-color: #DDD;\n",
              "  }\n",
              "\n",
              "  [theme=dark] .colab-df-quickchart {\n",
              "      --bg-color: #3B4455;\n",
              "      --fill-color: #D2E3FC;\n",
              "      --hover-bg-color: #434B5C;\n",
              "      --hover-fill-color: #FFFFFF;\n",
              "      --disabled-bg-color: #3B4455;\n",
              "      --disabled-fill-color: #666;\n",
              "  }\n",
              "\n",
              "  .colab-df-quickchart {\n",
              "    background-color: var(--bg-color);\n",
              "    border: none;\n",
              "    border-radius: 50%;\n",
              "    cursor: pointer;\n",
              "    display: none;\n",
              "    fill: var(--fill-color);\n",
              "    height: 32px;\n",
              "    padding: 0;\n",
              "    width: 32px;\n",
              "  }\n",
              "\n",
              "  .colab-df-quickchart:hover {\n",
              "    background-color: var(--hover-bg-color);\n",
              "    box-shadow: 0 1px 2px rgba(60, 64, 67, 0.3), 0 1px 3px 1px rgba(60, 64, 67, 0.15);\n",
              "    fill: var(--button-hover-fill-color);\n",
              "  }\n",
              "\n",
              "  .colab-df-quickchart-complete:disabled,\n",
              "  .colab-df-quickchart-complete:disabled:hover {\n",
              "    background-color: var(--disabled-bg-color);\n",
              "    fill: var(--disabled-fill-color);\n",
              "    box-shadow: none;\n",
              "  }\n",
              "\n",
              "  .colab-df-spinner {\n",
              "    border: 2px solid var(--fill-color);\n",
              "    border-color: transparent;\n",
              "    border-bottom-color: var(--fill-color);\n",
              "    animation:\n",
              "      spin 1s steps(1) infinite;\n",
              "  }\n",
              "\n",
              "  @keyframes spin {\n",
              "    0% {\n",
              "      border-color: transparent;\n",
              "      border-bottom-color: var(--fill-color);\n",
              "      border-left-color: var(--fill-color);\n",
              "    }\n",
              "    20% {\n",
              "      border-color: transparent;\n",
              "      border-left-color: var(--fill-color);\n",
              "      border-top-color: var(--fill-color);\n",
              "    }\n",
              "    30% {\n",
              "      border-color: transparent;\n",
              "      border-left-color: var(--fill-color);\n",
              "      border-top-color: var(--fill-color);\n",
              "      border-right-color: var(--fill-color);\n",
              "    }\n",
              "    40% {\n",
              "      border-color: transparent;\n",
              "      border-right-color: var(--fill-color);\n",
              "      border-top-color: var(--fill-color);\n",
              "    }\n",
              "    60% {\n",
              "      border-color: transparent;\n",
              "      border-right-color: var(--fill-color);\n",
              "    }\n",
              "    80% {\n",
              "      border-color: transparent;\n",
              "      border-right-color: var(--fill-color);\n",
              "      border-bottom-color: var(--fill-color);\n",
              "    }\n",
              "    90% {\n",
              "      border-color: transparent;\n",
              "      border-bottom-color: var(--fill-color);\n",
              "    }\n",
              "  }\n",
              "</style>\n",
              "\n",
              "  <script>\n",
              "    async function quickchart(key) {\n",
              "      const quickchartButtonEl =\n",
              "        document.querySelector('#' + key + ' button');\n",
              "      quickchartButtonEl.disabled = true;  // To prevent multiple clicks.\n",
              "      quickchartButtonEl.classList.add('colab-df-spinner');\n",
              "      try {\n",
              "        const charts = await google.colab.kernel.invokeFunction(\n",
              "            'suggestCharts', [key], {});\n",
              "      } catch (error) {\n",
              "        console.error('Error during call to suggestCharts:', error);\n",
              "      }\n",
              "      quickchartButtonEl.classList.remove('colab-df-spinner');\n",
              "      quickchartButtonEl.classList.add('colab-df-quickchart-complete');\n",
              "    }\n",
              "    (() => {\n",
              "      let quickchartButtonEl =\n",
              "        document.querySelector('#df-8032dacf-6392-4abe-b1d3-8fb999b20b22 button');\n",
              "      quickchartButtonEl.style.display =\n",
              "        google.colab.kernel.accessAllowed ? 'block' : 'none';\n",
              "    })();\n",
              "  </script>\n",
              "</div>\n",
              "    </div>\n",
              "  </div>\n"
            ]
          },
          "metadata": {},
          "execution_count": 14
        }
      ]
    },
    {
      "cell_type": "markdown",
      "source": [
        "**Data Shape**"
      ],
      "metadata": {
        "id": "I2GFb0reXbgb"
      }
    },
    {
      "cell_type": "code",
      "execution_count": 15,
      "metadata": {
        "colab": {
          "base_uri": "https://localhost:8080/"
        },
        "id": "PfCyMUMY1h6B",
        "outputId": "2f60ab4d-9550-4612-bb96-e129bd9af8e0"
      },
      "outputs": [
        {
          "output_type": "execute_result",
          "data": {
            "text/plain": [
              "(8170, 2)"
            ]
          },
          "metadata": {},
          "execution_count": 15
        }
      ],
      "source": [
        "news_df.shape"
      ]
    },
    {
      "cell_type": "markdown",
      "metadata": {
        "id": "3I0UVF2UcVb6"
      },
      "source": [
        "##**News Data Features Overview**"
      ]
    },
    {
      "cell_type": "code",
      "execution_count": 16,
      "metadata": {
        "colab": {
          "base_uri": "https://localhost:8080/"
        },
        "id": "XD7ywwtw_5Zo",
        "outputId": "118c0c0f-531d-48d4-fbfb-7c5cbd09b1df"
      },
      "outputs": [
        {
          "output_type": "stream",
          "name": "stdout",
          "text": [
            "<class 'pandas.core.frame.DataFrame'>\n",
            "RangeIndex: 8170 entries, 0 to 8169\n",
            "Data columns (total 2 columns):\n",
            " #   Column  Non-Null Count  Dtype \n",
            "---  ------  --------------  ----- \n",
            " 0   Date    8170 non-null   int64 \n",
            " 1   News    8170 non-null   object\n",
            "dtypes: int64(1), object(1)\n",
            "memory usage: 127.8+ KB\n"
          ]
        }
      ],
      "source": [
        "news_df.info()"
      ]
    },
    {
      "cell_type": "markdown",
      "source": [
        "**Since, the date is not in date-time format.**\n",
        "\n",
        "**So, let change the date datatype**"
      ],
      "metadata": {
        "id": "QbpudGe830e2"
      }
    },
    {
      "cell_type": "code",
      "source": [
        "from datetime import datetime"
      ],
      "metadata": {
        "id": "iGefsdIS39Yw"
      },
      "execution_count": 17,
      "outputs": []
    },
    {
      "cell_type": "code",
      "source": [
        "news_df['Date'] = pd.to_datetime(news_df['Date'], format='%Y%m%d')"
      ],
      "metadata": {
        "id": "cjkFgN-M4D-q"
      },
      "execution_count": 18,
      "outputs": []
    },
    {
      "cell_type": "code",
      "source": [
        "news_df.info()"
      ],
      "metadata": {
        "colab": {
          "base_uri": "https://localhost:8080/"
        },
        "id": "4ub9mnbPEqdJ",
        "outputId": "295c1ef2-bde2-4ead-c1b2-d13938802fde"
      },
      "execution_count": 19,
      "outputs": [
        {
          "output_type": "stream",
          "name": "stdout",
          "text": [
            "<class 'pandas.core.frame.DataFrame'>\n",
            "RangeIndex: 8170 entries, 0 to 8169\n",
            "Data columns (total 2 columns):\n",
            " #   Column  Non-Null Count  Dtype         \n",
            "---  ------  --------------  -----         \n",
            " 0   Date    8170 non-null   datetime64[ns]\n",
            " 1   News    8170 non-null   object        \n",
            "dtypes: datetime64[ns](1), object(1)\n",
            "memory usage: 127.8+ KB\n"
          ]
        }
      ]
    },
    {
      "cell_type": "code",
      "source": [
        "news_df.head(3)"
      ],
      "metadata": {
        "colab": {
          "base_uri": "https://localhost:8080/",
          "height": 143
        },
        "id": "QhfLlvDqtK0o",
        "outputId": "e1706483-0970-4c5d-9c0f-955b591e878f"
      },
      "execution_count": 20,
      "outputs": [
        {
          "output_type": "execute_result",
          "data": {
            "text/plain": [
              "        Date                                               News\n",
              "0 2001-01-02  Status quo will not be disturbed at Ayodhya; s...\n",
              "1 2001-01-03  Powerless north India gropes in the dark Think...\n",
              "2 2001-01-04  The string that pulled Stephen Hawking to Indi..."
            ],
            "text/html": [
              "\n",
              "  <div id=\"df-c56a76d4-e981-46d5-b505-b438175b0ee3\" class=\"colab-df-container\">\n",
              "    <div>\n",
              "<style scoped>\n",
              "    .dataframe tbody tr th:only-of-type {\n",
              "        vertical-align: middle;\n",
              "    }\n",
              "\n",
              "    .dataframe tbody tr th {\n",
              "        vertical-align: top;\n",
              "    }\n",
              "\n",
              "    .dataframe thead th {\n",
              "        text-align: right;\n",
              "    }\n",
              "</style>\n",
              "<table border=\"1\" class=\"dataframe\">\n",
              "  <thead>\n",
              "    <tr style=\"text-align: right;\">\n",
              "      <th></th>\n",
              "      <th>Date</th>\n",
              "      <th>News</th>\n",
              "    </tr>\n",
              "  </thead>\n",
              "  <tbody>\n",
              "    <tr>\n",
              "      <th>0</th>\n",
              "      <td>2001-01-02</td>\n",
              "      <td>Status quo will not be disturbed at Ayodhya; s...</td>\n",
              "    </tr>\n",
              "    <tr>\n",
              "      <th>1</th>\n",
              "      <td>2001-01-03</td>\n",
              "      <td>Powerless north India gropes in the dark Think...</td>\n",
              "    </tr>\n",
              "    <tr>\n",
              "      <th>2</th>\n",
              "      <td>2001-01-04</td>\n",
              "      <td>The string that pulled Stephen Hawking to Indi...</td>\n",
              "    </tr>\n",
              "  </tbody>\n",
              "</table>\n",
              "</div>\n",
              "    <div class=\"colab-df-buttons\">\n",
              "\n",
              "  <div class=\"colab-df-container\">\n",
              "    <button class=\"colab-df-convert\" onclick=\"convertToInteractive('df-c56a76d4-e981-46d5-b505-b438175b0ee3')\"\n",
              "            title=\"Convert this dataframe to an interactive table.\"\n",
              "            style=\"display:none;\">\n",
              "\n",
              "  <svg xmlns=\"http://www.w3.org/2000/svg\" height=\"24px\" viewBox=\"0 -960 960 960\">\n",
              "    <path d=\"M120-120v-720h720v720H120Zm60-500h600v-160H180v160Zm220 220h160v-160H400v160Zm0 220h160v-160H400v160ZM180-400h160v-160H180v160Zm440 0h160v-160H620v160ZM180-180h160v-160H180v160Zm440 0h160v-160H620v160Z\"/>\n",
              "  </svg>\n",
              "    </button>\n",
              "\n",
              "  <style>\n",
              "    .colab-df-container {\n",
              "      display:flex;\n",
              "      gap: 12px;\n",
              "    }\n",
              "\n",
              "    .colab-df-convert {\n",
              "      background-color: #E8F0FE;\n",
              "      border: none;\n",
              "      border-radius: 50%;\n",
              "      cursor: pointer;\n",
              "      display: none;\n",
              "      fill: #1967D2;\n",
              "      height: 32px;\n",
              "      padding: 0 0 0 0;\n",
              "      width: 32px;\n",
              "    }\n",
              "\n",
              "    .colab-df-convert:hover {\n",
              "      background-color: #E2EBFA;\n",
              "      box-shadow: 0px 1px 2px rgba(60, 64, 67, 0.3), 0px 1px 3px 1px rgba(60, 64, 67, 0.15);\n",
              "      fill: #174EA6;\n",
              "    }\n",
              "\n",
              "    .colab-df-buttons div {\n",
              "      margin-bottom: 4px;\n",
              "    }\n",
              "\n",
              "    [theme=dark] .colab-df-convert {\n",
              "      background-color: #3B4455;\n",
              "      fill: #D2E3FC;\n",
              "    }\n",
              "\n",
              "    [theme=dark] .colab-df-convert:hover {\n",
              "      background-color: #434B5C;\n",
              "      box-shadow: 0px 1px 3px 1px rgba(0, 0, 0, 0.15);\n",
              "      filter: drop-shadow(0px 1px 2px rgba(0, 0, 0, 0.3));\n",
              "      fill: #FFFFFF;\n",
              "    }\n",
              "  </style>\n",
              "\n",
              "    <script>\n",
              "      const buttonEl =\n",
              "        document.querySelector('#df-c56a76d4-e981-46d5-b505-b438175b0ee3 button.colab-df-convert');\n",
              "      buttonEl.style.display =\n",
              "        google.colab.kernel.accessAllowed ? 'block' : 'none';\n",
              "\n",
              "      async function convertToInteractive(key) {\n",
              "        const element = document.querySelector('#df-c56a76d4-e981-46d5-b505-b438175b0ee3');\n",
              "        const dataTable =\n",
              "          await google.colab.kernel.invokeFunction('convertToInteractive',\n",
              "                                                    [key], {});\n",
              "        if (!dataTable) return;\n",
              "\n",
              "        const docLinkHtml = 'Like what you see? Visit the ' +\n",
              "          '<a target=\"_blank\" href=https://colab.research.google.com/notebooks/data_table.ipynb>data table notebook</a>'\n",
              "          + ' to learn more about interactive tables.';\n",
              "        element.innerHTML = '';\n",
              "        dataTable['output_type'] = 'display_data';\n",
              "        await google.colab.output.renderOutput(dataTable, element);\n",
              "        const docLink = document.createElement('div');\n",
              "        docLink.innerHTML = docLinkHtml;\n",
              "        element.appendChild(docLink);\n",
              "      }\n",
              "    </script>\n",
              "  </div>\n",
              "\n",
              "\n",
              "<div id=\"df-e272f736-4803-4b68-89a7-8bddea208fd9\">\n",
              "  <button class=\"colab-df-quickchart\" onclick=\"quickchart('df-e272f736-4803-4b68-89a7-8bddea208fd9')\"\n",
              "            title=\"Suggest charts\"\n",
              "            style=\"display:none;\">\n",
              "\n",
              "<svg xmlns=\"http://www.w3.org/2000/svg\" height=\"24px\"viewBox=\"0 0 24 24\"\n",
              "     width=\"24px\">\n",
              "    <g>\n",
              "        <path d=\"M19 3H5c-1.1 0-2 .9-2 2v14c0 1.1.9 2 2 2h14c1.1 0 2-.9 2-2V5c0-1.1-.9-2-2-2zM9 17H7v-7h2v7zm4 0h-2V7h2v10zm4 0h-2v-4h2v4z\"/>\n",
              "    </g>\n",
              "</svg>\n",
              "  </button>\n",
              "\n",
              "<style>\n",
              "  .colab-df-quickchart {\n",
              "      --bg-color: #E8F0FE;\n",
              "      --fill-color: #1967D2;\n",
              "      --hover-bg-color: #E2EBFA;\n",
              "      --hover-fill-color: #174EA6;\n",
              "      --disabled-fill-color: #AAA;\n",
              "      --disabled-bg-color: #DDD;\n",
              "  }\n",
              "\n",
              "  [theme=dark] .colab-df-quickchart {\n",
              "      --bg-color: #3B4455;\n",
              "      --fill-color: #D2E3FC;\n",
              "      --hover-bg-color: #434B5C;\n",
              "      --hover-fill-color: #FFFFFF;\n",
              "      --disabled-bg-color: #3B4455;\n",
              "      --disabled-fill-color: #666;\n",
              "  }\n",
              "\n",
              "  .colab-df-quickchart {\n",
              "    background-color: var(--bg-color);\n",
              "    border: none;\n",
              "    border-radius: 50%;\n",
              "    cursor: pointer;\n",
              "    display: none;\n",
              "    fill: var(--fill-color);\n",
              "    height: 32px;\n",
              "    padding: 0;\n",
              "    width: 32px;\n",
              "  }\n",
              "\n",
              "  .colab-df-quickchart:hover {\n",
              "    background-color: var(--hover-bg-color);\n",
              "    box-shadow: 0 1px 2px rgba(60, 64, 67, 0.3), 0 1px 3px 1px rgba(60, 64, 67, 0.15);\n",
              "    fill: var(--button-hover-fill-color);\n",
              "  }\n",
              "\n",
              "  .colab-df-quickchart-complete:disabled,\n",
              "  .colab-df-quickchart-complete:disabled:hover {\n",
              "    background-color: var(--disabled-bg-color);\n",
              "    fill: var(--disabled-fill-color);\n",
              "    box-shadow: none;\n",
              "  }\n",
              "\n",
              "  .colab-df-spinner {\n",
              "    border: 2px solid var(--fill-color);\n",
              "    border-color: transparent;\n",
              "    border-bottom-color: var(--fill-color);\n",
              "    animation:\n",
              "      spin 1s steps(1) infinite;\n",
              "  }\n",
              "\n",
              "  @keyframes spin {\n",
              "    0% {\n",
              "      border-color: transparent;\n",
              "      border-bottom-color: var(--fill-color);\n",
              "      border-left-color: var(--fill-color);\n",
              "    }\n",
              "    20% {\n",
              "      border-color: transparent;\n",
              "      border-left-color: var(--fill-color);\n",
              "      border-top-color: var(--fill-color);\n",
              "    }\n",
              "    30% {\n",
              "      border-color: transparent;\n",
              "      border-left-color: var(--fill-color);\n",
              "      border-top-color: var(--fill-color);\n",
              "      border-right-color: var(--fill-color);\n",
              "    }\n",
              "    40% {\n",
              "      border-color: transparent;\n",
              "      border-right-color: var(--fill-color);\n",
              "      border-top-color: var(--fill-color);\n",
              "    }\n",
              "    60% {\n",
              "      border-color: transparent;\n",
              "      border-right-color: var(--fill-color);\n",
              "    }\n",
              "    80% {\n",
              "      border-color: transparent;\n",
              "      border-right-color: var(--fill-color);\n",
              "      border-bottom-color: var(--fill-color);\n",
              "    }\n",
              "    90% {\n",
              "      border-color: transparent;\n",
              "      border-bottom-color: var(--fill-color);\n",
              "    }\n",
              "  }\n",
              "</style>\n",
              "\n",
              "  <script>\n",
              "    async function quickchart(key) {\n",
              "      const quickchartButtonEl =\n",
              "        document.querySelector('#' + key + ' button');\n",
              "      quickchartButtonEl.disabled = true;  // To prevent multiple clicks.\n",
              "      quickchartButtonEl.classList.add('colab-df-spinner');\n",
              "      try {\n",
              "        const charts = await google.colab.kernel.invokeFunction(\n",
              "            'suggestCharts', [key], {});\n",
              "      } catch (error) {\n",
              "        console.error('Error during call to suggestCharts:', error);\n",
              "      }\n",
              "      quickchartButtonEl.classList.remove('colab-df-spinner');\n",
              "      quickchartButtonEl.classList.add('colab-df-quickchart-complete');\n",
              "    }\n",
              "    (() => {\n",
              "      let quickchartButtonEl =\n",
              "        document.querySelector('#df-e272f736-4803-4b68-89a7-8bddea208fd9 button');\n",
              "      quickchartButtonEl.style.display =\n",
              "        google.colab.kernel.accessAllowed ? 'block' : 'none';\n",
              "    })();\n",
              "  </script>\n",
              "</div>\n",
              "    </div>\n",
              "  </div>\n"
            ]
          },
          "metadata": {},
          "execution_count": 20
        }
      ]
    },
    {
      "cell_type": "code",
      "source": [
        "news_df.describe(datetime_is_numeric=True)"
      ],
      "metadata": {
        "colab": {
          "base_uri": "https://localhost:8080/",
          "height": 269
        },
        "id": "RVn9MufNaBSa",
        "outputId": "c6616ded-18b8-444e-d5e0-a91e38fd0246"
      },
      "execution_count": 21,
      "outputs": [
        {
          "output_type": "execute_result",
          "data": {
            "text/plain": [
              "                                Date\n",
              "count                           8170\n",
              "mean   2012-04-20 05:56:54.932680704\n",
              "min              2001-01-02 00:00:00\n",
              "25%              2006-09-17 06:00:00\n",
              "50%              2012-04-20 12:00:00\n",
              "75%              2017-11-22 18:00:00\n",
              "max              2023-06-30 00:00:00"
            ],
            "text/html": [
              "\n",
              "  <div id=\"df-ae7de0a5-22d7-4813-b475-7366e5012277\" class=\"colab-df-container\">\n",
              "    <div>\n",
              "<style scoped>\n",
              "    .dataframe tbody tr th:only-of-type {\n",
              "        vertical-align: middle;\n",
              "    }\n",
              "\n",
              "    .dataframe tbody tr th {\n",
              "        vertical-align: top;\n",
              "    }\n",
              "\n",
              "    .dataframe thead th {\n",
              "        text-align: right;\n",
              "    }\n",
              "</style>\n",
              "<table border=\"1\" class=\"dataframe\">\n",
              "  <thead>\n",
              "    <tr style=\"text-align: right;\">\n",
              "      <th></th>\n",
              "      <th>Date</th>\n",
              "    </tr>\n",
              "  </thead>\n",
              "  <tbody>\n",
              "    <tr>\n",
              "      <th>count</th>\n",
              "      <td>8170</td>\n",
              "    </tr>\n",
              "    <tr>\n",
              "      <th>mean</th>\n",
              "      <td>2012-04-20 05:56:54.932680704</td>\n",
              "    </tr>\n",
              "    <tr>\n",
              "      <th>min</th>\n",
              "      <td>2001-01-02 00:00:00</td>\n",
              "    </tr>\n",
              "    <tr>\n",
              "      <th>25%</th>\n",
              "      <td>2006-09-17 06:00:00</td>\n",
              "    </tr>\n",
              "    <tr>\n",
              "      <th>50%</th>\n",
              "      <td>2012-04-20 12:00:00</td>\n",
              "    </tr>\n",
              "    <tr>\n",
              "      <th>75%</th>\n",
              "      <td>2017-11-22 18:00:00</td>\n",
              "    </tr>\n",
              "    <tr>\n",
              "      <th>max</th>\n",
              "      <td>2023-06-30 00:00:00</td>\n",
              "    </tr>\n",
              "  </tbody>\n",
              "</table>\n",
              "</div>\n",
              "    <div class=\"colab-df-buttons\">\n",
              "\n",
              "  <div class=\"colab-df-container\">\n",
              "    <button class=\"colab-df-convert\" onclick=\"convertToInteractive('df-ae7de0a5-22d7-4813-b475-7366e5012277')\"\n",
              "            title=\"Convert this dataframe to an interactive table.\"\n",
              "            style=\"display:none;\">\n",
              "\n",
              "  <svg xmlns=\"http://www.w3.org/2000/svg\" height=\"24px\" viewBox=\"0 -960 960 960\">\n",
              "    <path d=\"M120-120v-720h720v720H120Zm60-500h600v-160H180v160Zm220 220h160v-160H400v160Zm0 220h160v-160H400v160ZM180-400h160v-160H180v160Zm440 0h160v-160H620v160ZM180-180h160v-160H180v160Zm440 0h160v-160H620v160Z\"/>\n",
              "  </svg>\n",
              "    </button>\n",
              "\n",
              "  <style>\n",
              "    .colab-df-container {\n",
              "      display:flex;\n",
              "      gap: 12px;\n",
              "    }\n",
              "\n",
              "    .colab-df-convert {\n",
              "      background-color: #E8F0FE;\n",
              "      border: none;\n",
              "      border-radius: 50%;\n",
              "      cursor: pointer;\n",
              "      display: none;\n",
              "      fill: #1967D2;\n",
              "      height: 32px;\n",
              "      padding: 0 0 0 0;\n",
              "      width: 32px;\n",
              "    }\n",
              "\n",
              "    .colab-df-convert:hover {\n",
              "      background-color: #E2EBFA;\n",
              "      box-shadow: 0px 1px 2px rgba(60, 64, 67, 0.3), 0px 1px 3px 1px rgba(60, 64, 67, 0.15);\n",
              "      fill: #174EA6;\n",
              "    }\n",
              "\n",
              "    .colab-df-buttons div {\n",
              "      margin-bottom: 4px;\n",
              "    }\n",
              "\n",
              "    [theme=dark] .colab-df-convert {\n",
              "      background-color: #3B4455;\n",
              "      fill: #D2E3FC;\n",
              "    }\n",
              "\n",
              "    [theme=dark] .colab-df-convert:hover {\n",
              "      background-color: #434B5C;\n",
              "      box-shadow: 0px 1px 3px 1px rgba(0, 0, 0, 0.15);\n",
              "      filter: drop-shadow(0px 1px 2px rgba(0, 0, 0, 0.3));\n",
              "      fill: #FFFFFF;\n",
              "    }\n",
              "  </style>\n",
              "\n",
              "    <script>\n",
              "      const buttonEl =\n",
              "        document.querySelector('#df-ae7de0a5-22d7-4813-b475-7366e5012277 button.colab-df-convert');\n",
              "      buttonEl.style.display =\n",
              "        google.colab.kernel.accessAllowed ? 'block' : 'none';\n",
              "\n",
              "      async function convertToInteractive(key) {\n",
              "        const element = document.querySelector('#df-ae7de0a5-22d7-4813-b475-7366e5012277');\n",
              "        const dataTable =\n",
              "          await google.colab.kernel.invokeFunction('convertToInteractive',\n",
              "                                                    [key], {});\n",
              "        if (!dataTable) return;\n",
              "\n",
              "        const docLinkHtml = 'Like what you see? Visit the ' +\n",
              "          '<a target=\"_blank\" href=https://colab.research.google.com/notebooks/data_table.ipynb>data table notebook</a>'\n",
              "          + ' to learn more about interactive tables.';\n",
              "        element.innerHTML = '';\n",
              "        dataTable['output_type'] = 'display_data';\n",
              "        await google.colab.output.renderOutput(dataTable, element);\n",
              "        const docLink = document.createElement('div');\n",
              "        docLink.innerHTML = docLinkHtml;\n",
              "        element.appendChild(docLink);\n",
              "      }\n",
              "    </script>\n",
              "  </div>\n",
              "\n",
              "\n",
              "<div id=\"df-19605858-ee8a-414e-a889-f4db71e7fa12\">\n",
              "  <button class=\"colab-df-quickchart\" onclick=\"quickchart('df-19605858-ee8a-414e-a889-f4db71e7fa12')\"\n",
              "            title=\"Suggest charts\"\n",
              "            style=\"display:none;\">\n",
              "\n",
              "<svg xmlns=\"http://www.w3.org/2000/svg\" height=\"24px\"viewBox=\"0 0 24 24\"\n",
              "     width=\"24px\">\n",
              "    <g>\n",
              "        <path d=\"M19 3H5c-1.1 0-2 .9-2 2v14c0 1.1.9 2 2 2h14c1.1 0 2-.9 2-2V5c0-1.1-.9-2-2-2zM9 17H7v-7h2v7zm4 0h-2V7h2v10zm4 0h-2v-4h2v4z\"/>\n",
              "    </g>\n",
              "</svg>\n",
              "  </button>\n",
              "\n",
              "<style>\n",
              "  .colab-df-quickchart {\n",
              "      --bg-color: #E8F0FE;\n",
              "      --fill-color: #1967D2;\n",
              "      --hover-bg-color: #E2EBFA;\n",
              "      --hover-fill-color: #174EA6;\n",
              "      --disabled-fill-color: #AAA;\n",
              "      --disabled-bg-color: #DDD;\n",
              "  }\n",
              "\n",
              "  [theme=dark] .colab-df-quickchart {\n",
              "      --bg-color: #3B4455;\n",
              "      --fill-color: #D2E3FC;\n",
              "      --hover-bg-color: #434B5C;\n",
              "      --hover-fill-color: #FFFFFF;\n",
              "      --disabled-bg-color: #3B4455;\n",
              "      --disabled-fill-color: #666;\n",
              "  }\n",
              "\n",
              "  .colab-df-quickchart {\n",
              "    background-color: var(--bg-color);\n",
              "    border: none;\n",
              "    border-radius: 50%;\n",
              "    cursor: pointer;\n",
              "    display: none;\n",
              "    fill: var(--fill-color);\n",
              "    height: 32px;\n",
              "    padding: 0;\n",
              "    width: 32px;\n",
              "  }\n",
              "\n",
              "  .colab-df-quickchart:hover {\n",
              "    background-color: var(--hover-bg-color);\n",
              "    box-shadow: 0 1px 2px rgba(60, 64, 67, 0.3), 0 1px 3px 1px rgba(60, 64, 67, 0.15);\n",
              "    fill: var(--button-hover-fill-color);\n",
              "  }\n",
              "\n",
              "  .colab-df-quickchart-complete:disabled,\n",
              "  .colab-df-quickchart-complete:disabled:hover {\n",
              "    background-color: var(--disabled-bg-color);\n",
              "    fill: var(--disabled-fill-color);\n",
              "    box-shadow: none;\n",
              "  }\n",
              "\n",
              "  .colab-df-spinner {\n",
              "    border: 2px solid var(--fill-color);\n",
              "    border-color: transparent;\n",
              "    border-bottom-color: var(--fill-color);\n",
              "    animation:\n",
              "      spin 1s steps(1) infinite;\n",
              "  }\n",
              "\n",
              "  @keyframes spin {\n",
              "    0% {\n",
              "      border-color: transparent;\n",
              "      border-bottom-color: var(--fill-color);\n",
              "      border-left-color: var(--fill-color);\n",
              "    }\n",
              "    20% {\n",
              "      border-color: transparent;\n",
              "      border-left-color: var(--fill-color);\n",
              "      border-top-color: var(--fill-color);\n",
              "    }\n",
              "    30% {\n",
              "      border-color: transparent;\n",
              "      border-left-color: var(--fill-color);\n",
              "      border-top-color: var(--fill-color);\n",
              "      border-right-color: var(--fill-color);\n",
              "    }\n",
              "    40% {\n",
              "      border-color: transparent;\n",
              "      border-right-color: var(--fill-color);\n",
              "      border-top-color: var(--fill-color);\n",
              "    }\n",
              "    60% {\n",
              "      border-color: transparent;\n",
              "      border-right-color: var(--fill-color);\n",
              "    }\n",
              "    80% {\n",
              "      border-color: transparent;\n",
              "      border-right-color: var(--fill-color);\n",
              "      border-bottom-color: var(--fill-color);\n",
              "    }\n",
              "    90% {\n",
              "      border-color: transparent;\n",
              "      border-bottom-color: var(--fill-color);\n",
              "    }\n",
              "  }\n",
              "</style>\n",
              "\n",
              "  <script>\n",
              "    async function quickchart(key) {\n",
              "      const quickchartButtonEl =\n",
              "        document.querySelector('#' + key + ' button');\n",
              "      quickchartButtonEl.disabled = true;  // To prevent multiple clicks.\n",
              "      quickchartButtonEl.classList.add('colab-df-spinner');\n",
              "      try {\n",
              "        const charts = await google.colab.kernel.invokeFunction(\n",
              "            'suggestCharts', [key], {});\n",
              "      } catch (error) {\n",
              "        console.error('Error during call to suggestCharts:', error);\n",
              "      }\n",
              "      quickchartButtonEl.classList.remove('colab-df-spinner');\n",
              "      quickchartButtonEl.classList.add('colab-df-quickchart-complete');\n",
              "    }\n",
              "    (() => {\n",
              "      let quickchartButtonEl =\n",
              "        document.querySelector('#df-19605858-ee8a-414e-a889-f4db71e7fa12 button');\n",
              "      quickchartButtonEl.style.display =\n",
              "        google.colab.kernel.accessAllowed ? 'block' : 'none';\n",
              "    })();\n",
              "  </script>\n",
              "</div>\n",
              "    </div>\n",
              "  </div>\n"
            ]
          },
          "metadata": {},
          "execution_count": 21
        }
      ]
    },
    {
      "cell_type": "code",
      "source": [
        "news_df.describe(include='object')"
      ],
      "metadata": {
        "colab": {
          "base_uri": "https://localhost:8080/",
          "height": 175
        },
        "id": "eFf4KvRuupbQ",
        "outputId": "33648533-3688-475a-85a5-db7297a3fc2d"
      },
      "execution_count": 22,
      "outputs": [
        {
          "output_type": "execute_result",
          "data": {
            "text/plain": [
              "                                                     News\n",
              "count                                                8170\n",
              "unique                                               8170\n",
              "top     Status quo will not be disturbed at Ayodhya; s...\n",
              "freq                                                    1"
            ],
            "text/html": [
              "\n",
              "  <div id=\"df-e71b5f77-08b1-4343-9218-3946741e6b79\" class=\"colab-df-container\">\n",
              "    <div>\n",
              "<style scoped>\n",
              "    .dataframe tbody tr th:only-of-type {\n",
              "        vertical-align: middle;\n",
              "    }\n",
              "\n",
              "    .dataframe tbody tr th {\n",
              "        vertical-align: top;\n",
              "    }\n",
              "\n",
              "    .dataframe thead th {\n",
              "        text-align: right;\n",
              "    }\n",
              "</style>\n",
              "<table border=\"1\" class=\"dataframe\">\n",
              "  <thead>\n",
              "    <tr style=\"text-align: right;\">\n",
              "      <th></th>\n",
              "      <th>News</th>\n",
              "    </tr>\n",
              "  </thead>\n",
              "  <tbody>\n",
              "    <tr>\n",
              "      <th>count</th>\n",
              "      <td>8170</td>\n",
              "    </tr>\n",
              "    <tr>\n",
              "      <th>unique</th>\n",
              "      <td>8170</td>\n",
              "    </tr>\n",
              "    <tr>\n",
              "      <th>top</th>\n",
              "      <td>Status quo will not be disturbed at Ayodhya; s...</td>\n",
              "    </tr>\n",
              "    <tr>\n",
              "      <th>freq</th>\n",
              "      <td>1</td>\n",
              "    </tr>\n",
              "  </tbody>\n",
              "</table>\n",
              "</div>\n",
              "    <div class=\"colab-df-buttons\">\n",
              "\n",
              "  <div class=\"colab-df-container\">\n",
              "    <button class=\"colab-df-convert\" onclick=\"convertToInteractive('df-e71b5f77-08b1-4343-9218-3946741e6b79')\"\n",
              "            title=\"Convert this dataframe to an interactive table.\"\n",
              "            style=\"display:none;\">\n",
              "\n",
              "  <svg xmlns=\"http://www.w3.org/2000/svg\" height=\"24px\" viewBox=\"0 -960 960 960\">\n",
              "    <path d=\"M120-120v-720h720v720H120Zm60-500h600v-160H180v160Zm220 220h160v-160H400v160Zm0 220h160v-160H400v160ZM180-400h160v-160H180v160Zm440 0h160v-160H620v160ZM180-180h160v-160H180v160Zm440 0h160v-160H620v160Z\"/>\n",
              "  </svg>\n",
              "    </button>\n",
              "\n",
              "  <style>\n",
              "    .colab-df-container {\n",
              "      display:flex;\n",
              "      gap: 12px;\n",
              "    }\n",
              "\n",
              "    .colab-df-convert {\n",
              "      background-color: #E8F0FE;\n",
              "      border: none;\n",
              "      border-radius: 50%;\n",
              "      cursor: pointer;\n",
              "      display: none;\n",
              "      fill: #1967D2;\n",
              "      height: 32px;\n",
              "      padding: 0 0 0 0;\n",
              "      width: 32px;\n",
              "    }\n",
              "\n",
              "    .colab-df-convert:hover {\n",
              "      background-color: #E2EBFA;\n",
              "      box-shadow: 0px 1px 2px rgba(60, 64, 67, 0.3), 0px 1px 3px 1px rgba(60, 64, 67, 0.15);\n",
              "      fill: #174EA6;\n",
              "    }\n",
              "\n",
              "    .colab-df-buttons div {\n",
              "      margin-bottom: 4px;\n",
              "    }\n",
              "\n",
              "    [theme=dark] .colab-df-convert {\n",
              "      background-color: #3B4455;\n",
              "      fill: #D2E3FC;\n",
              "    }\n",
              "\n",
              "    [theme=dark] .colab-df-convert:hover {\n",
              "      background-color: #434B5C;\n",
              "      box-shadow: 0px 1px 3px 1px rgba(0, 0, 0, 0.15);\n",
              "      filter: drop-shadow(0px 1px 2px rgba(0, 0, 0, 0.3));\n",
              "      fill: #FFFFFF;\n",
              "    }\n",
              "  </style>\n",
              "\n",
              "    <script>\n",
              "      const buttonEl =\n",
              "        document.querySelector('#df-e71b5f77-08b1-4343-9218-3946741e6b79 button.colab-df-convert');\n",
              "      buttonEl.style.display =\n",
              "        google.colab.kernel.accessAllowed ? 'block' : 'none';\n",
              "\n",
              "      async function convertToInteractive(key) {\n",
              "        const element = document.querySelector('#df-e71b5f77-08b1-4343-9218-3946741e6b79');\n",
              "        const dataTable =\n",
              "          await google.colab.kernel.invokeFunction('convertToInteractive',\n",
              "                                                    [key], {});\n",
              "        if (!dataTable) return;\n",
              "\n",
              "        const docLinkHtml = 'Like what you see? Visit the ' +\n",
              "          '<a target=\"_blank\" href=https://colab.research.google.com/notebooks/data_table.ipynb>data table notebook</a>'\n",
              "          + ' to learn more about interactive tables.';\n",
              "        element.innerHTML = '';\n",
              "        dataTable['output_type'] = 'display_data';\n",
              "        await google.colab.output.renderOutput(dataTable, element);\n",
              "        const docLink = document.createElement('div');\n",
              "        docLink.innerHTML = docLinkHtml;\n",
              "        element.appendChild(docLink);\n",
              "      }\n",
              "    </script>\n",
              "  </div>\n",
              "\n",
              "\n",
              "<div id=\"df-9abbf3ee-5a3a-4ccf-b8e4-77f30ef06b61\">\n",
              "  <button class=\"colab-df-quickchart\" onclick=\"quickchart('df-9abbf3ee-5a3a-4ccf-b8e4-77f30ef06b61')\"\n",
              "            title=\"Suggest charts\"\n",
              "            style=\"display:none;\">\n",
              "\n",
              "<svg xmlns=\"http://www.w3.org/2000/svg\" height=\"24px\"viewBox=\"0 0 24 24\"\n",
              "     width=\"24px\">\n",
              "    <g>\n",
              "        <path d=\"M19 3H5c-1.1 0-2 .9-2 2v14c0 1.1.9 2 2 2h14c1.1 0 2-.9 2-2V5c0-1.1-.9-2-2-2zM9 17H7v-7h2v7zm4 0h-2V7h2v10zm4 0h-2v-4h2v4z\"/>\n",
              "    </g>\n",
              "</svg>\n",
              "  </button>\n",
              "\n",
              "<style>\n",
              "  .colab-df-quickchart {\n",
              "      --bg-color: #E8F0FE;\n",
              "      --fill-color: #1967D2;\n",
              "      --hover-bg-color: #E2EBFA;\n",
              "      --hover-fill-color: #174EA6;\n",
              "      --disabled-fill-color: #AAA;\n",
              "      --disabled-bg-color: #DDD;\n",
              "  }\n",
              "\n",
              "  [theme=dark] .colab-df-quickchart {\n",
              "      --bg-color: #3B4455;\n",
              "      --fill-color: #D2E3FC;\n",
              "      --hover-bg-color: #434B5C;\n",
              "      --hover-fill-color: #FFFFFF;\n",
              "      --disabled-bg-color: #3B4455;\n",
              "      --disabled-fill-color: #666;\n",
              "  }\n",
              "\n",
              "  .colab-df-quickchart {\n",
              "    background-color: var(--bg-color);\n",
              "    border: none;\n",
              "    border-radius: 50%;\n",
              "    cursor: pointer;\n",
              "    display: none;\n",
              "    fill: var(--fill-color);\n",
              "    height: 32px;\n",
              "    padding: 0;\n",
              "    width: 32px;\n",
              "  }\n",
              "\n",
              "  .colab-df-quickchart:hover {\n",
              "    background-color: var(--hover-bg-color);\n",
              "    box-shadow: 0 1px 2px rgba(60, 64, 67, 0.3), 0 1px 3px 1px rgba(60, 64, 67, 0.15);\n",
              "    fill: var(--button-hover-fill-color);\n",
              "  }\n",
              "\n",
              "  .colab-df-quickchart-complete:disabled,\n",
              "  .colab-df-quickchart-complete:disabled:hover {\n",
              "    background-color: var(--disabled-bg-color);\n",
              "    fill: var(--disabled-fill-color);\n",
              "    box-shadow: none;\n",
              "  }\n",
              "\n",
              "  .colab-df-spinner {\n",
              "    border: 2px solid var(--fill-color);\n",
              "    border-color: transparent;\n",
              "    border-bottom-color: var(--fill-color);\n",
              "    animation:\n",
              "      spin 1s steps(1) infinite;\n",
              "  }\n",
              "\n",
              "  @keyframes spin {\n",
              "    0% {\n",
              "      border-color: transparent;\n",
              "      border-bottom-color: var(--fill-color);\n",
              "      border-left-color: var(--fill-color);\n",
              "    }\n",
              "    20% {\n",
              "      border-color: transparent;\n",
              "      border-left-color: var(--fill-color);\n",
              "      border-top-color: var(--fill-color);\n",
              "    }\n",
              "    30% {\n",
              "      border-color: transparent;\n",
              "      border-left-color: var(--fill-color);\n",
              "      border-top-color: var(--fill-color);\n",
              "      border-right-color: var(--fill-color);\n",
              "    }\n",
              "    40% {\n",
              "      border-color: transparent;\n",
              "      border-right-color: var(--fill-color);\n",
              "      border-top-color: var(--fill-color);\n",
              "    }\n",
              "    60% {\n",
              "      border-color: transparent;\n",
              "      border-right-color: var(--fill-color);\n",
              "    }\n",
              "    80% {\n",
              "      border-color: transparent;\n",
              "      border-right-color: var(--fill-color);\n",
              "      border-bottom-color: var(--fill-color);\n",
              "    }\n",
              "    90% {\n",
              "      border-color: transparent;\n",
              "      border-bottom-color: var(--fill-color);\n",
              "    }\n",
              "  }\n",
              "</style>\n",
              "\n",
              "  <script>\n",
              "    async function quickchart(key) {\n",
              "      const quickchartButtonEl =\n",
              "        document.querySelector('#' + key + ' button');\n",
              "      quickchartButtonEl.disabled = true;  // To prevent multiple clicks.\n",
              "      quickchartButtonEl.classList.add('colab-df-spinner');\n",
              "      try {\n",
              "        const charts = await google.colab.kernel.invokeFunction(\n",
              "            'suggestCharts', [key], {});\n",
              "      } catch (error) {\n",
              "        console.error('Error during call to suggestCharts:', error);\n",
              "      }\n",
              "      quickchartButtonEl.classList.remove('colab-df-spinner');\n",
              "      quickchartButtonEl.classList.add('colab-df-quickchart-complete');\n",
              "    }\n",
              "    (() => {\n",
              "      let quickchartButtonEl =\n",
              "        document.querySelector('#df-9abbf3ee-5a3a-4ccf-b8e4-77f30ef06b61 button');\n",
              "      quickchartButtonEl.style.display =\n",
              "        google.colab.kernel.accessAllowed ? 'block' : 'none';\n",
              "    })();\n",
              "  </script>\n",
              "</div>\n",
              "    </div>\n",
              "  </div>\n"
            ]
          },
          "metadata": {},
          "execution_count": 22
        }
      ]
    },
    {
      "cell_type": "code",
      "source": [
        "news_df.isnull().sum()"
      ],
      "metadata": {
        "colab": {
          "base_uri": "https://localhost:8080/"
        },
        "id": "fpopRQGRaDZS",
        "outputId": "de9da2d7-bc20-416a-9bec-81c547c69f6b"
      },
      "execution_count": 23,
      "outputs": [
        {
          "output_type": "execute_result",
          "data": {
            "text/plain": [
              "Date    0\n",
              "News    0\n",
              "dtype: int64"
            ]
          },
          "metadata": {},
          "execution_count": 23
        }
      ]
    },
    {
      "cell_type": "markdown",
      "source": [
        "#**Historical Stock Data**"
      ],
      "metadata": {
        "id": "7qjxotujipl_"
      }
    },
    {
      "cell_type": "code",
      "source": [
        "import yfinance as yf"
      ],
      "metadata": {
        "id": "g42nvKyfeguo"
      },
      "execution_count": 24,
      "outputs": []
    },
    {
      "cell_type": "markdown",
      "source": [
        "Let have the stock data of the same years to the above news data.\n",
        "\n",
        "**Date Selection**"
      ],
      "metadata": {
        "id": "U4hlpkF8uoGG"
      }
    },
    {
      "cell_type": "code",
      "source": [
        "start_date = news_df['Date'].min()\n",
        "start_date"
      ],
      "metadata": {
        "colab": {
          "base_uri": "https://localhost:8080/"
        },
        "id": "XgezqhabFrKb",
        "outputId": "1d66a0f5-b166-435e-d087-41b43da5bdac"
      },
      "execution_count": 25,
      "outputs": [
        {
          "output_type": "execute_result",
          "data": {
            "text/plain": [
              "Timestamp('2001-01-02 00:00:00')"
            ]
          },
          "metadata": {},
          "execution_count": 25
        }
      ]
    },
    {
      "cell_type": "code",
      "source": [
        "end_date = news_df['Date'].max()\n",
        "end_date"
      ],
      "metadata": {
        "colab": {
          "base_uri": "https://localhost:8080/"
        },
        "id": "TqB17YeGua8N",
        "outputId": "d5d075a2-d73a-4da6-acc1-fc9cfc12426f"
      },
      "execution_count": 26,
      "outputs": [
        {
          "output_type": "execute_result",
          "data": {
            "text/plain": [
              "Timestamp('2023-06-30 00:00:00')"
            ]
          },
          "metadata": {},
          "execution_count": 26
        }
      ]
    },
    {
      "cell_type": "code",
      "source": [
        "symbol = \"AAPL\"\n",
        "start_date = start_date.strftime('%Y-%m-%d')\n",
        "end_date = end_date.strftime('%Y-%m-%d')\n"
      ],
      "metadata": {
        "id": "-ElDjfQMFKrb"
      },
      "execution_count": 27,
      "outputs": []
    },
    {
      "cell_type": "markdown",
      "source": [
        "**Data Downloading**"
      ],
      "metadata": {
        "id": "6-AWtDmvVqmx"
      }
    },
    {
      "cell_type": "code",
      "source": [
        "# Fetch the data\n",
        "stock_df = yf.download(symbol, start=start_date, end=end_date)"
      ],
      "metadata": {
        "colab": {
          "base_uri": "https://localhost:8080/"
        },
        "outputId": "c4d58dbd-2526-48a4-e6cb-b715a535837d",
        "id": "dLPA2HZkFKrc"
      },
      "execution_count": 28,
      "outputs": [
        {
          "output_type": "stream",
          "name": "stdout",
          "text": [
            "\r[*********************100%%**********************]  1 of 1 completed\n"
          ]
        }
      ]
    },
    {
      "cell_type": "markdown",
      "source": [
        "**AAPL Stock Data**"
      ],
      "metadata": {
        "id": "O5zfVlKpV2Sj"
      }
    },
    {
      "cell_type": "code",
      "source": [
        "stock_df.head(5)"
      ],
      "metadata": {
        "colab": {
          "base_uri": "https://localhost:8080/",
          "height": 238
        },
        "outputId": "68c805aa-4ec6-421d-ce41-246aa0359771",
        "id": "_DyEKDivFKrg"
      },
      "execution_count": 29,
      "outputs": [
        {
          "output_type": "execute_result",
          "data": {
            "text/plain": [
              "                Open      High       Low     Close  Adj Close     Volume\n",
              "Date                                                                    \n",
              "2001-01-02  0.265625  0.272321  0.260045  0.265625   0.225165  452312000\n",
              "2001-01-03  0.258929  0.297991  0.257813  0.292411   0.247871  817073600\n",
              "2001-01-04  0.323940  0.330357  0.300223  0.304688   0.258278  739396000\n",
              "2001-01-05  0.302455  0.310268  0.286830  0.292411   0.247871  412356000\n",
              "2001-01-08  0.302455  0.303292  0.284598  0.295759   0.250709  373699200"
            ],
            "text/html": [
              "\n",
              "  <div id=\"df-c616bb92-975c-4744-82b7-670bc42f0cb5\" class=\"colab-df-container\">\n",
              "    <div>\n",
              "<style scoped>\n",
              "    .dataframe tbody tr th:only-of-type {\n",
              "        vertical-align: middle;\n",
              "    }\n",
              "\n",
              "    .dataframe tbody tr th {\n",
              "        vertical-align: top;\n",
              "    }\n",
              "\n",
              "    .dataframe thead th {\n",
              "        text-align: right;\n",
              "    }\n",
              "</style>\n",
              "<table border=\"1\" class=\"dataframe\">\n",
              "  <thead>\n",
              "    <tr style=\"text-align: right;\">\n",
              "      <th></th>\n",
              "      <th>Open</th>\n",
              "      <th>High</th>\n",
              "      <th>Low</th>\n",
              "      <th>Close</th>\n",
              "      <th>Adj Close</th>\n",
              "      <th>Volume</th>\n",
              "    </tr>\n",
              "    <tr>\n",
              "      <th>Date</th>\n",
              "      <th></th>\n",
              "      <th></th>\n",
              "      <th></th>\n",
              "      <th></th>\n",
              "      <th></th>\n",
              "      <th></th>\n",
              "    </tr>\n",
              "  </thead>\n",
              "  <tbody>\n",
              "    <tr>\n",
              "      <th>2001-01-02</th>\n",
              "      <td>0.265625</td>\n",
              "      <td>0.272321</td>\n",
              "      <td>0.260045</td>\n",
              "      <td>0.265625</td>\n",
              "      <td>0.225165</td>\n",
              "      <td>452312000</td>\n",
              "    </tr>\n",
              "    <tr>\n",
              "      <th>2001-01-03</th>\n",
              "      <td>0.258929</td>\n",
              "      <td>0.297991</td>\n",
              "      <td>0.257813</td>\n",
              "      <td>0.292411</td>\n",
              "      <td>0.247871</td>\n",
              "      <td>817073600</td>\n",
              "    </tr>\n",
              "    <tr>\n",
              "      <th>2001-01-04</th>\n",
              "      <td>0.323940</td>\n",
              "      <td>0.330357</td>\n",
              "      <td>0.300223</td>\n",
              "      <td>0.304688</td>\n",
              "      <td>0.258278</td>\n",
              "      <td>739396000</td>\n",
              "    </tr>\n",
              "    <tr>\n",
              "      <th>2001-01-05</th>\n",
              "      <td>0.302455</td>\n",
              "      <td>0.310268</td>\n",
              "      <td>0.286830</td>\n",
              "      <td>0.292411</td>\n",
              "      <td>0.247871</td>\n",
              "      <td>412356000</td>\n",
              "    </tr>\n",
              "    <tr>\n",
              "      <th>2001-01-08</th>\n",
              "      <td>0.302455</td>\n",
              "      <td>0.303292</td>\n",
              "      <td>0.284598</td>\n",
              "      <td>0.295759</td>\n",
              "      <td>0.250709</td>\n",
              "      <td>373699200</td>\n",
              "    </tr>\n",
              "  </tbody>\n",
              "</table>\n",
              "</div>\n",
              "    <div class=\"colab-df-buttons\">\n",
              "\n",
              "  <div class=\"colab-df-container\">\n",
              "    <button class=\"colab-df-convert\" onclick=\"convertToInteractive('df-c616bb92-975c-4744-82b7-670bc42f0cb5')\"\n",
              "            title=\"Convert this dataframe to an interactive table.\"\n",
              "            style=\"display:none;\">\n",
              "\n",
              "  <svg xmlns=\"http://www.w3.org/2000/svg\" height=\"24px\" viewBox=\"0 -960 960 960\">\n",
              "    <path d=\"M120-120v-720h720v720H120Zm60-500h600v-160H180v160Zm220 220h160v-160H400v160Zm0 220h160v-160H400v160ZM180-400h160v-160H180v160Zm440 0h160v-160H620v160ZM180-180h160v-160H180v160Zm440 0h160v-160H620v160Z\"/>\n",
              "  </svg>\n",
              "    </button>\n",
              "\n",
              "  <style>\n",
              "    .colab-df-container {\n",
              "      display:flex;\n",
              "      gap: 12px;\n",
              "    }\n",
              "\n",
              "    .colab-df-convert {\n",
              "      background-color: #E8F0FE;\n",
              "      border: none;\n",
              "      border-radius: 50%;\n",
              "      cursor: pointer;\n",
              "      display: none;\n",
              "      fill: #1967D2;\n",
              "      height: 32px;\n",
              "      padding: 0 0 0 0;\n",
              "      width: 32px;\n",
              "    }\n",
              "\n",
              "    .colab-df-convert:hover {\n",
              "      background-color: #E2EBFA;\n",
              "      box-shadow: 0px 1px 2px rgba(60, 64, 67, 0.3), 0px 1px 3px 1px rgba(60, 64, 67, 0.15);\n",
              "      fill: #174EA6;\n",
              "    }\n",
              "\n",
              "    .colab-df-buttons div {\n",
              "      margin-bottom: 4px;\n",
              "    }\n",
              "\n",
              "    [theme=dark] .colab-df-convert {\n",
              "      background-color: #3B4455;\n",
              "      fill: #D2E3FC;\n",
              "    }\n",
              "\n",
              "    [theme=dark] .colab-df-convert:hover {\n",
              "      background-color: #434B5C;\n",
              "      box-shadow: 0px 1px 3px 1px rgba(0, 0, 0, 0.15);\n",
              "      filter: drop-shadow(0px 1px 2px rgba(0, 0, 0, 0.3));\n",
              "      fill: #FFFFFF;\n",
              "    }\n",
              "  </style>\n",
              "\n",
              "    <script>\n",
              "      const buttonEl =\n",
              "        document.querySelector('#df-c616bb92-975c-4744-82b7-670bc42f0cb5 button.colab-df-convert');\n",
              "      buttonEl.style.display =\n",
              "        google.colab.kernel.accessAllowed ? 'block' : 'none';\n",
              "\n",
              "      async function convertToInteractive(key) {\n",
              "        const element = document.querySelector('#df-c616bb92-975c-4744-82b7-670bc42f0cb5');\n",
              "        const dataTable =\n",
              "          await google.colab.kernel.invokeFunction('convertToInteractive',\n",
              "                                                    [key], {});\n",
              "        if (!dataTable) return;\n",
              "\n",
              "        const docLinkHtml = 'Like what you see? Visit the ' +\n",
              "          '<a target=\"_blank\" href=https://colab.research.google.com/notebooks/data_table.ipynb>data table notebook</a>'\n",
              "          + ' to learn more about interactive tables.';\n",
              "        element.innerHTML = '';\n",
              "        dataTable['output_type'] = 'display_data';\n",
              "        await google.colab.output.renderOutput(dataTable, element);\n",
              "        const docLink = document.createElement('div');\n",
              "        docLink.innerHTML = docLinkHtml;\n",
              "        element.appendChild(docLink);\n",
              "      }\n",
              "    </script>\n",
              "  </div>\n",
              "\n",
              "\n",
              "<div id=\"df-9854db64-f498-4baf-bc6d-375b2ee70e5d\">\n",
              "  <button class=\"colab-df-quickchart\" onclick=\"quickchart('df-9854db64-f498-4baf-bc6d-375b2ee70e5d')\"\n",
              "            title=\"Suggest charts\"\n",
              "            style=\"display:none;\">\n",
              "\n",
              "<svg xmlns=\"http://www.w3.org/2000/svg\" height=\"24px\"viewBox=\"0 0 24 24\"\n",
              "     width=\"24px\">\n",
              "    <g>\n",
              "        <path d=\"M19 3H5c-1.1 0-2 .9-2 2v14c0 1.1.9 2 2 2h14c1.1 0 2-.9 2-2V5c0-1.1-.9-2-2-2zM9 17H7v-7h2v7zm4 0h-2V7h2v10zm4 0h-2v-4h2v4z\"/>\n",
              "    </g>\n",
              "</svg>\n",
              "  </button>\n",
              "\n",
              "<style>\n",
              "  .colab-df-quickchart {\n",
              "      --bg-color: #E8F0FE;\n",
              "      --fill-color: #1967D2;\n",
              "      --hover-bg-color: #E2EBFA;\n",
              "      --hover-fill-color: #174EA6;\n",
              "      --disabled-fill-color: #AAA;\n",
              "      --disabled-bg-color: #DDD;\n",
              "  }\n",
              "\n",
              "  [theme=dark] .colab-df-quickchart {\n",
              "      --bg-color: #3B4455;\n",
              "      --fill-color: #D2E3FC;\n",
              "      --hover-bg-color: #434B5C;\n",
              "      --hover-fill-color: #FFFFFF;\n",
              "      --disabled-bg-color: #3B4455;\n",
              "      --disabled-fill-color: #666;\n",
              "  }\n",
              "\n",
              "  .colab-df-quickchart {\n",
              "    background-color: var(--bg-color);\n",
              "    border: none;\n",
              "    border-radius: 50%;\n",
              "    cursor: pointer;\n",
              "    display: none;\n",
              "    fill: var(--fill-color);\n",
              "    height: 32px;\n",
              "    padding: 0;\n",
              "    width: 32px;\n",
              "  }\n",
              "\n",
              "  .colab-df-quickchart:hover {\n",
              "    background-color: var(--hover-bg-color);\n",
              "    box-shadow: 0 1px 2px rgba(60, 64, 67, 0.3), 0 1px 3px 1px rgba(60, 64, 67, 0.15);\n",
              "    fill: var(--button-hover-fill-color);\n",
              "  }\n",
              "\n",
              "  .colab-df-quickchart-complete:disabled,\n",
              "  .colab-df-quickchart-complete:disabled:hover {\n",
              "    background-color: var(--disabled-bg-color);\n",
              "    fill: var(--disabled-fill-color);\n",
              "    box-shadow: none;\n",
              "  }\n",
              "\n",
              "  .colab-df-spinner {\n",
              "    border: 2px solid var(--fill-color);\n",
              "    border-color: transparent;\n",
              "    border-bottom-color: var(--fill-color);\n",
              "    animation:\n",
              "      spin 1s steps(1) infinite;\n",
              "  }\n",
              "\n",
              "  @keyframes spin {\n",
              "    0% {\n",
              "      border-color: transparent;\n",
              "      border-bottom-color: var(--fill-color);\n",
              "      border-left-color: var(--fill-color);\n",
              "    }\n",
              "    20% {\n",
              "      border-color: transparent;\n",
              "      border-left-color: var(--fill-color);\n",
              "      border-top-color: var(--fill-color);\n",
              "    }\n",
              "    30% {\n",
              "      border-color: transparent;\n",
              "      border-left-color: var(--fill-color);\n",
              "      border-top-color: var(--fill-color);\n",
              "      border-right-color: var(--fill-color);\n",
              "    }\n",
              "    40% {\n",
              "      border-color: transparent;\n",
              "      border-right-color: var(--fill-color);\n",
              "      border-top-color: var(--fill-color);\n",
              "    }\n",
              "    60% {\n",
              "      border-color: transparent;\n",
              "      border-right-color: var(--fill-color);\n",
              "    }\n",
              "    80% {\n",
              "      border-color: transparent;\n",
              "      border-right-color: var(--fill-color);\n",
              "      border-bottom-color: var(--fill-color);\n",
              "    }\n",
              "    90% {\n",
              "      border-color: transparent;\n",
              "      border-bottom-color: var(--fill-color);\n",
              "    }\n",
              "  }\n",
              "</style>\n",
              "\n",
              "  <script>\n",
              "    async function quickchart(key) {\n",
              "      const quickchartButtonEl =\n",
              "        document.querySelector('#' + key + ' button');\n",
              "      quickchartButtonEl.disabled = true;  // To prevent multiple clicks.\n",
              "      quickchartButtonEl.classList.add('colab-df-spinner');\n",
              "      try {\n",
              "        const charts = await google.colab.kernel.invokeFunction(\n",
              "            'suggestCharts', [key], {});\n",
              "      } catch (error) {\n",
              "        console.error('Error during call to suggestCharts:', error);\n",
              "      }\n",
              "      quickchartButtonEl.classList.remove('colab-df-spinner');\n",
              "      quickchartButtonEl.classList.add('colab-df-quickchart-complete');\n",
              "    }\n",
              "    (() => {\n",
              "      let quickchartButtonEl =\n",
              "        document.querySelector('#df-9854db64-f498-4baf-bc6d-375b2ee70e5d button');\n",
              "      quickchartButtonEl.style.display =\n",
              "        google.colab.kernel.accessAllowed ? 'block' : 'none';\n",
              "    })();\n",
              "  </script>\n",
              "</div>\n",
              "    </div>\n",
              "  </div>\n"
            ]
          },
          "metadata": {},
          "execution_count": 29
        }
      ]
    },
    {
      "cell_type": "code",
      "source": [
        "stock_df.reset_index(inplace=True)"
      ],
      "metadata": {
        "id": "rVi0qE7cf5rG"
      },
      "execution_count": 30,
      "outputs": []
    },
    {
      "cell_type": "code",
      "source": [
        "stock_df.head(3)"
      ],
      "metadata": {
        "colab": {
          "base_uri": "https://localhost:8080/",
          "height": 143
        },
        "id": "UNngQjJOjAlH",
        "outputId": "563b3c4a-5ff7-49fa-fdd7-e5c3e5bf4c0a"
      },
      "execution_count": 31,
      "outputs": [
        {
          "output_type": "execute_result",
          "data": {
            "text/plain": [
              "        Date      Open      High       Low     Close  Adj Close     Volume\n",
              "0 2001-01-02  0.265625  0.272321  0.260045  0.265625   0.225165  452312000\n",
              "1 2001-01-03  0.258929  0.297991  0.257813  0.292411   0.247871  817073600\n",
              "2 2001-01-04  0.323940  0.330357  0.300223  0.304688   0.258278  739396000"
            ],
            "text/html": [
              "\n",
              "  <div id=\"df-c48b8c8b-ecb6-4dc3-aabb-5cfed3f5d963\" class=\"colab-df-container\">\n",
              "    <div>\n",
              "<style scoped>\n",
              "    .dataframe tbody tr th:only-of-type {\n",
              "        vertical-align: middle;\n",
              "    }\n",
              "\n",
              "    .dataframe tbody tr th {\n",
              "        vertical-align: top;\n",
              "    }\n",
              "\n",
              "    .dataframe thead th {\n",
              "        text-align: right;\n",
              "    }\n",
              "</style>\n",
              "<table border=\"1\" class=\"dataframe\">\n",
              "  <thead>\n",
              "    <tr style=\"text-align: right;\">\n",
              "      <th></th>\n",
              "      <th>Date</th>\n",
              "      <th>Open</th>\n",
              "      <th>High</th>\n",
              "      <th>Low</th>\n",
              "      <th>Close</th>\n",
              "      <th>Adj Close</th>\n",
              "      <th>Volume</th>\n",
              "    </tr>\n",
              "  </thead>\n",
              "  <tbody>\n",
              "    <tr>\n",
              "      <th>0</th>\n",
              "      <td>2001-01-02</td>\n",
              "      <td>0.265625</td>\n",
              "      <td>0.272321</td>\n",
              "      <td>0.260045</td>\n",
              "      <td>0.265625</td>\n",
              "      <td>0.225165</td>\n",
              "      <td>452312000</td>\n",
              "    </tr>\n",
              "    <tr>\n",
              "      <th>1</th>\n",
              "      <td>2001-01-03</td>\n",
              "      <td>0.258929</td>\n",
              "      <td>0.297991</td>\n",
              "      <td>0.257813</td>\n",
              "      <td>0.292411</td>\n",
              "      <td>0.247871</td>\n",
              "      <td>817073600</td>\n",
              "    </tr>\n",
              "    <tr>\n",
              "      <th>2</th>\n",
              "      <td>2001-01-04</td>\n",
              "      <td>0.323940</td>\n",
              "      <td>0.330357</td>\n",
              "      <td>0.300223</td>\n",
              "      <td>0.304688</td>\n",
              "      <td>0.258278</td>\n",
              "      <td>739396000</td>\n",
              "    </tr>\n",
              "  </tbody>\n",
              "</table>\n",
              "</div>\n",
              "    <div class=\"colab-df-buttons\">\n",
              "\n",
              "  <div class=\"colab-df-container\">\n",
              "    <button class=\"colab-df-convert\" onclick=\"convertToInteractive('df-c48b8c8b-ecb6-4dc3-aabb-5cfed3f5d963')\"\n",
              "            title=\"Convert this dataframe to an interactive table.\"\n",
              "            style=\"display:none;\">\n",
              "\n",
              "  <svg xmlns=\"http://www.w3.org/2000/svg\" height=\"24px\" viewBox=\"0 -960 960 960\">\n",
              "    <path d=\"M120-120v-720h720v720H120Zm60-500h600v-160H180v160Zm220 220h160v-160H400v160Zm0 220h160v-160H400v160ZM180-400h160v-160H180v160Zm440 0h160v-160H620v160ZM180-180h160v-160H180v160Zm440 0h160v-160H620v160Z\"/>\n",
              "  </svg>\n",
              "    </button>\n",
              "\n",
              "  <style>\n",
              "    .colab-df-container {\n",
              "      display:flex;\n",
              "      gap: 12px;\n",
              "    }\n",
              "\n",
              "    .colab-df-convert {\n",
              "      background-color: #E8F0FE;\n",
              "      border: none;\n",
              "      border-radius: 50%;\n",
              "      cursor: pointer;\n",
              "      display: none;\n",
              "      fill: #1967D2;\n",
              "      height: 32px;\n",
              "      padding: 0 0 0 0;\n",
              "      width: 32px;\n",
              "    }\n",
              "\n",
              "    .colab-df-convert:hover {\n",
              "      background-color: #E2EBFA;\n",
              "      box-shadow: 0px 1px 2px rgba(60, 64, 67, 0.3), 0px 1px 3px 1px rgba(60, 64, 67, 0.15);\n",
              "      fill: #174EA6;\n",
              "    }\n",
              "\n",
              "    .colab-df-buttons div {\n",
              "      margin-bottom: 4px;\n",
              "    }\n",
              "\n",
              "    [theme=dark] .colab-df-convert {\n",
              "      background-color: #3B4455;\n",
              "      fill: #D2E3FC;\n",
              "    }\n",
              "\n",
              "    [theme=dark] .colab-df-convert:hover {\n",
              "      background-color: #434B5C;\n",
              "      box-shadow: 0px 1px 3px 1px rgba(0, 0, 0, 0.15);\n",
              "      filter: drop-shadow(0px 1px 2px rgba(0, 0, 0, 0.3));\n",
              "      fill: #FFFFFF;\n",
              "    }\n",
              "  </style>\n",
              "\n",
              "    <script>\n",
              "      const buttonEl =\n",
              "        document.querySelector('#df-c48b8c8b-ecb6-4dc3-aabb-5cfed3f5d963 button.colab-df-convert');\n",
              "      buttonEl.style.display =\n",
              "        google.colab.kernel.accessAllowed ? 'block' : 'none';\n",
              "\n",
              "      async function convertToInteractive(key) {\n",
              "        const element = document.querySelector('#df-c48b8c8b-ecb6-4dc3-aabb-5cfed3f5d963');\n",
              "        const dataTable =\n",
              "          await google.colab.kernel.invokeFunction('convertToInteractive',\n",
              "                                                    [key], {});\n",
              "        if (!dataTable) return;\n",
              "\n",
              "        const docLinkHtml = 'Like what you see? Visit the ' +\n",
              "          '<a target=\"_blank\" href=https://colab.research.google.com/notebooks/data_table.ipynb>data table notebook</a>'\n",
              "          + ' to learn more about interactive tables.';\n",
              "        element.innerHTML = '';\n",
              "        dataTable['output_type'] = 'display_data';\n",
              "        await google.colab.output.renderOutput(dataTable, element);\n",
              "        const docLink = document.createElement('div');\n",
              "        docLink.innerHTML = docLinkHtml;\n",
              "        element.appendChild(docLink);\n",
              "      }\n",
              "    </script>\n",
              "  </div>\n",
              "\n",
              "\n",
              "<div id=\"df-0643a040-5f1b-4a82-9941-a10d96c42197\">\n",
              "  <button class=\"colab-df-quickchart\" onclick=\"quickchart('df-0643a040-5f1b-4a82-9941-a10d96c42197')\"\n",
              "            title=\"Suggest charts\"\n",
              "            style=\"display:none;\">\n",
              "\n",
              "<svg xmlns=\"http://www.w3.org/2000/svg\" height=\"24px\"viewBox=\"0 0 24 24\"\n",
              "     width=\"24px\">\n",
              "    <g>\n",
              "        <path d=\"M19 3H5c-1.1 0-2 .9-2 2v14c0 1.1.9 2 2 2h14c1.1 0 2-.9 2-2V5c0-1.1-.9-2-2-2zM9 17H7v-7h2v7zm4 0h-2V7h2v10zm4 0h-2v-4h2v4z\"/>\n",
              "    </g>\n",
              "</svg>\n",
              "  </button>\n",
              "\n",
              "<style>\n",
              "  .colab-df-quickchart {\n",
              "      --bg-color: #E8F0FE;\n",
              "      --fill-color: #1967D2;\n",
              "      --hover-bg-color: #E2EBFA;\n",
              "      --hover-fill-color: #174EA6;\n",
              "      --disabled-fill-color: #AAA;\n",
              "      --disabled-bg-color: #DDD;\n",
              "  }\n",
              "\n",
              "  [theme=dark] .colab-df-quickchart {\n",
              "      --bg-color: #3B4455;\n",
              "      --fill-color: #D2E3FC;\n",
              "      --hover-bg-color: #434B5C;\n",
              "      --hover-fill-color: #FFFFFF;\n",
              "      --disabled-bg-color: #3B4455;\n",
              "      --disabled-fill-color: #666;\n",
              "  }\n",
              "\n",
              "  .colab-df-quickchart {\n",
              "    background-color: var(--bg-color);\n",
              "    border: none;\n",
              "    border-radius: 50%;\n",
              "    cursor: pointer;\n",
              "    display: none;\n",
              "    fill: var(--fill-color);\n",
              "    height: 32px;\n",
              "    padding: 0;\n",
              "    width: 32px;\n",
              "  }\n",
              "\n",
              "  .colab-df-quickchart:hover {\n",
              "    background-color: var(--hover-bg-color);\n",
              "    box-shadow: 0 1px 2px rgba(60, 64, 67, 0.3), 0 1px 3px 1px rgba(60, 64, 67, 0.15);\n",
              "    fill: var(--button-hover-fill-color);\n",
              "  }\n",
              "\n",
              "  .colab-df-quickchart-complete:disabled,\n",
              "  .colab-df-quickchart-complete:disabled:hover {\n",
              "    background-color: var(--disabled-bg-color);\n",
              "    fill: var(--disabled-fill-color);\n",
              "    box-shadow: none;\n",
              "  }\n",
              "\n",
              "  .colab-df-spinner {\n",
              "    border: 2px solid var(--fill-color);\n",
              "    border-color: transparent;\n",
              "    border-bottom-color: var(--fill-color);\n",
              "    animation:\n",
              "      spin 1s steps(1) infinite;\n",
              "  }\n",
              "\n",
              "  @keyframes spin {\n",
              "    0% {\n",
              "      border-color: transparent;\n",
              "      border-bottom-color: var(--fill-color);\n",
              "      border-left-color: var(--fill-color);\n",
              "    }\n",
              "    20% {\n",
              "      border-color: transparent;\n",
              "      border-left-color: var(--fill-color);\n",
              "      border-top-color: var(--fill-color);\n",
              "    }\n",
              "    30% {\n",
              "      border-color: transparent;\n",
              "      border-left-color: var(--fill-color);\n",
              "      border-top-color: var(--fill-color);\n",
              "      border-right-color: var(--fill-color);\n",
              "    }\n",
              "    40% {\n",
              "      border-color: transparent;\n",
              "      border-right-color: var(--fill-color);\n",
              "      border-top-color: var(--fill-color);\n",
              "    }\n",
              "    60% {\n",
              "      border-color: transparent;\n",
              "      border-right-color: var(--fill-color);\n",
              "    }\n",
              "    80% {\n",
              "      border-color: transparent;\n",
              "      border-right-color: var(--fill-color);\n",
              "      border-bottom-color: var(--fill-color);\n",
              "    }\n",
              "    90% {\n",
              "      border-color: transparent;\n",
              "      border-bottom-color: var(--fill-color);\n",
              "    }\n",
              "  }\n",
              "</style>\n",
              "\n",
              "  <script>\n",
              "    async function quickchart(key) {\n",
              "      const quickchartButtonEl =\n",
              "        document.querySelector('#' + key + ' button');\n",
              "      quickchartButtonEl.disabled = true;  // To prevent multiple clicks.\n",
              "      quickchartButtonEl.classList.add('colab-df-spinner');\n",
              "      try {\n",
              "        const charts = await google.colab.kernel.invokeFunction(\n",
              "            'suggestCharts', [key], {});\n",
              "      } catch (error) {\n",
              "        console.error('Error during call to suggestCharts:', error);\n",
              "      }\n",
              "      quickchartButtonEl.classList.remove('colab-df-spinner');\n",
              "      quickchartButtonEl.classList.add('colab-df-quickchart-complete');\n",
              "    }\n",
              "    (() => {\n",
              "      let quickchartButtonEl =\n",
              "        document.querySelector('#df-0643a040-5f1b-4a82-9941-a10d96c42197 button');\n",
              "      quickchartButtonEl.style.display =\n",
              "        google.colab.kernel.accessAllowed ? 'block' : 'none';\n",
              "    })();\n",
              "  </script>\n",
              "</div>\n",
              "    </div>\n",
              "  </div>\n"
            ]
          },
          "metadata": {},
          "execution_count": 31
        }
      ]
    },
    {
      "cell_type": "markdown",
      "source": [
        "**Let check, is the data sorted w.r.t date**"
      ],
      "metadata": {
        "id": "YIb0xZB0X_4-"
      }
    },
    {
      "cell_type": "code",
      "source": [
        "print(f'In Stock Data, the Data is sorted w.r.t Date: {stock_df[\"Date\"].dt.date.is_monotonic_increasing}')\n",
        "print(f'In News Data, the Data is sorted w.r.t Date: {news_df[\"Date\"].dt.date.is_monotonic_increasing}')"
      ],
      "metadata": {
        "colab": {
          "base_uri": "https://localhost:8080/"
        },
        "id": "RtZIpTmdYBgN",
        "outputId": "bd492662-6517-4aa4-c6a7-c5dd2f1807c2"
      },
      "execution_count": 32,
      "outputs": [
        {
          "output_type": "stream",
          "name": "stdout",
          "text": [
            "In Stock Data, the Data is sorted w.r.t Date: True\n",
            "In News Data, the Data is sorted w.r.t Date: True\n"
          ]
        }
      ]
    },
    {
      "cell_type": "markdown",
      "source": [
        "**Hence, the datasets are sorted w.r.t date.**\n",
        "\n",
        "Sorting data by date (by monotonic_increasing order) is crucial because stock prices often exhibit temporal dependencies. The order of historical prices can impact the current price, and models require chronological data to capture these patterns effectively. This sorting also simplifies time-based splitting, feature engineering, and visualization, making our analysis and predictions more accurate and reliable."
      ],
      "metadata": {
        "id": "GcgOn_mHZIu0"
      }
    },
    {
      "cell_type": "markdown",
      "source": [
        "##**Stock Data Features Overview**"
      ],
      "metadata": {
        "id": "xWcVG-hIV8-N"
      }
    },
    {
      "cell_type": "code",
      "source": [
        "stock_df.info()"
      ],
      "metadata": {
        "colab": {
          "base_uri": "https://localhost:8080/"
        },
        "id": "y6fzq7pLKx_I",
        "outputId": "ba459bf6-e6c0-4585-96c5-8932e0325e74"
      },
      "execution_count": 33,
      "outputs": [
        {
          "output_type": "stream",
          "name": "stdout",
          "text": [
            "<class 'pandas.core.frame.DataFrame'>\n",
            "RangeIndex: 5658 entries, 0 to 5657\n",
            "Data columns (total 7 columns):\n",
            " #   Column     Non-Null Count  Dtype         \n",
            "---  ------     --------------  -----         \n",
            " 0   Date       5658 non-null   datetime64[ns]\n",
            " 1   Open       5658 non-null   float64       \n",
            " 2   High       5658 non-null   float64       \n",
            " 3   Low        5658 non-null   float64       \n",
            " 4   Close      5658 non-null   float64       \n",
            " 5   Adj Close  5658 non-null   float64       \n",
            " 6   Volume     5658 non-null   int64         \n",
            "dtypes: datetime64[ns](1), float64(5), int64(1)\n",
            "memory usage: 309.5 KB\n"
          ]
        }
      ]
    },
    {
      "cell_type": "markdown",
      "source": [
        "**Basic Statistics**"
      ],
      "metadata": {
        "id": "G3YT8QzUWCtJ"
      }
    },
    {
      "cell_type": "code",
      "source": [
        "stock_df.describe()"
      ],
      "metadata": {
        "colab": {
          "base_uri": "https://localhost:8080/",
          "height": 300
        },
        "id": "eHHG9MlWepIR",
        "outputId": "7742b3d8-671b-42b7-b087-20750a7d78d5"
      },
      "execution_count": 34,
      "outputs": [
        {
          "output_type": "execute_result",
          "data": {
            "text/plain": [
              "              Open         High          Low        Close    Adj Close  \\\n",
              "count  5658.000000  5658.000000  5658.000000  5658.000000  5658.000000   \n",
              "mean     34.070560    34.453706    33.702501    34.094835    32.710705   \n",
              "std      47.150836    47.717334    46.630048    47.202338    46.930783   \n",
              "min       0.231964     0.235536     0.227143     0.234286     0.198599   \n",
              "25%       2.647054     2.673928     2.617589     2.647054     2.243854   \n",
              "50%      15.410714    15.547857    15.251429    15.371071    13.262447   \n",
              "75%      39.961874    40.248125    39.626875    39.964375    37.706119   \n",
              "max     189.080002   190.070007   188.940002   189.589996   189.085205   \n",
              "\n",
              "             Volume  \n",
              "count  5.658000e+03  \n",
              "mean   4.039025e+08  \n",
              "std    3.784111e+08  \n",
              "min    3.519590e+07  \n",
              "25%    1.310329e+08  \n",
              "50%    2.822750e+08  \n",
              "75%    5.461127e+08  \n",
              "max    3.372970e+09  "
            ],
            "text/html": [
              "\n",
              "  <div id=\"df-9887c92a-fe8e-4b00-b43e-0ca0a47ace47\" class=\"colab-df-container\">\n",
              "    <div>\n",
              "<style scoped>\n",
              "    .dataframe tbody tr th:only-of-type {\n",
              "        vertical-align: middle;\n",
              "    }\n",
              "\n",
              "    .dataframe tbody tr th {\n",
              "        vertical-align: top;\n",
              "    }\n",
              "\n",
              "    .dataframe thead th {\n",
              "        text-align: right;\n",
              "    }\n",
              "</style>\n",
              "<table border=\"1\" class=\"dataframe\">\n",
              "  <thead>\n",
              "    <tr style=\"text-align: right;\">\n",
              "      <th></th>\n",
              "      <th>Open</th>\n",
              "      <th>High</th>\n",
              "      <th>Low</th>\n",
              "      <th>Close</th>\n",
              "      <th>Adj Close</th>\n",
              "      <th>Volume</th>\n",
              "    </tr>\n",
              "  </thead>\n",
              "  <tbody>\n",
              "    <tr>\n",
              "      <th>count</th>\n",
              "      <td>5658.000000</td>\n",
              "      <td>5658.000000</td>\n",
              "      <td>5658.000000</td>\n",
              "      <td>5658.000000</td>\n",
              "      <td>5658.000000</td>\n",
              "      <td>5.658000e+03</td>\n",
              "    </tr>\n",
              "    <tr>\n",
              "      <th>mean</th>\n",
              "      <td>34.070560</td>\n",
              "      <td>34.453706</td>\n",
              "      <td>33.702501</td>\n",
              "      <td>34.094835</td>\n",
              "      <td>32.710705</td>\n",
              "      <td>4.039025e+08</td>\n",
              "    </tr>\n",
              "    <tr>\n",
              "      <th>std</th>\n",
              "      <td>47.150836</td>\n",
              "      <td>47.717334</td>\n",
              "      <td>46.630048</td>\n",
              "      <td>47.202338</td>\n",
              "      <td>46.930783</td>\n",
              "      <td>3.784111e+08</td>\n",
              "    </tr>\n",
              "    <tr>\n",
              "      <th>min</th>\n",
              "      <td>0.231964</td>\n",
              "      <td>0.235536</td>\n",
              "      <td>0.227143</td>\n",
              "      <td>0.234286</td>\n",
              "      <td>0.198599</td>\n",
              "      <td>3.519590e+07</td>\n",
              "    </tr>\n",
              "    <tr>\n",
              "      <th>25%</th>\n",
              "      <td>2.647054</td>\n",
              "      <td>2.673928</td>\n",
              "      <td>2.617589</td>\n",
              "      <td>2.647054</td>\n",
              "      <td>2.243854</td>\n",
              "      <td>1.310329e+08</td>\n",
              "    </tr>\n",
              "    <tr>\n",
              "      <th>50%</th>\n",
              "      <td>15.410714</td>\n",
              "      <td>15.547857</td>\n",
              "      <td>15.251429</td>\n",
              "      <td>15.371071</td>\n",
              "      <td>13.262447</td>\n",
              "      <td>2.822750e+08</td>\n",
              "    </tr>\n",
              "    <tr>\n",
              "      <th>75%</th>\n",
              "      <td>39.961874</td>\n",
              "      <td>40.248125</td>\n",
              "      <td>39.626875</td>\n",
              "      <td>39.964375</td>\n",
              "      <td>37.706119</td>\n",
              "      <td>5.461127e+08</td>\n",
              "    </tr>\n",
              "    <tr>\n",
              "      <th>max</th>\n",
              "      <td>189.080002</td>\n",
              "      <td>190.070007</td>\n",
              "      <td>188.940002</td>\n",
              "      <td>189.589996</td>\n",
              "      <td>189.085205</td>\n",
              "      <td>3.372970e+09</td>\n",
              "    </tr>\n",
              "  </tbody>\n",
              "</table>\n",
              "</div>\n",
              "    <div class=\"colab-df-buttons\">\n",
              "\n",
              "  <div class=\"colab-df-container\">\n",
              "    <button class=\"colab-df-convert\" onclick=\"convertToInteractive('df-9887c92a-fe8e-4b00-b43e-0ca0a47ace47')\"\n",
              "            title=\"Convert this dataframe to an interactive table.\"\n",
              "            style=\"display:none;\">\n",
              "\n",
              "  <svg xmlns=\"http://www.w3.org/2000/svg\" height=\"24px\" viewBox=\"0 -960 960 960\">\n",
              "    <path d=\"M120-120v-720h720v720H120Zm60-500h600v-160H180v160Zm220 220h160v-160H400v160Zm0 220h160v-160H400v160ZM180-400h160v-160H180v160Zm440 0h160v-160H620v160ZM180-180h160v-160H180v160Zm440 0h160v-160H620v160Z\"/>\n",
              "  </svg>\n",
              "    </button>\n",
              "\n",
              "  <style>\n",
              "    .colab-df-container {\n",
              "      display:flex;\n",
              "      gap: 12px;\n",
              "    }\n",
              "\n",
              "    .colab-df-convert {\n",
              "      background-color: #E8F0FE;\n",
              "      border: none;\n",
              "      border-radius: 50%;\n",
              "      cursor: pointer;\n",
              "      display: none;\n",
              "      fill: #1967D2;\n",
              "      height: 32px;\n",
              "      padding: 0 0 0 0;\n",
              "      width: 32px;\n",
              "    }\n",
              "\n",
              "    .colab-df-convert:hover {\n",
              "      background-color: #E2EBFA;\n",
              "      box-shadow: 0px 1px 2px rgba(60, 64, 67, 0.3), 0px 1px 3px 1px rgba(60, 64, 67, 0.15);\n",
              "      fill: #174EA6;\n",
              "    }\n",
              "\n",
              "    .colab-df-buttons div {\n",
              "      margin-bottom: 4px;\n",
              "    }\n",
              "\n",
              "    [theme=dark] .colab-df-convert {\n",
              "      background-color: #3B4455;\n",
              "      fill: #D2E3FC;\n",
              "    }\n",
              "\n",
              "    [theme=dark] .colab-df-convert:hover {\n",
              "      background-color: #434B5C;\n",
              "      box-shadow: 0px 1px 3px 1px rgba(0, 0, 0, 0.15);\n",
              "      filter: drop-shadow(0px 1px 2px rgba(0, 0, 0, 0.3));\n",
              "      fill: #FFFFFF;\n",
              "    }\n",
              "  </style>\n",
              "\n",
              "    <script>\n",
              "      const buttonEl =\n",
              "        document.querySelector('#df-9887c92a-fe8e-4b00-b43e-0ca0a47ace47 button.colab-df-convert');\n",
              "      buttonEl.style.display =\n",
              "        google.colab.kernel.accessAllowed ? 'block' : 'none';\n",
              "\n",
              "      async function convertToInteractive(key) {\n",
              "        const element = document.querySelector('#df-9887c92a-fe8e-4b00-b43e-0ca0a47ace47');\n",
              "        const dataTable =\n",
              "          await google.colab.kernel.invokeFunction('convertToInteractive',\n",
              "                                                    [key], {});\n",
              "        if (!dataTable) return;\n",
              "\n",
              "        const docLinkHtml = 'Like what you see? Visit the ' +\n",
              "          '<a target=\"_blank\" href=https://colab.research.google.com/notebooks/data_table.ipynb>data table notebook</a>'\n",
              "          + ' to learn more about interactive tables.';\n",
              "        element.innerHTML = '';\n",
              "        dataTable['output_type'] = 'display_data';\n",
              "        await google.colab.output.renderOutput(dataTable, element);\n",
              "        const docLink = document.createElement('div');\n",
              "        docLink.innerHTML = docLinkHtml;\n",
              "        element.appendChild(docLink);\n",
              "      }\n",
              "    </script>\n",
              "  </div>\n",
              "\n",
              "\n",
              "<div id=\"df-d1023f94-4d31-4deb-8134-c17b9b41720d\">\n",
              "  <button class=\"colab-df-quickchart\" onclick=\"quickchart('df-d1023f94-4d31-4deb-8134-c17b9b41720d')\"\n",
              "            title=\"Suggest charts\"\n",
              "            style=\"display:none;\">\n",
              "\n",
              "<svg xmlns=\"http://www.w3.org/2000/svg\" height=\"24px\"viewBox=\"0 0 24 24\"\n",
              "     width=\"24px\">\n",
              "    <g>\n",
              "        <path d=\"M19 3H5c-1.1 0-2 .9-2 2v14c0 1.1.9 2 2 2h14c1.1 0 2-.9 2-2V5c0-1.1-.9-2-2-2zM9 17H7v-7h2v7zm4 0h-2V7h2v10zm4 0h-2v-4h2v4z\"/>\n",
              "    </g>\n",
              "</svg>\n",
              "  </button>\n",
              "\n",
              "<style>\n",
              "  .colab-df-quickchart {\n",
              "      --bg-color: #E8F0FE;\n",
              "      --fill-color: #1967D2;\n",
              "      --hover-bg-color: #E2EBFA;\n",
              "      --hover-fill-color: #174EA6;\n",
              "      --disabled-fill-color: #AAA;\n",
              "      --disabled-bg-color: #DDD;\n",
              "  }\n",
              "\n",
              "  [theme=dark] .colab-df-quickchart {\n",
              "      --bg-color: #3B4455;\n",
              "      --fill-color: #D2E3FC;\n",
              "      --hover-bg-color: #434B5C;\n",
              "      --hover-fill-color: #FFFFFF;\n",
              "      --disabled-bg-color: #3B4455;\n",
              "      --disabled-fill-color: #666;\n",
              "  }\n",
              "\n",
              "  .colab-df-quickchart {\n",
              "    background-color: var(--bg-color);\n",
              "    border: none;\n",
              "    border-radius: 50%;\n",
              "    cursor: pointer;\n",
              "    display: none;\n",
              "    fill: var(--fill-color);\n",
              "    height: 32px;\n",
              "    padding: 0;\n",
              "    width: 32px;\n",
              "  }\n",
              "\n",
              "  .colab-df-quickchart:hover {\n",
              "    background-color: var(--hover-bg-color);\n",
              "    box-shadow: 0 1px 2px rgba(60, 64, 67, 0.3), 0 1px 3px 1px rgba(60, 64, 67, 0.15);\n",
              "    fill: var(--button-hover-fill-color);\n",
              "  }\n",
              "\n",
              "  .colab-df-quickchart-complete:disabled,\n",
              "  .colab-df-quickchart-complete:disabled:hover {\n",
              "    background-color: var(--disabled-bg-color);\n",
              "    fill: var(--disabled-fill-color);\n",
              "    box-shadow: none;\n",
              "  }\n",
              "\n",
              "  .colab-df-spinner {\n",
              "    border: 2px solid var(--fill-color);\n",
              "    border-color: transparent;\n",
              "    border-bottom-color: var(--fill-color);\n",
              "    animation:\n",
              "      spin 1s steps(1) infinite;\n",
              "  }\n",
              "\n",
              "  @keyframes spin {\n",
              "    0% {\n",
              "      border-color: transparent;\n",
              "      border-bottom-color: var(--fill-color);\n",
              "      border-left-color: var(--fill-color);\n",
              "    }\n",
              "    20% {\n",
              "      border-color: transparent;\n",
              "      border-left-color: var(--fill-color);\n",
              "      border-top-color: var(--fill-color);\n",
              "    }\n",
              "    30% {\n",
              "      border-color: transparent;\n",
              "      border-left-color: var(--fill-color);\n",
              "      border-top-color: var(--fill-color);\n",
              "      border-right-color: var(--fill-color);\n",
              "    }\n",
              "    40% {\n",
              "      border-color: transparent;\n",
              "      border-right-color: var(--fill-color);\n",
              "      border-top-color: var(--fill-color);\n",
              "    }\n",
              "    60% {\n",
              "      border-color: transparent;\n",
              "      border-right-color: var(--fill-color);\n",
              "    }\n",
              "    80% {\n",
              "      border-color: transparent;\n",
              "      border-right-color: var(--fill-color);\n",
              "      border-bottom-color: var(--fill-color);\n",
              "    }\n",
              "    90% {\n",
              "      border-color: transparent;\n",
              "      border-bottom-color: var(--fill-color);\n",
              "    }\n",
              "  }\n",
              "</style>\n",
              "\n",
              "  <script>\n",
              "    async function quickchart(key) {\n",
              "      const quickchartButtonEl =\n",
              "        document.querySelector('#' + key + ' button');\n",
              "      quickchartButtonEl.disabled = true;  // To prevent multiple clicks.\n",
              "      quickchartButtonEl.classList.add('colab-df-spinner');\n",
              "      try {\n",
              "        const charts = await google.colab.kernel.invokeFunction(\n",
              "            'suggestCharts', [key], {});\n",
              "      } catch (error) {\n",
              "        console.error('Error during call to suggestCharts:', error);\n",
              "      }\n",
              "      quickchartButtonEl.classList.remove('colab-df-spinner');\n",
              "      quickchartButtonEl.classList.add('colab-df-quickchart-complete');\n",
              "    }\n",
              "    (() => {\n",
              "      let quickchartButtonEl =\n",
              "        document.querySelector('#df-d1023f94-4d31-4deb-8134-c17b9b41720d button');\n",
              "      quickchartButtonEl.style.display =\n",
              "        google.colab.kernel.accessAllowed ? 'block' : 'none';\n",
              "    })();\n",
              "  </script>\n",
              "</div>\n",
              "    </div>\n",
              "  </div>\n"
            ]
          },
          "metadata": {},
          "execution_count": 34
        }
      ]
    },
    {
      "cell_type": "markdown",
      "source": [
        "**Null Values**"
      ],
      "metadata": {
        "id": "wNksdF20WFWo"
      }
    },
    {
      "cell_type": "code",
      "source": [
        "stock_df.isnull().sum()"
      ],
      "metadata": {
        "colab": {
          "base_uri": "https://localhost:8080/"
        },
        "id": "WxDW2p48fy9k",
        "outputId": "8382a966-92bd-4553-a844-4d92c25e7d66"
      },
      "execution_count": 35,
      "outputs": [
        {
          "output_type": "execute_result",
          "data": {
            "text/plain": [
              "Date         0\n",
              "Open         0\n",
              "High         0\n",
              "Low          0\n",
              "Close        0\n",
              "Adj Close    0\n",
              "Volume       0\n",
              "dtype: int64"
            ]
          },
          "metadata": {},
          "execution_count": 35
        }
      ]
    },
    {
      "cell_type": "markdown",
      "source": [
        "#**Merge the Stock and News Data**"
      ],
      "metadata": {
        "id": "IIG12b6wmd4J"
      }
    },
    {
      "cell_type": "code",
      "source": [
        "df = pd.merge(stock_df, news_df, how='inner', on='Date')"
      ],
      "metadata": {
        "id": "k9qQfNC4mcvZ"
      },
      "execution_count": 36,
      "outputs": []
    },
    {
      "cell_type": "code",
      "source": [
        "df.head(5)"
      ],
      "metadata": {
        "colab": {
          "base_uri": "https://localhost:8080/",
          "height": 206
        },
        "id": "l1a_yV9imcsg",
        "outputId": "dd4313c0-5a34-4a48-9569-3f8a35534f7b"
      },
      "execution_count": 37,
      "outputs": [
        {
          "output_type": "execute_result",
          "data": {
            "text/plain": [
              "        Date      Open      High       Low     Close  Adj Close     Volume  \\\n",
              "0 2001-01-02  0.265625  0.272321  0.260045  0.265625   0.225165  452312000   \n",
              "1 2001-01-03  0.258929  0.297991  0.257813  0.292411   0.247871  817073600   \n",
              "2 2001-01-04  0.323940  0.330357  0.300223  0.304688   0.258278  739396000   \n",
              "3 2001-01-05  0.302455  0.310268  0.286830  0.292411   0.247871  412356000   \n",
              "4 2001-01-08  0.302455  0.303292  0.284598  0.295759   0.250709  373699200   \n",
              "\n",
              "                                                News  \n",
              "0  Status quo will not be disturbed at Ayodhya; s...  \n",
              "1  Powerless north India gropes in the dark Think...  \n",
              "2  The string that pulled Stephen Hawking to Indi...  \n",
              "3  Light combat craft takes India into club class...  \n",
              "4  Sangh Parivar; Babri panel up the ante Frontru...  "
            ],
            "text/html": [
              "\n",
              "  <div id=\"df-9c37b669-6dbf-4c0f-8cb0-132267443a8f\" class=\"colab-df-container\">\n",
              "    <div>\n",
              "<style scoped>\n",
              "    .dataframe tbody tr th:only-of-type {\n",
              "        vertical-align: middle;\n",
              "    }\n",
              "\n",
              "    .dataframe tbody tr th {\n",
              "        vertical-align: top;\n",
              "    }\n",
              "\n",
              "    .dataframe thead th {\n",
              "        text-align: right;\n",
              "    }\n",
              "</style>\n",
              "<table border=\"1\" class=\"dataframe\">\n",
              "  <thead>\n",
              "    <tr style=\"text-align: right;\">\n",
              "      <th></th>\n",
              "      <th>Date</th>\n",
              "      <th>Open</th>\n",
              "      <th>High</th>\n",
              "      <th>Low</th>\n",
              "      <th>Close</th>\n",
              "      <th>Adj Close</th>\n",
              "      <th>Volume</th>\n",
              "      <th>News</th>\n",
              "    </tr>\n",
              "  </thead>\n",
              "  <tbody>\n",
              "    <tr>\n",
              "      <th>0</th>\n",
              "      <td>2001-01-02</td>\n",
              "      <td>0.265625</td>\n",
              "      <td>0.272321</td>\n",
              "      <td>0.260045</td>\n",
              "      <td>0.265625</td>\n",
              "      <td>0.225165</td>\n",
              "      <td>452312000</td>\n",
              "      <td>Status quo will not be disturbed at Ayodhya; s...</td>\n",
              "    </tr>\n",
              "    <tr>\n",
              "      <th>1</th>\n",
              "      <td>2001-01-03</td>\n",
              "      <td>0.258929</td>\n",
              "      <td>0.297991</td>\n",
              "      <td>0.257813</td>\n",
              "      <td>0.292411</td>\n",
              "      <td>0.247871</td>\n",
              "      <td>817073600</td>\n",
              "      <td>Powerless north India gropes in the dark Think...</td>\n",
              "    </tr>\n",
              "    <tr>\n",
              "      <th>2</th>\n",
              "      <td>2001-01-04</td>\n",
              "      <td>0.323940</td>\n",
              "      <td>0.330357</td>\n",
              "      <td>0.300223</td>\n",
              "      <td>0.304688</td>\n",
              "      <td>0.258278</td>\n",
              "      <td>739396000</td>\n",
              "      <td>The string that pulled Stephen Hawking to Indi...</td>\n",
              "    </tr>\n",
              "    <tr>\n",
              "      <th>3</th>\n",
              "      <td>2001-01-05</td>\n",
              "      <td>0.302455</td>\n",
              "      <td>0.310268</td>\n",
              "      <td>0.286830</td>\n",
              "      <td>0.292411</td>\n",
              "      <td>0.247871</td>\n",
              "      <td>412356000</td>\n",
              "      <td>Light combat craft takes India into club class...</td>\n",
              "    </tr>\n",
              "    <tr>\n",
              "      <th>4</th>\n",
              "      <td>2001-01-08</td>\n",
              "      <td>0.302455</td>\n",
              "      <td>0.303292</td>\n",
              "      <td>0.284598</td>\n",
              "      <td>0.295759</td>\n",
              "      <td>0.250709</td>\n",
              "      <td>373699200</td>\n",
              "      <td>Sangh Parivar; Babri panel up the ante Frontru...</td>\n",
              "    </tr>\n",
              "  </tbody>\n",
              "</table>\n",
              "</div>\n",
              "    <div class=\"colab-df-buttons\">\n",
              "\n",
              "  <div class=\"colab-df-container\">\n",
              "    <button class=\"colab-df-convert\" onclick=\"convertToInteractive('df-9c37b669-6dbf-4c0f-8cb0-132267443a8f')\"\n",
              "            title=\"Convert this dataframe to an interactive table.\"\n",
              "            style=\"display:none;\">\n",
              "\n",
              "  <svg xmlns=\"http://www.w3.org/2000/svg\" height=\"24px\" viewBox=\"0 -960 960 960\">\n",
              "    <path d=\"M120-120v-720h720v720H120Zm60-500h600v-160H180v160Zm220 220h160v-160H400v160Zm0 220h160v-160H400v160ZM180-400h160v-160H180v160Zm440 0h160v-160H620v160ZM180-180h160v-160H180v160Zm440 0h160v-160H620v160Z\"/>\n",
              "  </svg>\n",
              "    </button>\n",
              "\n",
              "  <style>\n",
              "    .colab-df-container {\n",
              "      display:flex;\n",
              "      gap: 12px;\n",
              "    }\n",
              "\n",
              "    .colab-df-convert {\n",
              "      background-color: #E8F0FE;\n",
              "      border: none;\n",
              "      border-radius: 50%;\n",
              "      cursor: pointer;\n",
              "      display: none;\n",
              "      fill: #1967D2;\n",
              "      height: 32px;\n",
              "      padding: 0 0 0 0;\n",
              "      width: 32px;\n",
              "    }\n",
              "\n",
              "    .colab-df-convert:hover {\n",
              "      background-color: #E2EBFA;\n",
              "      box-shadow: 0px 1px 2px rgba(60, 64, 67, 0.3), 0px 1px 3px 1px rgba(60, 64, 67, 0.15);\n",
              "      fill: #174EA6;\n",
              "    }\n",
              "\n",
              "    .colab-df-buttons div {\n",
              "      margin-bottom: 4px;\n",
              "    }\n",
              "\n",
              "    [theme=dark] .colab-df-convert {\n",
              "      background-color: #3B4455;\n",
              "      fill: #D2E3FC;\n",
              "    }\n",
              "\n",
              "    [theme=dark] .colab-df-convert:hover {\n",
              "      background-color: #434B5C;\n",
              "      box-shadow: 0px 1px 3px 1px rgba(0, 0, 0, 0.15);\n",
              "      filter: drop-shadow(0px 1px 2px rgba(0, 0, 0, 0.3));\n",
              "      fill: #FFFFFF;\n",
              "    }\n",
              "  </style>\n",
              "\n",
              "    <script>\n",
              "      const buttonEl =\n",
              "        document.querySelector('#df-9c37b669-6dbf-4c0f-8cb0-132267443a8f button.colab-df-convert');\n",
              "      buttonEl.style.display =\n",
              "        google.colab.kernel.accessAllowed ? 'block' : 'none';\n",
              "\n",
              "      async function convertToInteractive(key) {\n",
              "        const element = document.querySelector('#df-9c37b669-6dbf-4c0f-8cb0-132267443a8f');\n",
              "        const dataTable =\n",
              "          await google.colab.kernel.invokeFunction('convertToInteractive',\n",
              "                                                    [key], {});\n",
              "        if (!dataTable) return;\n",
              "\n",
              "        const docLinkHtml = 'Like what you see? Visit the ' +\n",
              "          '<a target=\"_blank\" href=https://colab.research.google.com/notebooks/data_table.ipynb>data table notebook</a>'\n",
              "          + ' to learn more about interactive tables.';\n",
              "        element.innerHTML = '';\n",
              "        dataTable['output_type'] = 'display_data';\n",
              "        await google.colab.output.renderOutput(dataTable, element);\n",
              "        const docLink = document.createElement('div');\n",
              "        docLink.innerHTML = docLinkHtml;\n",
              "        element.appendChild(docLink);\n",
              "      }\n",
              "    </script>\n",
              "  </div>\n",
              "\n",
              "\n",
              "<div id=\"df-dfffa97b-6eab-47d5-94cf-17a4b7848fcd\">\n",
              "  <button class=\"colab-df-quickchart\" onclick=\"quickchart('df-dfffa97b-6eab-47d5-94cf-17a4b7848fcd')\"\n",
              "            title=\"Suggest charts\"\n",
              "            style=\"display:none;\">\n",
              "\n",
              "<svg xmlns=\"http://www.w3.org/2000/svg\" height=\"24px\"viewBox=\"0 0 24 24\"\n",
              "     width=\"24px\">\n",
              "    <g>\n",
              "        <path d=\"M19 3H5c-1.1 0-2 .9-2 2v14c0 1.1.9 2 2 2h14c1.1 0 2-.9 2-2V5c0-1.1-.9-2-2-2zM9 17H7v-7h2v7zm4 0h-2V7h2v10zm4 0h-2v-4h2v4z\"/>\n",
              "    </g>\n",
              "</svg>\n",
              "  </button>\n",
              "\n",
              "<style>\n",
              "  .colab-df-quickchart {\n",
              "      --bg-color: #E8F0FE;\n",
              "      --fill-color: #1967D2;\n",
              "      --hover-bg-color: #E2EBFA;\n",
              "      --hover-fill-color: #174EA6;\n",
              "      --disabled-fill-color: #AAA;\n",
              "      --disabled-bg-color: #DDD;\n",
              "  }\n",
              "\n",
              "  [theme=dark] .colab-df-quickchart {\n",
              "      --bg-color: #3B4455;\n",
              "      --fill-color: #D2E3FC;\n",
              "      --hover-bg-color: #434B5C;\n",
              "      --hover-fill-color: #FFFFFF;\n",
              "      --disabled-bg-color: #3B4455;\n",
              "      --disabled-fill-color: #666;\n",
              "  }\n",
              "\n",
              "  .colab-df-quickchart {\n",
              "    background-color: var(--bg-color);\n",
              "    border: none;\n",
              "    border-radius: 50%;\n",
              "    cursor: pointer;\n",
              "    display: none;\n",
              "    fill: var(--fill-color);\n",
              "    height: 32px;\n",
              "    padding: 0;\n",
              "    width: 32px;\n",
              "  }\n",
              "\n",
              "  .colab-df-quickchart:hover {\n",
              "    background-color: var(--hover-bg-color);\n",
              "    box-shadow: 0 1px 2px rgba(60, 64, 67, 0.3), 0 1px 3px 1px rgba(60, 64, 67, 0.15);\n",
              "    fill: var(--button-hover-fill-color);\n",
              "  }\n",
              "\n",
              "  .colab-df-quickchart-complete:disabled,\n",
              "  .colab-df-quickchart-complete:disabled:hover {\n",
              "    background-color: var(--disabled-bg-color);\n",
              "    fill: var(--disabled-fill-color);\n",
              "    box-shadow: none;\n",
              "  }\n",
              "\n",
              "  .colab-df-spinner {\n",
              "    border: 2px solid var(--fill-color);\n",
              "    border-color: transparent;\n",
              "    border-bottom-color: var(--fill-color);\n",
              "    animation:\n",
              "      spin 1s steps(1) infinite;\n",
              "  }\n",
              "\n",
              "  @keyframes spin {\n",
              "    0% {\n",
              "      border-color: transparent;\n",
              "      border-bottom-color: var(--fill-color);\n",
              "      border-left-color: var(--fill-color);\n",
              "    }\n",
              "    20% {\n",
              "      border-color: transparent;\n",
              "      border-left-color: var(--fill-color);\n",
              "      border-top-color: var(--fill-color);\n",
              "    }\n",
              "    30% {\n",
              "      border-color: transparent;\n",
              "      border-left-color: var(--fill-color);\n",
              "      border-top-color: var(--fill-color);\n",
              "      border-right-color: var(--fill-color);\n",
              "    }\n",
              "    40% {\n",
              "      border-color: transparent;\n",
              "      border-right-color: var(--fill-color);\n",
              "      border-top-color: var(--fill-color);\n",
              "    }\n",
              "    60% {\n",
              "      border-color: transparent;\n",
              "      border-right-color: var(--fill-color);\n",
              "    }\n",
              "    80% {\n",
              "      border-color: transparent;\n",
              "      border-right-color: var(--fill-color);\n",
              "      border-bottom-color: var(--fill-color);\n",
              "    }\n",
              "    90% {\n",
              "      border-color: transparent;\n",
              "      border-bottom-color: var(--fill-color);\n",
              "    }\n",
              "  }\n",
              "</style>\n",
              "\n",
              "  <script>\n",
              "    async function quickchart(key) {\n",
              "      const quickchartButtonEl =\n",
              "        document.querySelector('#' + key + ' button');\n",
              "      quickchartButtonEl.disabled = true;  // To prevent multiple clicks.\n",
              "      quickchartButtonEl.classList.add('colab-df-spinner');\n",
              "      try {\n",
              "        const charts = await google.colab.kernel.invokeFunction(\n",
              "            'suggestCharts', [key], {});\n",
              "      } catch (error) {\n",
              "        console.error('Error during call to suggestCharts:', error);\n",
              "      }\n",
              "      quickchartButtonEl.classList.remove('colab-df-spinner');\n",
              "      quickchartButtonEl.classList.add('colab-df-quickchart-complete');\n",
              "    }\n",
              "    (() => {\n",
              "      let quickchartButtonEl =\n",
              "        document.querySelector('#df-dfffa97b-6eab-47d5-94cf-17a4b7848fcd button');\n",
              "      quickchartButtonEl.style.display =\n",
              "        google.colab.kernel.accessAllowed ? 'block' : 'none';\n",
              "    })();\n",
              "  </script>\n",
              "</div>\n",
              "    </div>\n",
              "  </div>\n"
            ]
          },
          "metadata": {},
          "execution_count": 37
        }
      ]
    },
    {
      "cell_type": "code",
      "source": [
        "stock_df.shape, news_df.shape"
      ],
      "metadata": {
        "colab": {
          "base_uri": "https://localhost:8080/"
        },
        "id": "1mdQvv0umcqP",
        "outputId": "6333b667-9c3f-4bd5-8181-08bed53df00f"
      },
      "execution_count": 40,
      "outputs": [
        {
          "output_type": "execute_result",
          "data": {
            "text/plain": [
              "((5658, 7), (8170, 2))"
            ]
          },
          "metadata": {},
          "execution_count": 40
        }
      ]
    },
    {
      "cell_type": "code",
      "source": [
        "df.shape"
      ],
      "metadata": {
        "colab": {
          "base_uri": "https://localhost:8080/"
        },
        "id": "1cocI7ZRm3C4",
        "outputId": "b324a5d1-f63b-438c-e5f9-73739e03a9d6"
      },
      "execution_count": 41,
      "outputs": [
        {
          "output_type": "execute_result",
          "data": {
            "text/plain": [
              "(5627, 8)"
            ]
          },
          "metadata": {},
          "execution_count": 41
        }
      ]
    },
    {
      "cell_type": "code",
      "source": [
        "df.duplicated().sum()"
      ],
      "metadata": {
        "colab": {
          "base_uri": "https://localhost:8080/"
        },
        "id": "H-JMPDt9m-FL",
        "outputId": "f4c9bf9b-c630-4b78-d1a1-d50a0d52a8f8"
      },
      "execution_count": 42,
      "outputs": [
        {
          "output_type": "execute_result",
          "data": {
            "text/plain": [
              "0"
            ]
          },
          "metadata": {},
          "execution_count": 42
        }
      ]
    },
    {
      "cell_type": "markdown",
      "source": [
        "##**Data Preprocesssing/Analyis**"
      ],
      "metadata": {
        "id": "JA9xsJdVudEZ"
      }
    },
    {
      "cell_type": "markdown",
      "source": [
        "##**Data Cleaning**"
      ],
      "metadata": {
        "id": "aKGZPsMNW74l"
      }
    },
    {
      "cell_type": "code",
      "source": [
        "df['News'].iloc[-11]"
      ],
      "metadata": {
        "colab": {
          "base_uri": "https://localhost:8080/",
          "height": 140
        },
        "id": "reiqKPoRh__X",
        "outputId": "2ab266e7-11cd-40d8-ecf4-7a8278bc6d54"
      },
      "execution_count": 43,
      "outputs": [
        {
          "output_type": "execute_result",
          "data": {
            "text/plain": [
              "\"Physiology Explained: The study of how the human body works Horoscope Today; June 14; 2023: Read your daily astrological predictions for Aquarius; Scorpio; Pisces and Others Bride calls off marriage after groom gets drunk during jaimala ceremony 5 summer wardrobe staples Tips to rain-proof your makeup this monsoon Optical illusion: Find 3 numbers hidden in this image; you only have 8 seconds! ap eamcet results 2023 to be released today at cets apsche ap gov in direct link here Kriti Sanon: It took a lot of effort to immerse myself into Janaki's persona High in calcium food options for 30+ women to improve bone health Top 10 Strategic Skills You Must Learn in 2023 Out&Proud@Work: 'Visible change; not Pride Month tokenism; the way ahead for Indian cos' Out&Proud@Work: Allyship creates a conducive work environment; say queer employees The battle will continue till we achieve basic human rights: Nishtha Nishant Out&Proud@Work: 'Active measures needed to create an inclusive workforce' sidharth bhardwaj on his struggles to sustain after doing reality shows i was never a rich guy in india exclusive Aapda Mitra will be made in all villages of Haryana: Deputy CM Dushyant Chautala June heat pushes power demand to highest this yr Bharti visits Bawana WTP; says plant to be upgraded to increase capacity Nitesh Tiwari to team up with Brahmastra and Dune VFX expert Namit Malhotra for epic Ramayana visuals Maharashtra: Alertness of woman TTEs leads to arrest of engineering dropout for ticket forgery Delhi: Traffic islands in CP to don a new look ahead of G20 meet Delhi: Enforcement officer of EPFO held for graft Delhi CM Arvind Kejriwal plans scaling up work for artisans to push employment Woman moves Delhi high court over new condition for adoption Take action against quack: Delhi court to state; Centre Gang led by techie selling drugs on dark web busted by STF in Lucknow Invest in existing talent with career growth; skilling plans Moody's: Int'l bond issuers face risks 5-year-old falls from giant wheel; receives over a dozen stitches on head Sardinha hits out at CM for 'Portuguese signs' remark In a first; debris washing up on Goa's shores to be studied WRD to de-silt Anjunem; Selaulim and Mhaisal dams 2 Bihar workers' cooking tiff boils into rage; 1 dead NIO and Mumbai institute to study ocean India's fuel exports to EU up 572% since Ukraine war Indian students mount legal action against British universities over Covid disruptions 5.4-quake hits Doda; two schoolgirls injured; several buildings partially damaged 'All is not well' between Microsoft and ChatGPT maker OpenAI: Report NIA attaches property of Geelani's aide Ayaz Akbar in terror funding case Two terrorists killed near LoC in Jammu & Kashmir's Kupwara Amazon Web Services may be down for thousands of users Donald Trump pleads not guilty in federal documents case Too busy to go out for yoga? Do it in your seats; govt tells babus Mahaakshay Chakraborty says his father Mithun Chakraborty told his wife Madalsa Sharma to take up Anupamaa Opposition unity advocate Bihar CM Nitish Kumar left red-faced as ally quits cabinet Opposition unity advocate Bihar CM Nitish Kumar left red-faced as ally quits cabinet Physiotherapist in Bengaluru kills mother after giving her 30 BP pills; goes to cops with body in suitcase Maharashtra: Row over Eknath Shinde-led Shiv Sena's advertisement as Devendra Fadnavis edged out of picture Maharashtra: Row over Eknath Shinde-led Shiv Sena's advertisement as Devendra Fadnavis edged out of picture Devendra Fadnavis skips government event he was to address with Eknath Shinde Devendra Fadnavis skips government event he was to address with Eknath Shinde Before Cabinet today; Rs 63k crore plan to boost bus service in cities Some in Congress are seasonal Hindus: Rajnath Singh's dig at Priyanka Gandhi Some in Congress are seasonal Hindus: Rajnath Singh's dig at Priyanka Gandhi India-US unity on new tech will give 'orbital jump' to ties: NSA Ajit Doval India-US unity on new tech will give 'orbital jump' to ties: NSA Ajit Doval Govt releases Rs 8k crore to fight floods; fires and landslides Editors Guild slams harassment of journalists Twitter founder's charge of pressure 'outright lie': Government Biparjoy Cyclone to hit Gujarat tomorrow; over 30k shifted; toll rises to 5 PM Modi takes veiled dig at Lalu Prasad; Mamata Banerjee over job scams PM Modi takes veiled dig at Lalu Prasad; Mamata Banerjee over job scams In a first for an Indian stock; MRF crosses Rs 1 lakh mark; up 600% in 10 years Priyanka Chopra gives a glimpse of her family trip with Nick Jonas; daughter Malti Marie; mom Madhu Chopra and her in-laws Uttarakhand airport 50km from LAC gets DGCA nod NEET Result 2023: OBC candidate from Andhra among 2 joint toppers Bhopal sizzles at 41.4C Businessman kills wife; chops 15-year-old daughter; dumps pieces into canal in Silvassa Weather woes may slash UP mango yield by 40% 21 years on; Mumbai court acquits 2 in Gujarat riots Best Bakery case Car carrying swords; knives stopped after chase near Taj hotel in Mumbai; 3 held 3 die of suffocation; burn injuries in fire at eatery in Pune's Market Yard Four killed as Methanol tanker catches fire on Pune-Mumbai expressway 21 years on; Mumbai court acquits two in Best Bakery case 'Neglected' tutor mails bomb threat to IT firm in Pune from husband's ID; arrested Mumbai: Western Express Highway to get 15km elevated corridor at cost of Rs 5;500 crore Maharashtra: Six people face murder charge after cattle transporter succumbs to injuries Cabinet nod likely today for sulphur-coated urea launch 3 women die; 5 others injured in a mudslide at pond excavation site in Gurgaon's Pataudi T2 Metro station to get India's tallest escalators Looking forward to 'engaging talks' with Biden: PM Modi 'No lungis or nighties; please': AOA in Greater Noida's Sector Phi 2 advises dress code for its residents Pune: Sassoon nurses demand pay parity; warn of bigger protest Looking forward to 'engaging talks' with Biden: PM Modi Power cuts in parts of Mumbai; 'local faults' blamed Allies BJP & AIADMK spar in Tamil Nadu over Annamalai's remarks on Jayalalithaa More coastal districts prone to cyclones in Gujarat than Odisha Cyclone Biparjoy: 100 lions in Saurashtra region ton high security alert Riverfront promenade of Sabarmati to be closed on June 15-16 Man in Ahmedabad attacks son for not giving money Extradition file of bootlegger Vijay Udhwani bore no sign of central authority; Gujarat HC told Economy firing; doomsday predictions falling flat: BJP Actor Chrisann Pereira cleared of drug charges by UAE court; to return soon 30;000 shifted as Cyclone inches closer Delhi police likely to include 5-6 videos on wrestlers statements in court Doval an 'international treasure': US envoy Boy chided by father for stealing Rs 1 lakh to buy iPhone hangs self near Kalyan railway tracks Sena ad says more people prefer Shinde as CM over Fadnavis; BJP leaders upset Deploy central forces for WB rural polls: HC Man held for raping minor in Sundargarh MP govt building fire put out after 16 hours; CM Shivraj Singh Chouhan seeks report in 3 days Strong winds; rain bring much-needed respite to Mumbai; but only light showers till June 17 Blast hits hydel power generation in Machkund Dorsey making allegations to cover up his black deeds: BJP Bodies of all four teen boys who drowned at Juhu beach found BJP's jumbo expansion of Telangana executive panel Telangana high court seeks report on lake protection Police arrest IUML leader for sexually assaulting minor Greater Hyderabad Municipal Corporation unveils 'Citizen's Charter' for ward offices Opposition: BJP conspiracy to end democracy exposed DCHL promoters; auditor held in bank fraud case Promoters of DCHL; auditor arrested in bank fraud case Bihar: Ex-CM Jitan Ram Manjhi's son Santosh Kumar Suman quits Nitish Kumar's cabinet Cyber conmen looted Rs 600 crore in Telangana in 2 years Darbhanga Medical College and Hospital to be upgraded to 2;500-bed super-speciality facility: Bihar cabinet Not against anyone; but won't allow 'love jihad': Uttarakhand CM Pushkar Singh Dhami Depressed; widow & 2 daughters end lives in Hyderabad In 2 months; tomato prices rise 5-fold in retail markets SOPs need of the hour: Fire brigade chief Over 600 additional litter bins to curb garbage dumping on city roads soon Constable caught taking bribe to file accident FIR PMC to retain once-a-week water cut as rains stay away Woman; son arrested for assaulting cop in Katraj Traffic disrupted as oil tanker turns on its side in Kharadi Citizens demand restoration of parking facility on Karve Road After palkhi; sanitation staff in Alandi & Dehu collect over 100-tonne garbage Caught on cam: Vandals in RAF attire in Imphal West Bihar's Purnea medical college gets NMC nod for 100 MBBS seats in '23-24 Congress; BJP fight over 'Hindutvawadi' tag'; says BSP chief Mayawati No respite from heatwave in Bihar as cyclone Biparjoy stalls monsoon advancement Jeeva murder case: Allahabad high court rejects PIL for CBI probe After Balasore crash; Railways focuses more on maintenance; safety Bihar BJP netas to attend party meet in Delhi Naresh Singh Bhokta murder case: NIA files second supplementary chargesheet against 3 accused in Bihar Chided for stealing Rs 1 lakh to buy iPhone; boy kills self in Thane City boy Parth Khandelwal bags 10th position in NEET Rural poll process stays; central forces for sensitive districts: Calcutta high court Tamil Nadu: DMK minister Senthil Balaji breaks down in ED custody; hospitalised IAS; IPS officers suspended over brawl with restaurant staff in Ajmer Short of workers; BJP holds protest march against Ashok Gehlot govt's corruption West Bengal: 93;425 nominations filed for panchayat poll; no decision yet on date extension BJP's Dholpur leader moves camp to BSP Govt to bear higher cost for projects under JJM ISF candidate shot at; TMC men & cops injured as Bhangar in West Bengal turns into war zone Uttar Pradesh deputy CM Brajesh Pathak orders probe into 'ill treatment' to pregnant woman 2 killed as mini-truck hits bike in Lucknow's Malihabad Take strict action; Jamiat urges Amit Shah; Uttarakhand CM Sub-inspector in Lucknow held for taking Rs 25;000 bribe Stray dogs maul to death 5-yr-old girl 3 dead in accident in Aligarh Kolkata-Bangkok highway opening likely in 4 years School jobs scam: Abhishek Banerjee skips ED summons citing political engagements Cops in civvies & on trees arrest 7 Yamuna expressway robbers after encounter ICSE and ISC to feature more critical and analytical questions from next yr: Council Three students from Bengal in top 50 35-year-old man dies in accident on way back home after mom's death Leaves of forest staff cancelled in Dudhwa reserve One-year-old leopard found dead in Pilibhit NEET show: Chennai boy Prabhanjan J tops with full 720 marks UKSSSC paper leak: ED raids Bijnor house of main accused State performs well in NEET; Pune girls bag AIR 44 and 94 Ex-BSP MLA's son booked again for trespassing Devendra Fadnavis skips Kolhapur event; Maharashtra CM Eknath Shinde says 'popularity' ad not given by govt If Shinde is popular; make him NDA face Frequent rescheduling of flight spoils holiday for family from city ED searches Senthil Balaji's office at TN secretariat; his home After CM's call; Shetti suspends stir till tomorrow Two held for assaulting woman Srinagar hosp gets genome sequencing lab Man barges into BJP MLA Vanathi Srinivasan's office in Coimbatore; later throws himself under bus Water from Sharda canal to mitigate crisis in the Old City You can protest tariff hike without disconnection risk BJP raises objections as Randeep Singh Surjewala participates in Bengaluru infrastructure meeting PLI scheme to include toys; leather & new age e-bikes Cops in Bengaluru clean drain to ease Whitefield's rain woes Over 30 held for 'rioting' and 'bid to murder' near Roorkee Uttarkashi peace meet 'fails to reach consensus' Bengaluru: Youth makes hoax bomb threat to employer; caught Adani in talks for debt's refinancing 52 retd babus write to CS; DGP against communal strife Man gets 20 yrs jail for raping minor in US Nagar RBI governor Shaktikanta Das hints rates may remain higher Sewage clearance raises a stink on Chennai's OMR Key 'mahapanchayat' organiser backs out Electricity dept to 'power' LMC property tax collection drive Cycle tracks soon in Doon; locals fear will add to infra woes 6;500 high net worth Indians may leave country this year: Study Senior citizens among six get stuck in lifts of LDA apartments NBFCs' micro loan growth beats banks' Chandraprakash Dwivedi; 17 other artists given UP Sangeet Natak Akademi awards Road dividers no barrier to brash bikers Renowned Doon educationist dies in hotel fire Maruti to bring Toyota Innova's twin Desert winds sweep Uttar Pradesh; give Rajasthan-like feel Jeeva was killed with revolver smuggled from Munger: Police SAT stays transfer of Sahara's business to SBI Life Khar teen tops NEET in state with AIR 7; Maha success rate rises 1.5% BSP to contest all 4 states' polls with full might: Maya Reliance Jio has edge over Airtel in deploying FWA 5G; claims report Religare Fin to divest housing arm to parent Mangalore University approves affiliation of three new colleges 50km from China border; Naini Saini airport in Uttarakhand gets DGCA nod 34 yrs on; why no tourism devp plan for Doon Valley? Moody's: International bond issuers face risks Don't use easy funds in next crisis: Raghuram Rajan Shifting global supply chains in India: 5 'biggest factors' impacting 'made in India' phones Gujarat aerospace firm launches first remote sensing satellite via SpaceX rocket U'khand sees over 4K cases of lumpy skin disease in June 3 from UP dead in Bageshwar accident Apple MacBook Air M1 selling at under Rs 75;000: Discount details; bank offers and more Delhi HC asks 2 cops to plant 100 trees for row with lawyer Donald Trump calls indictment 'evil and heinous abuse of power' State cabinet approves four more family courts in city G20 edu meet to look at ways to scale up learning RSS wants UP BJP to step up org activities Promised in May; PMPML's bus tracking system fails to take off 11-year-old boy drowns in Alandi; father held Chennai: OMR and ECR residents caught between Metrowater and private lorries Help's death: Police catch agency owner; ST panel seeks report In a 1st; SP netas to keep eye on voters' list Keep Joshimath in mind before making Naini ropeway: HC Project-affected persons to get Rs 25-40L from BMC instead of 300 sq ft homes Arts; sci cutoffs dip 1-2% in some colleges' FYJC minority quota list 'I didn't think about politics; wanted to do social service' Final approval not given; repair work on Sarita Vihar flyover yet to start Pakistan seeks quick refinancing of $1.3 billion loans from China: Report Mau DEO suspended for seeking bribe from retailers BrahMos: Building world's 'fastest supersonic cruise missile'; future variants & export orders Delhi Police: India MD of Twitter; Manish Maheshwari; tried to mislead in 2021 Flyover or tunnel? Two proposals to decongest Hebbal flyover before Karnataka government Italy says goodbye to ex-PM Silvio Berlusconi Sri Lanka can't afford to hold presidential polls this year: Cabinet 32-yr-old wanted in murder cases held; hi-tech pistol seized Belarus to get Russian tactical N-arms in days: Lukashenko Man drives away police patrol vehicle to TN; held AIIMS files FIR; CBI to probe leak of paper Taxi driver shot inside his car; cops suspect personal enmity Pristine lake chokes on rubble as Kokapet turns realtors' hub US judge pauses Microsoft's Activision buy Tamil Nadu students dominate NEET toppers chart Herbicide triggers fish apocalypse in Yadadri's Muktapur lake; Hyd fish supply chain may snap Implement family doctor system effectively: CM Warehousing space uptake slips in FY23 New Zealand's Michael Bracewell ruled out of ODI World Cup after injuring achilles tendon 'Last' Beatles song to be released this year... thanks to AI: McCartney Judge's gunman & friend wave pistol; create ruckus; held warm winds push minimum temp to 29 7c Centralised online UG admission process on; portal to open in 4 days Court raps cops for adding tougher section to FIR 'just to keep the accused in custody' Nigerian held for smuggling heroin in Delhi Told to vacate alternative flatsin 1 wk; say Paradiso residents Biker mowed down by truck; dragged 50m Gang of drug peddlers busted in Nuh; woman among 6 arrested Fire breaks out at biofuel factory; none injured 223 get offer letters at Centre's job fair MCG seeks increase in FAR for new Civil Hospital bldg MCG took up to 2 years to process property IDs for taxes; finds audit Work in tandem with former councillors: Min to MCG officials Visual surveys of 90% highrises over; detailed checks soon to pick 15 US judge pauses Microsoft's Activision buy Parents away at work; 5-year-old dies in slum fire Snags in power infra: Long outages hit city Vagabond held for rape bid on 5-year-old girl 19 kids rescued from eateries; furniture shops 2 FIRs over man's death: Cops claim accident; family alleges jail torture First woman to serve as NYC top cop quits suddenly No oppn consensus yet; BJP eyes more seats in GMC panel 23k flats handed over without registry; 66 builders get notices Very few applications; GBU extends deadline Sec 21 stadium to have a swimming pool High-speed bus corridor set to link Noida airport & NCR cities E-ricks are now back to help you switch metro stations 30 'Pak contacts' in Baddo's phone; cops scan bank accounts 5 stole phones from Gr Noida; smuggled them to B'desh; held Shinde Sena firefights as fresh row erupts amid power tussle Mumbai: Tantrik offers to get rid of husband's girlfriend for Rs 1.6 lakh; held Man accused of conversion held from Mumbra ED chargesheet in Guj against bookie in IPL betting case Shirtless man assaults cop at Malwani police station Mira Rd murder accused bought plant pesticides Cabinet OKs Rs 1;500cr aid for 'continuous' rain-hit crops Rural poll process stays; central forces for sensitive dists: Cal HC SoBo & Mexican bakeries in row over bread name Two women TTE expose fake mobile ticket scam Zoo to get vehicles for kids; elders & disabled Rs 372 crore for 20 vehicle fitness testing centres 4 in 2 mths: Intestinal transplants increase in city Addl quota for trans people difficult: State AG tells HC Tunnel under Mithi: 1st phase completed 16 rehab centres for cured mental illness patients Freedom fighter income limit for pension raised Cabinet okays 4 more family courts for Pune HC clears all hurdles to make Mankhurd school accessible Best Bakery case: Reasons for acquittal likely today Underground waste bins for civic hospitals AICC general secy sets target of 'BJP-free Maha' for LS polls Most people dump sizeable chunk of meds after buying If you are so popular; why not hold civic polls now: Ajit to CM 'I worked in same hostel for 30yrs; my name's ruined' WEH elevated corridor may take 4 yrs to build RBI guv hints rates may remain higher Air India flight to Doha leaves after 20 hours NBFCs' micro loan growth beats banks' SAT stays transfer of Sahara's biz to SBI Life Sensex closes above 63k; a 6-mth high Moody's: Int'l bond issuers face risks Nunes; Kamble strike for RBI Religare Fin to divest hsg arm to parent Barrier installed at illegal entry to h'way from E-way No further mobilisation needed right now: Putin Green lovers undertake clean-up drive; plant saplings in Kamothe Mum-Pune e-way motorists demand FOB near food mall Quake in Doda; light tremors felt in Delhi Panvel civic body new HQ design bags int'l award Greens hail PM's Mishti for protection of mangroves; call for healthy sea plant mgmt 72-year-old abducted; 3 men booked Man booked for usurping deceased PAP's plot Kharghar locals complain of unclean drinking water Skewed growth challenge for Karnataka: IIMB; CII B'luru woman kills mother; takes body to police station in suitcase Bengaluru: 606 students join IIMB PGP programmes Bribery case: Sasikala moves HC to quash chargesheet Accenture to invest $3bn in data & AI over 3 years Woman asked for senior cop; watched as bag was opened Grandpa inspired NEET Karnataka topper Dhruv Advani to pursue medicine Researchers find new way to mass produce microneedles 41.3 lakh women travel for free on Day 2 Skewed growth challenge for K'taka: IIMB report Bengaluru: Earthmovers' association alleges extortion by BBMP staff Karnataka: CAT stays IPS officer Ravi D Channannavar's transfer Sneha will look to lord over field High on tech: CoP hands over tabs to field level officers Chennai: Guindy-Alandur road shut for 4 days for PWD work Chennai: Madhavaram-Retteri metro line will be ready by mid-2026 City woman gets US labour dept award on child labour TN forest dept gets new e-bikes; vehicles Mystery over man's death in Chennai's Ernavoor Tamil Nadu information panel gets new chief Man uproots sapling to park car in Chennai's Anna Nagar EPS and OPS oppose common counselling move Students have right to protest; but must be mindful of it: HC PMK condemns Tasmac for moving against HC order Annamalai: No need to teach me alliance dharma Annamalai has no political experience; maturity: Edappadi K Palaniswami Activist moves UN body over Vengaivayal incident Verdict against suspended DGP in sexual assault case on June 16 Release guidelines for disaster mitigation funds Company apologises for its Hindi circular CRY aims to free 553 villages from child labour in south India SSI sexually harasses woman staff in Chennai; shunted 'Nat'l Exit Test will dent poor's interests' Search at secretariat unwarranted: Stalin Women's G20 meet: Drones banned from sensitive areas Last chance for SC panel to file response in court Woman rescued from 40ft well in Chengalpet Nungambakkam sizzles at 40C MTC drivers in Chennai submit fake eye tests Celebrating queerness through art Yoga; naturopathy admissions soon after Class XII results Appointment of doctors; nurses on: Health min Class XII exam revaluation; retotalling results today IMGC looking at doubling its home loan guarantees in FY24 India have it easy in opener Protecting blue infrastructure: Unlocking the potential of Telangana's water bodies Kisan sarkar? Congress jibes BRS as police handcuff ryots T decennial fete: KTR; Kavitha play up govt schemes for women & kids NTR tribute: Shah Khammam tryst with political symbolism High court sets aside NGT order stalling desilting of Manair river HC questions tax relief for fertility clinic CM to open BRS office in Nagpur tomorrow Stone laying for new NIMS block today Cabbies boycott trips from airport; demand higher fares; flyers stranded 3 critical as SUV rams into them 3 govt officials held in graft case 2 held for selling fake yellow fever vax certs Police crack burglary case; arrest 2 Couple dies in suicide pact Inter Girl Jumps Off College Building Inter Girl Jumps Off College Building Teen hangs self on IIIT-Basara campus Vagabond held for rape bid on 5-year-old girl Most people dump sizeable chunk of meds after buying Soumendu may file petition to prevent arrest Avanish hogs the limelight as it rains tons on opening day CBI's SSC case officer to probe Manipur clashes Interim VCs will draw their last salary as profs 5.1mn sq ft warehousing space leased in city in FY23 Thailand bats for BIMSTEC biz council Man stabs father during drunken brawl; arrested Spy allegations: HC asks CID to probe Army recruitment Illegal parking; mushrooming food stalls block New Town roads; pavements Rural tag protest: New Town residents in panchayat fray Kanyakumari to Kashmir: Teacher rides across India in 27 days on bike Blood donation camps help buck summer trend; ensure steady supply Extra classes; shorter winter break to make up for lost time Man loses4.8 lakh in crypto fraud State to showcase MRV vax model in Del event IPGMER gets nod to start surgical oncology course 1 arrested for Digha chopper-ride fraud University of London honour for Mughal art historian from Bengal Cops recover 12 stolen bikes; nab 5 Panic buttons in over 100 pre-paid taxis A man on a mission to revive the seas 5 cop kiosks on Maa likely before monsoon Use of private registration number by bike taxi operators keeps transport dept worried 5-year-old falls off giant wheel; receives over a dozen stitches Monsoon in Kolkata after Biparjoy landfall: Met CM Okays Policy For 90k Smart Streetlights BJP-Sena govt will fall after Speaker's decision: Awhad Onus of past crimes & pending cases on dealers of used cars Crime branch arrests two carrying firearms and knives Mary in race against time for WC Open trenches; chambers likely to make monsoon driving miserable Ananya finishes sixth in school nationals; books Khelo India berth warehousing land rate up to 2 4cr acre in ngp NU cancels NEP for UG courses from '23-24 session Man dies by suicide Rozgar Mela: Take your appointment letter; click a selfie with PM's picture Monsoon moving at good pace; no date set for Vid yet Out of syllabus questions carrying more than 50% marks stump BTech students Mayo dean modifies 500-bed complex plan 18-yr-old kills self in Chhola 2 women hacked to death in Anuppur 'Unauthorized' part of a small school demolished NEET: Shraddha Vadlamani of MP secures AIR 56 Winter smog has worsened in north India; finds study Cabbies boycott trips from airport; demand higher fares; flyers stranded Narottam rejects conspiracy claims; says data not lost HC dismisses Diggy plea to quash defamation suit Employees demand probe by retd judge Man killed in road accident Hundreds flock to watch fire-fighting by IAF planes 'Evidence of BJP's corruption': Nath demands probe by independent agency HRC seeks report in three weeks Fire or dam breach; Army to the rescue Inferno destroys records of 80k employees; 4 floors of building Fire safety gaps in secretariat: No fire NoC & pending safety audit EC cancellation: SEIAA to seek legal advice on filing appeal Staff salvage 50 files & 5 laptops during fire Patient's kin assault doctor CM seeks report on cause of fire in 3 days Cyclone Biparjoy: Major cargo pile up at ports; 11;000 trucks stranded as operations shut Now; Arsho is patron of SSUS youth fest panel Medical board to seek pathologist's clarification Amit Shah reviews Guj preparedness Healthcare startup wins nat'l tech award Pardon absence of lawyers; litigants Control rooms for industry at DICs cong opposes firms bid for 6 9cr contract Armed forces men on standby Consultations begin to move polluting units out of cities Solar companies check their installations in the city City remains windy for 3rd straight day AMC to sell properties on sale deed instead of 99-year lease to avoid paying 18% GST Facebook AI; cops team up to save lives HC to start hybrid mode of hearing cases Schools ordered to host yoga events on June 17 NEET: 2 from state in top 50; number of qualified aspirants doubles this yr Tirth wins tennis gold at school nat'ls Age criterion for MBBS clarified 1 lakh lost to customer care con City girl off to National Defence Academy Missing languages: GSHSEB corrects its syllabus circular Power tripping: Sanand industrialists write to Shah Man attacked in road rage incident at Bodakdev GU lists closed colleges for commerce intake Times Impact Program seminar to aid growth of Gujarat's businesses Conference on nanotechnologies AP among 7 states to have 'experiential learning prog' Haj panel told to decide on plea to change starting point After Qutabgarh; four more villages to be developed as model hubs as per LG's order 67 child labourers rescued CBSE; ICSE schools postpone reopening Senior auditor arrested by CBI for taking bribe Veera; Jagan shine for Warriors Teen dies as bike hits road divider Drinking kills 2 cops in Palamu Tamil Nadu students dominate NEET toppers chart Tamil Nadu students dominate NEET toppers chart Tamil Nadu students dominate NEET toppers chart Tamil Nadu students dominate NEET toppers chart Tamil Nadu students dominate NEET toppers chart Maharashtra government signs MoU with NSE and Moneybee institute for investor awarness programme Mahindra & Mahindra Finance partners Nucleus for digital lending PhonePe cuts fees for payment gateway services Revenue of top 18 states to grow 6-8% in FY24: Crisil Bajaj Allianz institutes GIFI awards for insurance agents Centralised online UG admission process on; portal to open in 4 days RBI norms on default guarantee could boost profits of platforms : India Ratings Purchases of homes during festivals seeing a dip: CRIF Basic Home Loan raises $4.7 million in pre-Series B funding Biker arrested for ramming into toddler at Cunchelim; fleeing 3 injured in collision between two-wheeler and bus at Raia South district teachers' edu institute in a year at Davorlim Citizens raise concerns over Cuncolim bus stand roof Chinchinim panchayat petitions Sawant over infra works in village\""
            ],
            "application/vnd.google.colaboratory.intrinsic+json": {
              "type": "string"
            }
          },
          "metadata": {},
          "execution_count": 43
        }
      ]
    },
    {
      "cell_type": "code",
      "source": [
        "import re"
      ],
      "metadata": {
        "id": "1fFAb-sEhtwj"
      },
      "execution_count": 44,
      "outputs": []
    },
    {
      "cell_type": "code",
      "source": [
        "def clean_text(text):\n",
        "    # Remove extra whitespaces and newline characters\n",
        "    cleaned_text = re.sub(r'\\s+', ' ', text).strip()\n",
        "\n",
        "    # Convert to lowercase\n",
        "    cleaned_text = cleaned_text.lower()\n",
        "\n",
        "    # Remove punctuation and special characters\n",
        "    cleaned_text = re.sub(r'[^a-z0-9\\s]', '', cleaned_text)\n",
        "\n",
        "    return cleaned_text"
      ],
      "metadata": {
        "id": "A2Il-xn2hKvc"
      },
      "execution_count": 45,
      "outputs": []
    },
    {
      "cell_type": "code",
      "source": [
        "df['News'] = df['News'].apply(clean_text)"
      ],
      "metadata": {
        "id": "2Jkjw_XChNBF"
      },
      "execution_count": 46,
      "outputs": []
    },
    {
      "cell_type": "code",
      "source": [
        "df['News'].iloc[-11]"
      ],
      "metadata": {
        "colab": {
          "base_uri": "https://localhost:8080/",
          "height": 140
        },
        "id": "e36aloA9h0E7",
        "outputId": "11a509a4-a3bd-44d8-bf5c-dcd56386ec4b"
      },
      "execution_count": 47,
      "outputs": [
        {
          "output_type": "execute_result",
          "data": {
            "text/plain": [
              "'physiology explained the study of how the human body works horoscope today june 14 2023 read your daily astrological predictions for aquarius scorpio pisces and others bride calls off marriage after groom gets drunk during jaimala ceremony 5 summer wardrobe staples tips to rainproof your makeup this monsoon optical illusion find 3 numbers hidden in this image you only have 8 seconds ap eamcet results 2023 to be released today at cets apsche ap gov in direct link here kriti sanon it took a lot of effort to immerse myself into janakis persona high in calcium food options for 30 women to improve bone health top 10 strategic skills you must learn in 2023 outproudwork visible change not pride month tokenism the way ahead for indian cos outproudwork allyship creates a conducive work environment say queer employees the battle will continue till we achieve basic human rights nishtha nishant outproudwork active measures needed to create an inclusive workforce sidharth bhardwaj on his struggles to sustain after doing reality shows i was never a rich guy in india exclusive aapda mitra will be made in all villages of haryana deputy cm dushyant chautala june heat pushes power demand to highest this yr bharti visits bawana wtp says plant to be upgraded to increase capacity nitesh tiwari to team up with brahmastra and dune vfx expert namit malhotra for epic ramayana visuals maharashtra alertness of woman ttes leads to arrest of engineering dropout for ticket forgery delhi traffic islands in cp to don a new look ahead of g20 meet delhi enforcement officer of epfo held for graft delhi cm arvind kejriwal plans scaling up work for artisans to push employment woman moves delhi high court over new condition for adoption take action against quack delhi court to state centre gang led by techie selling drugs on dark web busted by stf in lucknow invest in existing talent with career growth skilling plans moodys intl bond issuers face risks 5yearold falls from giant wheel receives over a dozen stitches on head sardinha hits out at cm for portuguese signs remark in a first debris washing up on goas shores to be studied wrd to desilt anjunem selaulim and mhaisal dams 2 bihar workers cooking tiff boils into rage 1 dead nio and mumbai institute to study ocean indias fuel exports to eu up 572 since ukraine war indian students mount legal action against british universities over covid disruptions 54quake hits doda two schoolgirls injured several buildings partially damaged all is not well between microsoft and chatgpt maker openai report nia attaches property of geelanis aide ayaz akbar in terror funding case two terrorists killed near loc in jammu  kashmirs kupwara amazon web services may be down for thousands of users donald trump pleads not guilty in federal documents case too busy to go out for yoga do it in your seats govt tells babus mahaakshay chakraborty says his father mithun chakraborty told his wife madalsa sharma to take up anupamaa opposition unity advocate bihar cm nitish kumar left redfaced as ally quits cabinet opposition unity advocate bihar cm nitish kumar left redfaced as ally quits cabinet physiotherapist in bengaluru kills mother after giving her 30 bp pills goes to cops with body in suitcase maharashtra row over eknath shindeled shiv senas advertisement as devendra fadnavis edged out of picture maharashtra row over eknath shindeled shiv senas advertisement as devendra fadnavis edged out of picture devendra fadnavis skips government event he was to address with eknath shinde devendra fadnavis skips government event he was to address with eknath shinde before cabinet today rs 63k crore plan to boost bus service in cities some in congress are seasonal hindus rajnath singhs dig at priyanka gandhi some in congress are seasonal hindus rajnath singhs dig at priyanka gandhi indiaus unity on new tech will give orbital jump to ties nsa ajit doval indiaus unity on new tech will give orbital jump to ties nsa ajit doval govt releases rs 8k crore to fight floods fires and landslides editors guild slams harassment of journalists twitter founders charge of pressure outright lie government biparjoy cyclone to hit gujarat tomorrow over 30k shifted toll rises to 5 pm modi takes veiled dig at lalu prasad mamata banerjee over job scams pm modi takes veiled dig at lalu prasad mamata banerjee over job scams in a first for an indian stock mrf crosses rs 1 lakh mark up 600 in 10 years priyanka chopra gives a glimpse of her family trip with nick jonas daughter malti marie mom madhu chopra and her inlaws uttarakhand airport 50km from lac gets dgca nod neet result 2023 obc candidate from andhra among 2 joint toppers bhopal sizzles at 414c businessman kills wife chops 15yearold daughter dumps pieces into canal in silvassa weather woes may slash up mango yield by 40 21 years on mumbai court acquits 2 in gujarat riots best bakery case car carrying swords knives stopped after chase near taj hotel in mumbai 3 held 3 die of suffocation burn injuries in fire at eatery in punes market yard four killed as methanol tanker catches fire on punemumbai expressway 21 years on mumbai court acquits two in best bakery case neglected tutor mails bomb threat to it firm in pune from husbands id arrested mumbai western express highway to get 15km elevated corridor at cost of rs 5500 crore maharashtra six people face murder charge after cattle transporter succumbs to injuries cabinet nod likely today for sulphurcoated urea launch 3 women die 5 others injured in a mudslide at pond excavation site in gurgaons pataudi t2 metro station to get indias tallest escalators looking forward to engaging talks with biden pm modi no lungis or nighties please aoa in greater noidas sector phi 2 advises dress code for its residents pune sassoon nurses demand pay parity warn of bigger protest looking forward to engaging talks with biden pm modi power cuts in parts of mumbai local faults blamed allies bjp  aiadmk spar in tamil nadu over annamalais remarks on jayalalithaa more coastal districts prone to cyclones in gujarat than odisha cyclone biparjoy 100 lions in saurashtra region ton high security alert riverfront promenade of sabarmati to be closed on june 1516 man in ahmedabad attacks son for not giving money extradition file of bootlegger vijay udhwani bore no sign of central authority gujarat hc told economy firing doomsday predictions falling flat bjp actor chrisann pereira cleared of drug charges by uae court to return soon 30000 shifted as cyclone inches closer delhi police likely to include 56 videos on wrestlers statements in court doval an international treasure us envoy boy chided by father for stealing rs 1 lakh to buy iphone hangs self near kalyan railway tracks sena ad says more people prefer shinde as cm over fadnavis bjp leaders upset deploy central forces for wb rural polls hc man held for raping minor in sundargarh mp govt building fire put out after 16 hours cm shivraj singh chouhan seeks report in 3 days strong winds rain bring muchneeded respite to mumbai but only light showers till june 17 blast hits hydel power generation in machkund dorsey making allegations to cover up his black deeds bjp bodies of all four teen boys who drowned at juhu beach found bjps jumbo expansion of telangana executive panel telangana high court seeks report on lake protection police arrest iuml leader for sexually assaulting minor greater hyderabad municipal corporation unveils citizens charter for ward offices opposition bjp conspiracy to end democracy exposed dchl promoters auditor held in bank fraud case promoters of dchl auditor arrested in bank fraud case bihar excm jitan ram manjhis son santosh kumar suman quits nitish kumars cabinet cyber conmen looted rs 600 crore in telangana in 2 years darbhanga medical college and hospital to be upgraded to 2500bed superspeciality facility bihar cabinet not against anyone but wont allow love jihad uttarakhand cm pushkar singh dhami depressed widow  2 daughters end lives in hyderabad in 2 months tomato prices rise 5fold in retail markets sops need of the hour fire brigade chief over 600 additional litter bins to curb garbage dumping on city roads soon constable caught taking bribe to file accident fir pmc to retain onceaweek water cut as rains stay away woman son arrested for assaulting cop in katraj traffic disrupted as oil tanker turns on its side in kharadi citizens demand restoration of parking facility on karve road after palkhi sanitation staff in alandi  dehu collect over 100tonne garbage caught on cam vandals in raf attire in imphal west bihars purnea medical college gets nmc nod for 100 mbbs seats in 2324 congress bjp fight over hindutvawadi tag says bsp chief mayawati no respite from heatwave in bihar as cyclone biparjoy stalls monsoon advancement jeeva murder case allahabad high court rejects pil for cbi probe after balasore crash railways focuses more on maintenance safety bihar bjp netas to attend party meet in delhi naresh singh bhokta murder case nia files second supplementary chargesheet against 3 accused in bihar chided for stealing rs 1 lakh to buy iphone boy kills self in thane city boy parth khandelwal bags 10th position in neet rural poll process stays central forces for sensitive districts calcutta high court tamil nadu dmk minister senthil balaji breaks down in ed custody hospitalised ias ips officers suspended over brawl with restaurant staff in ajmer short of workers bjp holds protest march against ashok gehlot govts corruption west bengal 93425 nominations filed for panchayat poll no decision yet on date extension bjps dholpur leader moves camp to bsp govt to bear higher cost for projects under jjm isf candidate shot at tmc men  cops injured as bhangar in west bengal turns into war zone uttar pradesh deputy cm brajesh pathak orders probe into ill treatment to pregnant woman 2 killed as minitruck hits bike in lucknows malihabad take strict action jamiat urges amit shah uttarakhand cm subinspector in lucknow held for taking rs 25000 bribe stray dogs maul to death 5yrold girl 3 dead in accident in aligarh kolkatabangkok highway opening likely in 4 years school jobs scam abhishek banerjee skips ed summons citing political engagements cops in civvies  on trees arrest 7 yamuna expressway robbers after encounter icse and isc to feature more critical and analytical questions from next yr council three students from bengal in top 50 35yearold man dies in accident on way back home after moms death leaves of forest staff cancelled in dudhwa reserve oneyearold leopard found dead in pilibhit neet show chennai boy prabhanjan j tops with full 720 marks uksssc paper leak ed raids bijnor house of main accused state performs well in neet pune girls bag air 44 and 94 exbsp mlas son booked again for trespassing devendra fadnavis skips kolhapur event maharashtra cm eknath shinde says popularity ad not given by govt if shinde is popular make him nda face frequent rescheduling of flight spoils holiday for family from city ed searches senthil balajis office at tn secretariat his home after cms call shetti suspends stir till tomorrow two held for assaulting woman srinagar hosp gets genome sequencing lab man barges into bjp mla vanathi srinivasans office in coimbatore later throws himself under bus water from sharda canal to mitigate crisis in the old city you can protest tariff hike without disconnection risk bjp raises objections as randeep singh surjewala participates in bengaluru infrastructure meeting pli scheme to include toys leather  new age ebikes cops in bengaluru clean drain to ease whitefields rain woes over 30 held for rioting and bid to murder near roorkee uttarkashi peace meet fails to reach consensus bengaluru youth makes hoax bomb threat to employer caught adani in talks for debts refinancing 52 retd babus write to cs dgp against communal strife man gets 20 yrs jail for raping minor in us nagar rbi governor shaktikanta das hints rates may remain higher sewage clearance raises a stink on chennais omr key mahapanchayat organiser backs out electricity dept to power lmc property tax collection drive cycle tracks soon in doon locals fear will add to infra woes 6500 high net worth indians may leave country this year study senior citizens among six get stuck in lifts of lda apartments nbfcs micro loan growth beats banks chandraprakash dwivedi 17 other artists given up sangeet natak akademi awards road dividers no barrier to brash bikers renowned doon educationist dies in hotel fire maruti to bring toyota innovas twin desert winds sweep uttar pradesh give rajasthanlike feel jeeva was killed with revolver smuggled from munger police sat stays transfer of saharas business to sbi life khar teen tops neet in state with air 7 maha success rate rises 15 bsp to contest all 4 states polls with full might maya reliance jio has edge over airtel in deploying fwa 5g claims report religare fin to divest housing arm to parent mangalore university approves affiliation of three new colleges 50km from china border naini saini airport in uttarakhand gets dgca nod 34 yrs on why no tourism devp plan for doon valley moodys international bond issuers face risks dont use easy funds in next crisis raghuram rajan shifting global supply chains in india 5 biggest factors impacting made in india phones gujarat aerospace firm launches first remote sensing satellite via spacex rocket ukhand sees over 4k cases of lumpy skin disease in june 3 from up dead in bageshwar accident apple macbook air m1 selling at under rs 75000 discount details bank offers and more delhi hc asks 2 cops to plant 100 trees for row with lawyer donald trump calls indictment evil and heinous abuse of power state cabinet approves four more family courts in city g20 edu meet to look at ways to scale up learning rss wants up bjp to step up org activities promised in may pmpmls bus tracking system fails to take off 11yearold boy drowns in alandi father held chennai omr and ecr residents caught between metrowater and private lorries helps death police catch agency owner st panel seeks report in a 1st sp netas to keep eye on voters list keep joshimath in mind before making naini ropeway hc projectaffected persons to get rs 2540l from bmc instead of 300 sq ft homes arts sci cutoffs dip 12 in some colleges fyjc minority quota list i didnt think about politics wanted to do social service final approval not given repair work on sarita vihar flyover yet to start pakistan seeks quick refinancing of 13 billion loans from china report mau deo suspended for seeking bribe from retailers brahmos building worlds fastest supersonic cruise missile future variants  export orders delhi police india md of twitter manish maheshwari tried to mislead in 2021 flyover or tunnel two proposals to decongest hebbal flyover before karnataka government italy says goodbye to expm silvio berlusconi sri lanka cant afford to hold presidential polls this year cabinet 32yrold wanted in murder cases held hitech pistol seized belarus to get russian tactical narms in days lukashenko man drives away police patrol vehicle to tn held aiims files fir cbi to probe leak of paper taxi driver shot inside his car cops suspect personal enmity pristine lake chokes on rubble as kokapet turns realtors hub us judge pauses microsofts activision buy tamil nadu students dominate neet toppers chart herbicide triggers fish apocalypse in yadadris muktapur lake hyd fish supply chain may snap implement family doctor system effectively cm warehousing space uptake slips in fy23 new zealands michael bracewell ruled out of odi world cup after injuring achilles tendon last beatles song to be released this year thanks to ai mccartney judges gunman  friend wave pistol create ruckus held warm winds push minimum temp to 29 7c centralised online ug admission process on portal to open in 4 days court raps cops for adding tougher section to fir just to keep the accused in custody nigerian held for smuggling heroin in delhi told to vacate alternative flatsin 1 wk say paradiso residents biker mowed down by truck dragged 50m gang of drug peddlers busted in nuh woman among 6 arrested fire breaks out at biofuel factory none injured 223 get offer letters at centres job fair mcg seeks increase in far for new civil hospital bldg mcg took up to 2 years to process property ids for taxes finds audit work in tandem with former councillors min to mcg officials visual surveys of 90 highrises over detailed checks soon to pick 15 us judge pauses microsofts activision buy parents away at work 5yearold dies in slum fire snags in power infra long outages hit city vagabond held for rape bid on 5yearold girl 19 kids rescued from eateries furniture shops 2 firs over mans death cops claim accident family alleges jail torture first woman to serve as nyc top cop quits suddenly no oppn consensus yet bjp eyes more seats in gmc panel 23k flats handed over without registry 66 builders get notices very few applications gbu extends deadline sec 21 stadium to have a swimming pool highspeed bus corridor set to link noida airport  ncr cities ericks are now back to help you switch metro stations 30 pak contacts in baddos phone cops scan bank accounts 5 stole phones from gr noida smuggled them to bdesh held shinde sena firefights as fresh row erupts amid power tussle mumbai tantrik offers to get rid of husbands girlfriend for rs 16 lakh held man accused of conversion held from mumbra ed chargesheet in guj against bookie in ipl betting case shirtless man assaults cop at malwani police station mira rd murder accused bought plant pesticides cabinet oks rs 1500cr aid for continuous rainhit crops rural poll process stays central forces for sensitive dists cal hc sobo  mexican bakeries in row over bread name two women tte expose fake mobile ticket scam zoo to get vehicles for kids elders  disabled rs 372 crore for 20 vehicle fitness testing centres 4 in 2 mths intestinal transplants increase in city addl quota for trans people difficult state ag tells hc tunnel under mithi 1st phase completed 16 rehab centres for cured mental illness patients freedom fighter income limit for pension raised cabinet okays 4 more family courts for pune hc clears all hurdles to make mankhurd school accessible best bakery case reasons for acquittal likely today underground waste bins for civic hospitals aicc general secy sets target of bjpfree maha for ls polls most people dump sizeable chunk of meds after buying if you are so popular why not hold civic polls now ajit to cm i worked in same hostel for 30yrs my names ruined weh elevated corridor may take 4 yrs to build rbi guv hints rates may remain higher air india flight to doha leaves after 20 hours nbfcs micro loan growth beats banks sat stays transfer of saharas biz to sbi life sensex closes above 63k a 6mth high moodys intl bond issuers face risks nunes kamble strike for rbi religare fin to divest hsg arm to parent barrier installed at illegal entry to hway from eway no further mobilisation needed right now putin green lovers undertake cleanup drive plant saplings in kamothe mumpune eway motorists demand fob near food mall quake in doda light tremors felt in delhi panvel civic body new hq design bags intl award greens hail pms mishti for protection of mangroves call for healthy sea plant mgmt 72yearold abducted 3 men booked man booked for usurping deceased paps plot kharghar locals complain of unclean drinking water skewed growth challenge for karnataka iimb cii bluru woman kills mother takes body to police station in suitcase bengaluru 606 students join iimb pgp programmes bribery case sasikala moves hc to quash chargesheet accenture to invest 3bn in data  ai over 3 years woman asked for senior cop watched as bag was opened grandpa inspired neet karnataka topper dhruv advani to pursue medicine researchers find new way to mass produce microneedles 413 lakh women travel for free on day 2 skewed growth challenge for ktaka iimb report bengaluru earthmovers association alleges extortion by bbmp staff karnataka cat stays ips officer ravi d channannavars transfer sneha will look to lord over field high on tech cop hands over tabs to field level officers chennai guindyalandur road shut for 4 days for pwd work chennai madhavaramretteri metro line will be ready by mid2026 city woman gets us labour dept award on child labour tn forest dept gets new ebikes vehicles mystery over mans death in chennais ernavoor tamil nadu information panel gets new chief man uproots sapling to park car in chennais anna nagar eps and ops oppose common counselling move students have right to protest but must be mindful of it hc pmk condemns tasmac for moving against hc order annamalai no need to teach me alliance dharma annamalai has no political experience maturity edappadi k palaniswami activist moves un body over vengaivayal incident verdict against suspended dgp in sexual assault case on june 16 release guidelines for disaster mitigation funds company apologises for its hindi circular cry aims to free 553 villages from child labour in south india ssi sexually harasses woman staff in chennai shunted natl exit test will dent poors interests search at secretariat unwarranted stalin womens g20 meet drones banned from sensitive areas last chance for sc panel to file response in court woman rescued from 40ft well in chengalpet nungambakkam sizzles at 40c mtc drivers in chennai submit fake eye tests celebrating queerness through art yoga naturopathy admissions soon after class xii results appointment of doctors nurses on health min class xii exam revaluation retotalling results today imgc looking at doubling its home loan guarantees in fy24 india have it easy in opener protecting blue infrastructure unlocking the potential of telanganas water bodies kisan sarkar congress jibes brs as police handcuff ryots t decennial fete ktr kavitha play up govt schemes for women  kids ntr tribute shah khammam tryst with political symbolism high court sets aside ngt order stalling desilting of manair river hc questions tax relief for fertility clinic cm to open brs office in nagpur tomorrow stone laying for new nims block today cabbies boycott trips from airport demand higher fares flyers stranded 3 critical as suv rams into them 3 govt officials held in graft case 2 held for selling fake yellow fever vax certs police crack burglary case arrest 2 couple dies in suicide pact inter girl jumps off college building inter girl jumps off college building teen hangs self on iiitbasara campus vagabond held for rape bid on 5yearold girl most people dump sizeable chunk of meds after buying soumendu may file petition to prevent arrest avanish hogs the limelight as it rains tons on opening day cbis ssc case officer to probe manipur clashes interim vcs will draw their last salary as profs 51mn sq ft warehousing space leased in city in fy23 thailand bats for bimstec biz council man stabs father during drunken brawl arrested spy allegations hc asks cid to probe army recruitment illegal parking mushrooming food stalls block new town roads pavements rural tag protest new town residents in panchayat fray kanyakumari to kashmir teacher rides across india in 27 days on bike blood donation camps help buck summer trend ensure steady supply extra classes shorter winter break to make up for lost time man loses48 lakh in crypto fraud state to showcase mrv vax model in del event ipgmer gets nod to start surgical oncology course 1 arrested for digha chopperride fraud university of london honour for mughal art historian from bengal cops recover 12 stolen bikes nab 5 panic buttons in over 100 prepaid taxis a man on a mission to revive the seas 5 cop kiosks on maa likely before monsoon use of private registration number by bike taxi operators keeps transport dept worried 5yearold falls off giant wheel receives over a dozen stitches monsoon in kolkata after biparjoy landfall met cm okays policy for 90k smart streetlights bjpsena govt will fall after speakers decision awhad onus of past crimes  pending cases on dealers of used cars crime branch arrests two carrying firearms and knives mary in race against time for wc open trenches chambers likely to make monsoon driving miserable ananya finishes sixth in school nationals books khelo india berth warehousing land rate up to 2 4cr acre in ngp nu cancels nep for ug courses from 2324 session man dies by suicide rozgar mela take your appointment letter click a selfie with pms picture monsoon moving at good pace no date set for vid yet out of syllabus questions carrying more than 50 marks stump btech students mayo dean modifies 500bed complex plan 18yrold kills self in chhola 2 women hacked to death in anuppur unauthorized part of a small school demolished neet shraddha vadlamani of mp secures air 56 winter smog has worsened in north india finds study cabbies boycott trips from airport demand higher fares flyers stranded narottam rejects conspiracy claims says data not lost hc dismisses diggy plea to quash defamation suit employees demand probe by retd judge man killed in road accident hundreds flock to watch firefighting by iaf planes evidence of bjps corruption nath demands probe by independent agency hrc seeks report in three weeks fire or dam breach army to the rescue inferno destroys records of 80k employees 4 floors of building fire safety gaps in secretariat no fire noc  pending safety audit ec cancellation seiaa to seek legal advice on filing appeal staff salvage 50 files  5 laptops during fire patients kin assault doctor cm seeks report on cause of fire in 3 days cyclone biparjoy major cargo pile up at ports 11000 trucks stranded as operations shut now arsho is patron of ssus youth fest panel medical board to seek pathologists clarification amit shah reviews guj preparedness healthcare startup wins natl tech award pardon absence of lawyers litigants control rooms for industry at dics cong opposes firms bid for 6 9cr contract armed forces men on standby consultations begin to move polluting units out of cities solar companies check their installations in the city city remains windy for 3rd straight day amc to sell properties on sale deed instead of 99year lease to avoid paying 18 gst facebook ai cops team up to save lives hc to start hybrid mode of hearing cases schools ordered to host yoga events on june 17 neet 2 from state in top 50 number of qualified aspirants doubles this yr tirth wins tennis gold at school natls age criterion for mbbs clarified 1 lakh lost to customer care con city girl off to national defence academy missing languages gshseb corrects its syllabus circular power tripping sanand industrialists write to shah man attacked in road rage incident at bodakdev gu lists closed colleges for commerce intake times impact program seminar to aid growth of gujarats businesses conference on nanotechnologies ap among 7 states to have experiential learning prog haj panel told to decide on plea to change starting point after qutabgarh four more villages to be developed as model hubs as per lgs order 67 child labourers rescued cbse icse schools postpone reopening senior auditor arrested by cbi for taking bribe veera jagan shine for warriors teen dies as bike hits road divider drinking kills 2 cops in palamu tamil nadu students dominate neet toppers chart tamil nadu students dominate neet toppers chart tamil nadu students dominate neet toppers chart tamil nadu students dominate neet toppers chart tamil nadu students dominate neet toppers chart maharashtra government signs mou with nse and moneybee institute for investor awarness programme mahindra  mahindra finance partners nucleus for digital lending phonepe cuts fees for payment gateway services revenue of top 18 states to grow 68 in fy24 crisil bajaj allianz institutes gifi awards for insurance agents centralised online ug admission process on portal to open in 4 days rbi norms on default guarantee could boost profits of platforms  india ratings purchases of homes during festivals seeing a dip crif basic home loan raises 47 million in preseries b funding biker arrested for ramming into toddler at cunchelim fleeing 3 injured in collision between twowheeler and bus at raia south district teachers edu institute in a year at davorlim citizens raise concerns over cuncolim bus stand roof chinchinim panchayat petitions sawant over infra works in village'"
            ],
            "application/vnd.google.colaboratory.intrinsic+json": {
              "type": "string"
            }
          },
          "metadata": {},
          "execution_count": 47
        }
      ]
    },
    {
      "cell_type": "markdown",
      "source": [
        "##**Sentiment Analysis**"
      ],
      "metadata": {
        "id": "7B05GZNXW_7r"
      }
    },
    {
      "cell_type": "code",
      "source": [
        "from textblob import TextBlob"
      ],
      "metadata": {
        "id": "TVjx1MiP6kgZ"
      },
      "execution_count": 48,
      "outputs": []
    },
    {
      "cell_type": "code",
      "source": [
        "def subjectivity_score(text):\n",
        "    return TextBlob(text).sentiment.subjectivity"
      ],
      "metadata": {
        "id": "CvXt1pKNijIN"
      },
      "execution_count": 49,
      "outputs": []
    },
    {
      "cell_type": "code",
      "source": [
        "df['Subjectivity'] = df['News'].apply(subjectivity_score)"
      ],
      "metadata": {
        "id": "gCYOQHv76sjR"
      },
      "execution_count": 51,
      "outputs": []
    },
    {
      "cell_type": "code",
      "source": [
        "def polarity_score(text):\n",
        "    return TextBlob(text).sentiment.polarity"
      ],
      "metadata": {
        "id": "V3wXynWs7qaE"
      },
      "execution_count": 52,
      "outputs": []
    },
    {
      "cell_type": "code",
      "source": [
        "df['Polarity'] = df['News'].apply(polarity_score)"
      ],
      "metadata": {
        "id": "k1Hz-g-E7P3W"
      },
      "execution_count": 53,
      "outputs": []
    },
    {
      "cell_type": "code",
      "source": [
        "df.head(5)"
      ],
      "metadata": {
        "colab": {
          "base_uri": "https://localhost:8080/",
          "height": 206
        },
        "id": "nhk7hv8e_FsQ",
        "outputId": "36944efb-4cba-4d36-9502-f3c93adf264e"
      },
      "execution_count": 54,
      "outputs": [
        {
          "output_type": "execute_result",
          "data": {
            "text/plain": [
              "        Date      Open      High       Low     Close  Adj Close     Volume  \\\n",
              "0 2001-01-02  0.265625  0.272321  0.260045  0.265625   0.225165  452312000   \n",
              "1 2001-01-03  0.258929  0.297991  0.257813  0.292411   0.247871  817073600   \n",
              "2 2001-01-04  0.323940  0.330357  0.300223  0.304688   0.258278  739396000   \n",
              "3 2001-01-05  0.302455  0.310268  0.286830  0.292411   0.247871  412356000   \n",
              "4 2001-01-08  0.302455  0.303292  0.284598  0.295759   0.250709  373699200   \n",
              "\n",
              "                                                News  Subjectivity  Polarity  \n",
              "0  status quo will not be disturbed at ayodhya sa...      0.282333  0.151333  \n",
              "1  powerless north india gropes in the dark think...      0.407692  0.088462  \n",
              "2  the string that pulled stephen hawking to indi...      0.446847  0.090625  \n",
              "3  light combat craft takes india into club class...      0.476612  0.262024  \n",
              "4  sangh parivar babri panel up the ante frontrun...      0.414653 -0.019214  "
            ],
            "text/html": [
              "\n",
              "  <div id=\"df-3dbd9aa7-65f1-4cbb-940f-30a020e270d7\" class=\"colab-df-container\">\n",
              "    <div>\n",
              "<style scoped>\n",
              "    .dataframe tbody tr th:only-of-type {\n",
              "        vertical-align: middle;\n",
              "    }\n",
              "\n",
              "    .dataframe tbody tr th {\n",
              "        vertical-align: top;\n",
              "    }\n",
              "\n",
              "    .dataframe thead th {\n",
              "        text-align: right;\n",
              "    }\n",
              "</style>\n",
              "<table border=\"1\" class=\"dataframe\">\n",
              "  <thead>\n",
              "    <tr style=\"text-align: right;\">\n",
              "      <th></th>\n",
              "      <th>Date</th>\n",
              "      <th>Open</th>\n",
              "      <th>High</th>\n",
              "      <th>Low</th>\n",
              "      <th>Close</th>\n",
              "      <th>Adj Close</th>\n",
              "      <th>Volume</th>\n",
              "      <th>News</th>\n",
              "      <th>Subjectivity</th>\n",
              "      <th>Polarity</th>\n",
              "    </tr>\n",
              "  </thead>\n",
              "  <tbody>\n",
              "    <tr>\n",
              "      <th>0</th>\n",
              "      <td>2001-01-02</td>\n",
              "      <td>0.265625</td>\n",
              "      <td>0.272321</td>\n",
              "      <td>0.260045</td>\n",
              "      <td>0.265625</td>\n",
              "      <td>0.225165</td>\n",
              "      <td>452312000</td>\n",
              "      <td>status quo will not be disturbed at ayodhya sa...</td>\n",
              "      <td>0.282333</td>\n",
              "      <td>0.151333</td>\n",
              "    </tr>\n",
              "    <tr>\n",
              "      <th>1</th>\n",
              "      <td>2001-01-03</td>\n",
              "      <td>0.258929</td>\n",
              "      <td>0.297991</td>\n",
              "      <td>0.257813</td>\n",
              "      <td>0.292411</td>\n",
              "      <td>0.247871</td>\n",
              "      <td>817073600</td>\n",
              "      <td>powerless north india gropes in the dark think...</td>\n",
              "      <td>0.407692</td>\n",
              "      <td>0.088462</td>\n",
              "    </tr>\n",
              "    <tr>\n",
              "      <th>2</th>\n",
              "      <td>2001-01-04</td>\n",
              "      <td>0.323940</td>\n",
              "      <td>0.330357</td>\n",
              "      <td>0.300223</td>\n",
              "      <td>0.304688</td>\n",
              "      <td>0.258278</td>\n",
              "      <td>739396000</td>\n",
              "      <td>the string that pulled stephen hawking to indi...</td>\n",
              "      <td>0.446847</td>\n",
              "      <td>0.090625</td>\n",
              "    </tr>\n",
              "    <tr>\n",
              "      <th>3</th>\n",
              "      <td>2001-01-05</td>\n",
              "      <td>0.302455</td>\n",
              "      <td>0.310268</td>\n",
              "      <td>0.286830</td>\n",
              "      <td>0.292411</td>\n",
              "      <td>0.247871</td>\n",
              "      <td>412356000</td>\n",
              "      <td>light combat craft takes india into club class...</td>\n",
              "      <td>0.476612</td>\n",
              "      <td>0.262024</td>\n",
              "    </tr>\n",
              "    <tr>\n",
              "      <th>4</th>\n",
              "      <td>2001-01-08</td>\n",
              "      <td>0.302455</td>\n",
              "      <td>0.303292</td>\n",
              "      <td>0.284598</td>\n",
              "      <td>0.295759</td>\n",
              "      <td>0.250709</td>\n",
              "      <td>373699200</td>\n",
              "      <td>sangh parivar babri panel up the ante frontrun...</td>\n",
              "      <td>0.414653</td>\n",
              "      <td>-0.019214</td>\n",
              "    </tr>\n",
              "  </tbody>\n",
              "</table>\n",
              "</div>\n",
              "    <div class=\"colab-df-buttons\">\n",
              "\n",
              "  <div class=\"colab-df-container\">\n",
              "    <button class=\"colab-df-convert\" onclick=\"convertToInteractive('df-3dbd9aa7-65f1-4cbb-940f-30a020e270d7')\"\n",
              "            title=\"Convert this dataframe to an interactive table.\"\n",
              "            style=\"display:none;\">\n",
              "\n",
              "  <svg xmlns=\"http://www.w3.org/2000/svg\" height=\"24px\" viewBox=\"0 -960 960 960\">\n",
              "    <path d=\"M120-120v-720h720v720H120Zm60-500h600v-160H180v160Zm220 220h160v-160H400v160Zm0 220h160v-160H400v160ZM180-400h160v-160H180v160Zm440 0h160v-160H620v160ZM180-180h160v-160H180v160Zm440 0h160v-160H620v160Z\"/>\n",
              "  </svg>\n",
              "    </button>\n",
              "\n",
              "  <style>\n",
              "    .colab-df-container {\n",
              "      display:flex;\n",
              "      gap: 12px;\n",
              "    }\n",
              "\n",
              "    .colab-df-convert {\n",
              "      background-color: #E8F0FE;\n",
              "      border: none;\n",
              "      border-radius: 50%;\n",
              "      cursor: pointer;\n",
              "      display: none;\n",
              "      fill: #1967D2;\n",
              "      height: 32px;\n",
              "      padding: 0 0 0 0;\n",
              "      width: 32px;\n",
              "    }\n",
              "\n",
              "    .colab-df-convert:hover {\n",
              "      background-color: #E2EBFA;\n",
              "      box-shadow: 0px 1px 2px rgba(60, 64, 67, 0.3), 0px 1px 3px 1px rgba(60, 64, 67, 0.15);\n",
              "      fill: #174EA6;\n",
              "    }\n",
              "\n",
              "    .colab-df-buttons div {\n",
              "      margin-bottom: 4px;\n",
              "    }\n",
              "\n",
              "    [theme=dark] .colab-df-convert {\n",
              "      background-color: #3B4455;\n",
              "      fill: #D2E3FC;\n",
              "    }\n",
              "\n",
              "    [theme=dark] .colab-df-convert:hover {\n",
              "      background-color: #434B5C;\n",
              "      box-shadow: 0px 1px 3px 1px rgba(0, 0, 0, 0.15);\n",
              "      filter: drop-shadow(0px 1px 2px rgba(0, 0, 0, 0.3));\n",
              "      fill: #FFFFFF;\n",
              "    }\n",
              "  </style>\n",
              "\n",
              "    <script>\n",
              "      const buttonEl =\n",
              "        document.querySelector('#df-3dbd9aa7-65f1-4cbb-940f-30a020e270d7 button.colab-df-convert');\n",
              "      buttonEl.style.display =\n",
              "        google.colab.kernel.accessAllowed ? 'block' : 'none';\n",
              "\n",
              "      async function convertToInteractive(key) {\n",
              "        const element = document.querySelector('#df-3dbd9aa7-65f1-4cbb-940f-30a020e270d7');\n",
              "        const dataTable =\n",
              "          await google.colab.kernel.invokeFunction('convertToInteractive',\n",
              "                                                    [key], {});\n",
              "        if (!dataTable) return;\n",
              "\n",
              "        const docLinkHtml = 'Like what you see? Visit the ' +\n",
              "          '<a target=\"_blank\" href=https://colab.research.google.com/notebooks/data_table.ipynb>data table notebook</a>'\n",
              "          + ' to learn more about interactive tables.';\n",
              "        element.innerHTML = '';\n",
              "        dataTable['output_type'] = 'display_data';\n",
              "        await google.colab.output.renderOutput(dataTable, element);\n",
              "        const docLink = document.createElement('div');\n",
              "        docLink.innerHTML = docLinkHtml;\n",
              "        element.appendChild(docLink);\n",
              "      }\n",
              "    </script>\n",
              "  </div>\n",
              "\n",
              "\n",
              "<div id=\"df-0bcd4a49-087d-4eea-8fd1-ec0ddb724d1c\">\n",
              "  <button class=\"colab-df-quickchart\" onclick=\"quickchart('df-0bcd4a49-087d-4eea-8fd1-ec0ddb724d1c')\"\n",
              "            title=\"Suggest charts\"\n",
              "            style=\"display:none;\">\n",
              "\n",
              "<svg xmlns=\"http://www.w3.org/2000/svg\" height=\"24px\"viewBox=\"0 0 24 24\"\n",
              "     width=\"24px\">\n",
              "    <g>\n",
              "        <path d=\"M19 3H5c-1.1 0-2 .9-2 2v14c0 1.1.9 2 2 2h14c1.1 0 2-.9 2-2V5c0-1.1-.9-2-2-2zM9 17H7v-7h2v7zm4 0h-2V7h2v10zm4 0h-2v-4h2v4z\"/>\n",
              "    </g>\n",
              "</svg>\n",
              "  </button>\n",
              "\n",
              "<style>\n",
              "  .colab-df-quickchart {\n",
              "      --bg-color: #E8F0FE;\n",
              "      --fill-color: #1967D2;\n",
              "      --hover-bg-color: #E2EBFA;\n",
              "      --hover-fill-color: #174EA6;\n",
              "      --disabled-fill-color: #AAA;\n",
              "      --disabled-bg-color: #DDD;\n",
              "  }\n",
              "\n",
              "  [theme=dark] .colab-df-quickchart {\n",
              "      --bg-color: #3B4455;\n",
              "      --fill-color: #D2E3FC;\n",
              "      --hover-bg-color: #434B5C;\n",
              "      --hover-fill-color: #FFFFFF;\n",
              "      --disabled-bg-color: #3B4455;\n",
              "      --disabled-fill-color: #666;\n",
              "  }\n",
              "\n",
              "  .colab-df-quickchart {\n",
              "    background-color: var(--bg-color);\n",
              "    border: none;\n",
              "    border-radius: 50%;\n",
              "    cursor: pointer;\n",
              "    display: none;\n",
              "    fill: var(--fill-color);\n",
              "    height: 32px;\n",
              "    padding: 0;\n",
              "    width: 32px;\n",
              "  }\n",
              "\n",
              "  .colab-df-quickchart:hover {\n",
              "    background-color: var(--hover-bg-color);\n",
              "    box-shadow: 0 1px 2px rgba(60, 64, 67, 0.3), 0 1px 3px 1px rgba(60, 64, 67, 0.15);\n",
              "    fill: var(--button-hover-fill-color);\n",
              "  }\n",
              "\n",
              "  .colab-df-quickchart-complete:disabled,\n",
              "  .colab-df-quickchart-complete:disabled:hover {\n",
              "    background-color: var(--disabled-bg-color);\n",
              "    fill: var(--disabled-fill-color);\n",
              "    box-shadow: none;\n",
              "  }\n",
              "\n",
              "  .colab-df-spinner {\n",
              "    border: 2px solid var(--fill-color);\n",
              "    border-color: transparent;\n",
              "    border-bottom-color: var(--fill-color);\n",
              "    animation:\n",
              "      spin 1s steps(1) infinite;\n",
              "  }\n",
              "\n",
              "  @keyframes spin {\n",
              "    0% {\n",
              "      border-color: transparent;\n",
              "      border-bottom-color: var(--fill-color);\n",
              "      border-left-color: var(--fill-color);\n",
              "    }\n",
              "    20% {\n",
              "      border-color: transparent;\n",
              "      border-left-color: var(--fill-color);\n",
              "      border-top-color: var(--fill-color);\n",
              "    }\n",
              "    30% {\n",
              "      border-color: transparent;\n",
              "      border-left-color: var(--fill-color);\n",
              "      border-top-color: var(--fill-color);\n",
              "      border-right-color: var(--fill-color);\n",
              "    }\n",
              "    40% {\n",
              "      border-color: transparent;\n",
              "      border-right-color: var(--fill-color);\n",
              "      border-top-color: var(--fill-color);\n",
              "    }\n",
              "    60% {\n",
              "      border-color: transparent;\n",
              "      border-right-color: var(--fill-color);\n",
              "    }\n",
              "    80% {\n",
              "      border-color: transparent;\n",
              "      border-right-color: var(--fill-color);\n",
              "      border-bottom-color: var(--fill-color);\n",
              "    }\n",
              "    90% {\n",
              "      border-color: transparent;\n",
              "      border-bottom-color: var(--fill-color);\n",
              "    }\n",
              "  }\n",
              "</style>\n",
              "\n",
              "  <script>\n",
              "    async function quickchart(key) {\n",
              "      const quickchartButtonEl =\n",
              "        document.querySelector('#' + key + ' button');\n",
              "      quickchartButtonEl.disabled = true;  // To prevent multiple clicks.\n",
              "      quickchartButtonEl.classList.add('colab-df-spinner');\n",
              "      try {\n",
              "        const charts = await google.colab.kernel.invokeFunction(\n",
              "            'suggestCharts', [key], {});\n",
              "      } catch (error) {\n",
              "        console.error('Error during call to suggestCharts:', error);\n",
              "      }\n",
              "      quickchartButtonEl.classList.remove('colab-df-spinner');\n",
              "      quickchartButtonEl.classList.add('colab-df-quickchart-complete');\n",
              "    }\n",
              "    (() => {\n",
              "      let quickchartButtonEl =\n",
              "        document.querySelector('#df-0bcd4a49-087d-4eea-8fd1-ec0ddb724d1c button');\n",
              "      quickchartButtonEl.style.display =\n",
              "        google.colab.kernel.accessAllowed ? 'block' : 'none';\n",
              "    })();\n",
              "  </script>\n",
              "</div>\n",
              "    </div>\n",
              "  </div>\n"
            ]
          },
          "metadata": {},
          "execution_count": 54
        }
      ]
    },
    {
      "cell_type": "code",
      "source": [
        "import nltk\n",
        "from nltk.sentiment.vader import SentimentIntensityAnalyzer"
      ],
      "metadata": {
        "id": "7DNzrMlw7s12"
      },
      "execution_count": 55,
      "outputs": []
    },
    {
      "cell_type": "markdown",
      "source": [
        "##**VADER (Valence Aware Dictionary and sEntiment Reasoner)**"
      ],
      "metadata": {
        "id": "YGU64QRyXe4e"
      }
    },
    {
      "cell_type": "code",
      "source": [
        "nltk.download('vader_lexicon')"
      ],
      "metadata": {
        "colab": {
          "base_uri": "https://localhost:8080/"
        },
        "id": "2yvB7umo_mri",
        "outputId": "c4e8cf29-3146-43f1-e7e1-3ed4f85d05ff"
      },
      "execution_count": 56,
      "outputs": [
        {
          "output_type": "stream",
          "name": "stderr",
          "text": [
            "[nltk_data] Downloading package vader_lexicon to /root/nltk_data...\n"
          ]
        },
        {
          "output_type": "execute_result",
          "data": {
            "text/plain": [
              "True"
            ]
          },
          "metadata": {},
          "execution_count": 56
        }
      ]
    },
    {
      "cell_type": "code",
      "source": [
        "SA = SentimentIntensityAnalyzer()"
      ],
      "metadata": {
        "id": "qYUgqBCZ9O6N"
      },
      "execution_count": 57,
      "outputs": []
    },
    {
      "cell_type": "code",
      "source": [
        "df['Compound'] = [SA.polarity_scores(news)['compound'] for news in df['News']]\n",
        "df['Negative'] = [SA.polarity_scores(news)['neg'] for news in df['News']]\n",
        "df['Neutral'] = [SA.polarity_scores(news)['neu'] for news in df['News']]\n",
        "df['Positive'] = [SA.polarity_scores(news)['pos'] for news in df['News']]"
      ],
      "metadata": {
        "id": "yhWZGw2i8s1g"
      },
      "execution_count": 58,
      "outputs": []
    },
    {
      "cell_type": "markdown",
      "source": [
        "##**Feature Selection**"
      ],
      "metadata": {
        "id": "EjB2pYIuXjw4"
      }
    },
    {
      "cell_type": "markdown",
      "source": [
        "**Use the Close Stock Price Column to Train Your Model.**\n",
        "\n",
        "The closing price is a fundamental piece of information for stock analysis. It represents the final traded price for the day, which can be influenced by various factors and information available up to that point."
      ],
      "metadata": {
        "id": "3uJ9CpcqXtq7"
      }
    },
    {
      "cell_type": "code",
      "source": [
        "df.columns"
      ],
      "metadata": {
        "colab": {
          "base_uri": "https://localhost:8080/"
        },
        "id": "CSbgI669oCWV",
        "outputId": "dada0962-a33b-48f6-a389-b8f9885210dc"
      },
      "execution_count": 59,
      "outputs": [
        {
          "output_type": "execute_result",
          "data": {
            "text/plain": [
              "Index(['Date', 'Open', 'High', 'Low', 'Close', 'Adj Close', 'Volume', 'News',\n",
              "       'Subjectivity', 'Polarity', 'Compound', 'Negative', 'Neutral',\n",
              "       'Positive'],\n",
              "      dtype='object')"
            ]
          },
          "metadata": {},
          "execution_count": 59
        }
      ]
    },
    {
      "cell_type": "code",
      "source": [
        "selected_feat = df.columns.drop(['Date', 'Open', 'High', 'Low', 'Adj Close', 'Volume', 'News'])"
      ],
      "metadata": {
        "id": "l5xaoiZZvZYs"
      },
      "execution_count": 60,
      "outputs": []
    },
    {
      "cell_type": "code",
      "source": [
        "final_df = df[selected_feat]\n",
        "final_df.head(3)"
      ],
      "metadata": {
        "colab": {
          "base_uri": "https://localhost:8080/",
          "height": 143
        },
        "id": "SbxVbIOzwZOd",
        "outputId": "c71142cc-b7a8-49ce-9e71-461919d6eeb2"
      },
      "execution_count": 61,
      "outputs": [
        {
          "output_type": "execute_result",
          "data": {
            "text/plain": [
              "      Close  Subjectivity  Polarity  Compound  Negative  Neutral  Positive\n",
              "0  0.265625      0.282333  0.151333   -0.9792     0.121    0.808     0.071\n",
              "1  0.292411      0.407692  0.088462   -0.1779     0.121    0.767     0.112\n",
              "2  0.304688      0.446847  0.090625    0.8047     0.100    0.798     0.102"
            ],
            "text/html": [
              "\n",
              "  <div id=\"df-250d7a05-ec86-44b1-8036-abb2d8e621bd\" class=\"colab-df-container\">\n",
              "    <div>\n",
              "<style scoped>\n",
              "    .dataframe tbody tr th:only-of-type {\n",
              "        vertical-align: middle;\n",
              "    }\n",
              "\n",
              "    .dataframe tbody tr th {\n",
              "        vertical-align: top;\n",
              "    }\n",
              "\n",
              "    .dataframe thead th {\n",
              "        text-align: right;\n",
              "    }\n",
              "</style>\n",
              "<table border=\"1\" class=\"dataframe\">\n",
              "  <thead>\n",
              "    <tr style=\"text-align: right;\">\n",
              "      <th></th>\n",
              "      <th>Close</th>\n",
              "      <th>Subjectivity</th>\n",
              "      <th>Polarity</th>\n",
              "      <th>Compound</th>\n",
              "      <th>Negative</th>\n",
              "      <th>Neutral</th>\n",
              "      <th>Positive</th>\n",
              "    </tr>\n",
              "  </thead>\n",
              "  <tbody>\n",
              "    <tr>\n",
              "      <th>0</th>\n",
              "      <td>0.265625</td>\n",
              "      <td>0.282333</td>\n",
              "      <td>0.151333</td>\n",
              "      <td>-0.9792</td>\n",
              "      <td>0.121</td>\n",
              "      <td>0.808</td>\n",
              "      <td>0.071</td>\n",
              "    </tr>\n",
              "    <tr>\n",
              "      <th>1</th>\n",
              "      <td>0.292411</td>\n",
              "      <td>0.407692</td>\n",
              "      <td>0.088462</td>\n",
              "      <td>-0.1779</td>\n",
              "      <td>0.121</td>\n",
              "      <td>0.767</td>\n",
              "      <td>0.112</td>\n",
              "    </tr>\n",
              "    <tr>\n",
              "      <th>2</th>\n",
              "      <td>0.304688</td>\n",
              "      <td>0.446847</td>\n",
              "      <td>0.090625</td>\n",
              "      <td>0.8047</td>\n",
              "      <td>0.100</td>\n",
              "      <td>0.798</td>\n",
              "      <td>0.102</td>\n",
              "    </tr>\n",
              "  </tbody>\n",
              "</table>\n",
              "</div>\n",
              "    <div class=\"colab-df-buttons\">\n",
              "\n",
              "  <div class=\"colab-df-container\">\n",
              "    <button class=\"colab-df-convert\" onclick=\"convertToInteractive('df-250d7a05-ec86-44b1-8036-abb2d8e621bd')\"\n",
              "            title=\"Convert this dataframe to an interactive table.\"\n",
              "            style=\"display:none;\">\n",
              "\n",
              "  <svg xmlns=\"http://www.w3.org/2000/svg\" height=\"24px\" viewBox=\"0 -960 960 960\">\n",
              "    <path d=\"M120-120v-720h720v720H120Zm60-500h600v-160H180v160Zm220 220h160v-160H400v160Zm0 220h160v-160H400v160ZM180-400h160v-160H180v160Zm440 0h160v-160H620v160ZM180-180h160v-160H180v160Zm440 0h160v-160H620v160Z\"/>\n",
              "  </svg>\n",
              "    </button>\n",
              "\n",
              "  <style>\n",
              "    .colab-df-container {\n",
              "      display:flex;\n",
              "      gap: 12px;\n",
              "    }\n",
              "\n",
              "    .colab-df-convert {\n",
              "      background-color: #E8F0FE;\n",
              "      border: none;\n",
              "      border-radius: 50%;\n",
              "      cursor: pointer;\n",
              "      display: none;\n",
              "      fill: #1967D2;\n",
              "      height: 32px;\n",
              "      padding: 0 0 0 0;\n",
              "      width: 32px;\n",
              "    }\n",
              "\n",
              "    .colab-df-convert:hover {\n",
              "      background-color: #E2EBFA;\n",
              "      box-shadow: 0px 1px 2px rgba(60, 64, 67, 0.3), 0px 1px 3px 1px rgba(60, 64, 67, 0.15);\n",
              "      fill: #174EA6;\n",
              "    }\n",
              "\n",
              "    .colab-df-buttons div {\n",
              "      margin-bottom: 4px;\n",
              "    }\n",
              "\n",
              "    [theme=dark] .colab-df-convert {\n",
              "      background-color: #3B4455;\n",
              "      fill: #D2E3FC;\n",
              "    }\n",
              "\n",
              "    [theme=dark] .colab-df-convert:hover {\n",
              "      background-color: #434B5C;\n",
              "      box-shadow: 0px 1px 3px 1px rgba(0, 0, 0, 0.15);\n",
              "      filter: drop-shadow(0px 1px 2px rgba(0, 0, 0, 0.3));\n",
              "      fill: #FFFFFF;\n",
              "    }\n",
              "  </style>\n",
              "\n",
              "    <script>\n",
              "      const buttonEl =\n",
              "        document.querySelector('#df-250d7a05-ec86-44b1-8036-abb2d8e621bd button.colab-df-convert');\n",
              "      buttonEl.style.display =\n",
              "        google.colab.kernel.accessAllowed ? 'block' : 'none';\n",
              "\n",
              "      async function convertToInteractive(key) {\n",
              "        const element = document.querySelector('#df-250d7a05-ec86-44b1-8036-abb2d8e621bd');\n",
              "        const dataTable =\n",
              "          await google.colab.kernel.invokeFunction('convertToInteractive',\n",
              "                                                    [key], {});\n",
              "        if (!dataTable) return;\n",
              "\n",
              "        const docLinkHtml = 'Like what you see? Visit the ' +\n",
              "          '<a target=\"_blank\" href=https://colab.research.google.com/notebooks/data_table.ipynb>data table notebook</a>'\n",
              "          + ' to learn more about interactive tables.';\n",
              "        element.innerHTML = '';\n",
              "        dataTable['output_type'] = 'display_data';\n",
              "        await google.colab.output.renderOutput(dataTable, element);\n",
              "        const docLink = document.createElement('div');\n",
              "        docLink.innerHTML = docLinkHtml;\n",
              "        element.appendChild(docLink);\n",
              "      }\n",
              "    </script>\n",
              "  </div>\n",
              "\n",
              "\n",
              "<div id=\"df-347cee68-af3a-43b2-b472-4ae4320703c9\">\n",
              "  <button class=\"colab-df-quickchart\" onclick=\"quickchart('df-347cee68-af3a-43b2-b472-4ae4320703c9')\"\n",
              "            title=\"Suggest charts\"\n",
              "            style=\"display:none;\">\n",
              "\n",
              "<svg xmlns=\"http://www.w3.org/2000/svg\" height=\"24px\"viewBox=\"0 0 24 24\"\n",
              "     width=\"24px\">\n",
              "    <g>\n",
              "        <path d=\"M19 3H5c-1.1 0-2 .9-2 2v14c0 1.1.9 2 2 2h14c1.1 0 2-.9 2-2V5c0-1.1-.9-2-2-2zM9 17H7v-7h2v7zm4 0h-2V7h2v10zm4 0h-2v-4h2v4z\"/>\n",
              "    </g>\n",
              "</svg>\n",
              "  </button>\n",
              "\n",
              "<style>\n",
              "  .colab-df-quickchart {\n",
              "      --bg-color: #E8F0FE;\n",
              "      --fill-color: #1967D2;\n",
              "      --hover-bg-color: #E2EBFA;\n",
              "      --hover-fill-color: #174EA6;\n",
              "      --disabled-fill-color: #AAA;\n",
              "      --disabled-bg-color: #DDD;\n",
              "  }\n",
              "\n",
              "  [theme=dark] .colab-df-quickchart {\n",
              "      --bg-color: #3B4455;\n",
              "      --fill-color: #D2E3FC;\n",
              "      --hover-bg-color: #434B5C;\n",
              "      --hover-fill-color: #FFFFFF;\n",
              "      --disabled-bg-color: #3B4455;\n",
              "      --disabled-fill-color: #666;\n",
              "  }\n",
              "\n",
              "  .colab-df-quickchart {\n",
              "    background-color: var(--bg-color);\n",
              "    border: none;\n",
              "    border-radius: 50%;\n",
              "    cursor: pointer;\n",
              "    display: none;\n",
              "    fill: var(--fill-color);\n",
              "    height: 32px;\n",
              "    padding: 0;\n",
              "    width: 32px;\n",
              "  }\n",
              "\n",
              "  .colab-df-quickchart:hover {\n",
              "    background-color: var(--hover-bg-color);\n",
              "    box-shadow: 0 1px 2px rgba(60, 64, 67, 0.3), 0 1px 3px 1px rgba(60, 64, 67, 0.15);\n",
              "    fill: var(--button-hover-fill-color);\n",
              "  }\n",
              "\n",
              "  .colab-df-quickchart-complete:disabled,\n",
              "  .colab-df-quickchart-complete:disabled:hover {\n",
              "    background-color: var(--disabled-bg-color);\n",
              "    fill: var(--disabled-fill-color);\n",
              "    box-shadow: none;\n",
              "  }\n",
              "\n",
              "  .colab-df-spinner {\n",
              "    border: 2px solid var(--fill-color);\n",
              "    border-color: transparent;\n",
              "    border-bottom-color: var(--fill-color);\n",
              "    animation:\n",
              "      spin 1s steps(1) infinite;\n",
              "  }\n",
              "\n",
              "  @keyframes spin {\n",
              "    0% {\n",
              "      border-color: transparent;\n",
              "      border-bottom-color: var(--fill-color);\n",
              "      border-left-color: var(--fill-color);\n",
              "    }\n",
              "    20% {\n",
              "      border-color: transparent;\n",
              "      border-left-color: var(--fill-color);\n",
              "      border-top-color: var(--fill-color);\n",
              "    }\n",
              "    30% {\n",
              "      border-color: transparent;\n",
              "      border-left-color: var(--fill-color);\n",
              "      border-top-color: var(--fill-color);\n",
              "      border-right-color: var(--fill-color);\n",
              "    }\n",
              "    40% {\n",
              "      border-color: transparent;\n",
              "      border-right-color: var(--fill-color);\n",
              "      border-top-color: var(--fill-color);\n",
              "    }\n",
              "    60% {\n",
              "      border-color: transparent;\n",
              "      border-right-color: var(--fill-color);\n",
              "    }\n",
              "    80% {\n",
              "      border-color: transparent;\n",
              "      border-right-color: var(--fill-color);\n",
              "      border-bottom-color: var(--fill-color);\n",
              "    }\n",
              "    90% {\n",
              "      border-color: transparent;\n",
              "      border-bottom-color: var(--fill-color);\n",
              "    }\n",
              "  }\n",
              "</style>\n",
              "\n",
              "  <script>\n",
              "    async function quickchart(key) {\n",
              "      const quickchartButtonEl =\n",
              "        document.querySelector('#' + key + ' button');\n",
              "      quickchartButtonEl.disabled = true;  // To prevent multiple clicks.\n",
              "      quickchartButtonEl.classList.add('colab-df-spinner');\n",
              "      try {\n",
              "        const charts = await google.colab.kernel.invokeFunction(\n",
              "            'suggestCharts', [key], {});\n",
              "      } catch (error) {\n",
              "        console.error('Error during call to suggestCharts:', error);\n",
              "      }\n",
              "      quickchartButtonEl.classList.remove('colab-df-spinner');\n",
              "      quickchartButtonEl.classList.add('colab-df-quickchart-complete');\n",
              "    }\n",
              "    (() => {\n",
              "      let quickchartButtonEl =\n",
              "        document.querySelector('#df-347cee68-af3a-43b2-b472-4ae4320703c9 button');\n",
              "      quickchartButtonEl.style.display =\n",
              "        google.colab.kernel.accessAllowed ? 'block' : 'none';\n",
              "    })();\n",
              "  </script>\n",
              "</div>\n",
              "    </div>\n",
              "  </div>\n"
            ]
          },
          "metadata": {},
          "execution_count": 61
        }
      ]
    },
    {
      "cell_type": "code",
      "source": [
        "X = final_df.drop('Close', axis=1)\n",
        "y = final_df['Close']"
      ],
      "metadata": {
        "id": "x0v7WoGYxQ8D"
      },
      "execution_count": 62,
      "outputs": []
    },
    {
      "cell_type": "markdown",
      "source": [
        "# **Data Splitting**"
      ],
      "metadata": {
        "id": "zFez69dmxkdI"
      }
    },
    {
      "cell_type": "code",
      "source": [
        "from sklearn.model_selection import train_test_split"
      ],
      "metadata": {
        "id": "7L40_pLrxkds"
      },
      "execution_count": 63,
      "outputs": []
    },
    {
      "cell_type": "code",
      "source": [
        "X_train, X_test, y_train, y_test = train_test_split(X,y,test_size=0.2, random_state=0)"
      ],
      "metadata": {
        "id": "OADcJnUNxkdu"
      },
      "execution_count": 184,
      "outputs": []
    },
    {
      "cell_type": "code",
      "source": [
        "X_train.shape, X_test.shape, y_train.shape, y_test.shape"
      ],
      "metadata": {
        "colab": {
          "base_uri": "https://localhost:8080/"
        },
        "outputId": "ddb03633-980b-4745-ce9b-f4cb152de5c9",
        "id": "H1CuUtTWxkdv"
      },
      "execution_count": 185,
      "outputs": [
        {
          "output_type": "execute_result",
          "data": {
            "text/plain": [
              "((4501, 6), (1126, 6), (4501,), (1126,))"
            ]
          },
          "metadata": {},
          "execution_count": 185
        }
      ]
    },
    {
      "cell_type": "markdown",
      "source": [
        "#**Data Scaling**"
      ],
      "metadata": {
        "id": "orG7cD7LyX4F"
      }
    },
    {
      "cell_type": "code",
      "source": [
        "from sklearn.preprocessing import StandardScaler"
      ],
      "metadata": {
        "id": "6AJnF7t6yX4X"
      },
      "execution_count": 188,
      "outputs": []
    },
    {
      "cell_type": "code",
      "source": [
        "scaler_x = StandardScaler()\n",
        "\n",
        "X_train_scaled = scaler_x.fit_transform(X_train)\n",
        "X_test_scaled = scaler_x.transform(X_test)"
      ],
      "metadata": {
        "id": "hoHqdSw48tfP"
      },
      "execution_count": 189,
      "outputs": []
    },
    {
      "cell_type": "code",
      "source": [
        "scaler_y = StandardScaler()\n",
        "\n",
        "y_train_scaled = scaler_y.fit_transform(y_train.values.reshape(-1, 1))\n",
        "y_test_scaled = scaler_y.transform(y_test.values.reshape(-1, 1))"
      ],
      "metadata": {
        "id": "6kkBPnhD86uh"
      },
      "execution_count": 190,
      "outputs": []
    },
    {
      "cell_type": "markdown",
      "source": [
        "#**Models**"
      ],
      "metadata": {
        "id": "nEpo4O839NDx"
      }
    },
    {
      "cell_type": "markdown",
      "source": [
        "##**RandomForestRegressor**"
      ],
      "metadata": {
        "id": "Jzy9dXtUUFkH"
      }
    },
    {
      "cell_type": "code",
      "source": [
        "from sklearn.ensemble import RandomForestRegressor, AdaBoostRegressor\n",
        "from sklearn.metrics import mean_squared_error"
      ],
      "metadata": {
        "id": "01tzyPqKyFAy"
      },
      "execution_count": 357,
      "outputs": []
    },
    {
      "cell_type": "code",
      "source": [
        "rf = RandomForestRegressor(n_estimators=12, random_state=42, criterion='squared_error')"
      ],
      "metadata": {
        "id": "3nHAJKFqFbEK"
      },
      "execution_count": 399,
      "outputs": []
    },
    {
      "cell_type": "code",
      "source": [
        "rf.fit(X_train_scaled, y_train_scaled.ravel())\n",
        "\n",
        "prediction=rf.predict(X_test_scaled)"
      ],
      "metadata": {
        "id": "U0ive1gG1syx"
      },
      "execution_count": 400,
      "outputs": []
    },
    {
      "cell_type": "code",
      "source": [
        "print(f'Root Mean Squared error (on Scaled Data): {np.sqrt(mean_squared_error(prediction,y_test_scaled)): .2f}')"
      ],
      "metadata": {
        "id": "YDB3LOvg1xhd",
        "colab": {
          "base_uri": "https://localhost:8080/"
        },
        "outputId": "b1ace085-02f9-459a-9af2-ba99d2f433a0"
      },
      "execution_count": 401,
      "outputs": [
        {
          "output_type": "stream",
          "name": "stdout",
          "text": [
            "Root Mean Squared error (on Scaled Data):  0.69\n"
          ]
        }
      ]
    },
    {
      "cell_type": "code",
      "source": [
        "predictions_original_scale = scaler_y.inverse_transform(prediction.reshape(-1, 1))\n",
        "\n",
        "\n",
        "mse = mean_squared_error(y_test, predictions_original_scale)\n",
        "\n",
        "print(f\"Root Mean Squared Error (on Original Scale): {np.sqrt(mse): .2f}\")"
      ],
      "metadata": {
        "colab": {
          "base_uri": "https://localhost:8080/"
        },
        "id": "E-NNf3y_EQdC",
        "outputId": "f3f408a6-fc4b-444f-b3d2-8db516bfe5e2"
      },
      "execution_count": 402,
      "outputs": [
        {
          "output_type": "stream",
          "name": "stdout",
          "text": [
            "Root Mean Squared Error (on Original Scale):  32.81\n"
          ]
        }
      ]
    },
    {
      "cell_type": "markdown",
      "source": [
        "##**AdaBoostRegressor**"
      ],
      "metadata": {
        "id": "iuTJ77oOUAGn"
      }
    },
    {
      "cell_type": "code",
      "source": [
        "ABR = AdaBoostRegressor(n_estimators=5, random_state=42, loss='square', learning_rate=0.1)"
      ],
      "metadata": {
        "id": "uUPDI6ISNfbq"
      },
      "execution_count": 403,
      "outputs": []
    },
    {
      "cell_type": "code",
      "source": [
        "ABR.fit(X_train_scaled, y_train_scaled.ravel())\n",
        "\n",
        "ABR_prediction=ABR.predict(X_test_scaled)"
      ],
      "metadata": {
        "id": "QVgur7EPO-m5"
      },
      "execution_count": 404,
      "outputs": []
    },
    {
      "cell_type": "code",
      "source": [
        "print(f'Root Mean Squared error (on Scaled Data): {np.sqrt(mean_squared_error(ABR_prediction,y_test_scaled)): .2f}')"
      ],
      "metadata": {
        "colab": {
          "base_uri": "https://localhost:8080/"
        },
        "id": "K-9mCSypO_Ss",
        "outputId": "53109742-9c0c-435e-d1f8-660169d060bf"
      },
      "execution_count": 405,
      "outputs": [
        {
          "output_type": "stream",
          "name": "stdout",
          "text": [
            "Root Mean Squared error (on Scaled Data):  0.71\n"
          ]
        }
      ]
    },
    {
      "cell_type": "code",
      "source": [
        "predictions_original_scale = scaler_y.inverse_transform(ABR_prediction.reshape(-1, 1))\n",
        "\n",
        "\n",
        "mse = mean_squared_error(y_test, predictions_original_scale)\n",
        "\n",
        "print(f\"Root Mean Squared Error (on Original Scale): {np.sqrt(mse): .2f}\")"
      ],
      "metadata": {
        "colab": {
          "base_uri": "https://localhost:8080/"
        },
        "id": "X7xtxxC4POLW",
        "outputId": "4ab7d43f-1e8e-4dd1-d501-26321fd1ceeb"
      },
      "execution_count": 406,
      "outputs": [
        {
          "output_type": "stream",
          "name": "stdout",
          "text": [
            "Root Mean Squared Error (on Original Scale):  33.80\n"
          ]
        }
      ]
    },
    {
      "cell_type": "code",
      "source": [],
      "metadata": {
        "id": "AwEpKHDiYDJM"
      },
      "execution_count": null,
      "outputs": []
    },
    {
      "cell_type": "markdown",
      "source": [
        "##**DecisionTreeRegressor**"
      ],
      "metadata": {
        "id": "tVW0JTLxZVDa"
      }
    },
    {
      "cell_type": "code",
      "source": [
        "from sklearn.tree import DecisionTreeRegressor"
      ],
      "metadata": {
        "id": "Cvbe3HmcYZ1e"
      },
      "execution_count": 407,
      "outputs": []
    },
    {
      "cell_type": "code",
      "source": [
        "DTR = DecisionTreeRegressor(criterion='squared_error')"
      ],
      "metadata": {
        "id": "p-FLY8CnYaID"
      },
      "execution_count": 411,
      "outputs": []
    },
    {
      "cell_type": "code",
      "source": [
        "DTR.fit(X_train_scaled, y_train_scaled.ravel())\n",
        "\n",
        "DTR_prediction=DTR.predict(X_test_scaled)"
      ],
      "metadata": {
        "id": "a8_iHs_CY8xt"
      },
      "execution_count": 412,
      "outputs": []
    },
    {
      "cell_type": "code",
      "source": [
        "print(f'Root Mean Squared error (on Scaled Data): {np.sqrt(mean_squared_error(DTR_prediction,y_test_scaled)): .2f}')"
      ],
      "metadata": {
        "colab": {
          "base_uri": "https://localhost:8080/"
        },
        "outputId": "46e09609-f876-4f52-eb7e-6aaaef0c13ff",
        "id": "dzdAa511Y8xv"
      },
      "execution_count": 413,
      "outputs": [
        {
          "output_type": "stream",
          "name": "stdout",
          "text": [
            "Root Mean Squared error (on Scaled Data):  0.85\n"
          ]
        }
      ]
    },
    {
      "cell_type": "code",
      "source": [
        "predictions_original_scale = scaler_y.inverse_transform(DTR_prediction.reshape(-1, 1))\n",
        "\n",
        "\n",
        "mse = mean_squared_error(y_test, predictions_original_scale)\n",
        "\n",
        "print(f\"Root Mean Squared Error (on Original Scale): {np.sqrt(mse): .2f}\")"
      ],
      "metadata": {
        "colab": {
          "base_uri": "https://localhost:8080/"
        },
        "outputId": "e252dab2-806b-45ef-91f7-76e5da1aec88",
        "id": "bO01n6SwY8xw"
      },
      "execution_count": 414,
      "outputs": [
        {
          "output_type": "stream",
          "name": "stdout",
          "text": [
            "Root Mean Squared Error (on Original Scale):  40.49\n"
          ]
        }
      ]
    },
    {
      "cell_type": "markdown",
      "source": [
        "**Hence, the RandomForestRegressor perform well among the models employed**"
      ],
      "metadata": {
        "id": "Una2Im9xZYAv"
      }
    }
  ]
}